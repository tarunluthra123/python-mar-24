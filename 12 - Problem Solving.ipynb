{
 "cells": [
  {
   "cell_type": "code",
   "execution_count": 1,
   "id": "ae7f6a76",
   "metadata": {},
   "outputs": [],
   "source": [
    "# print sep"
   ]
  },
  {
   "cell_type": "code",
   "execution_count": 3,
   "id": "842035a2",
   "metadata": {},
   "outputs": [
    {
     "name": "stdout",
     "output_type": "stream",
     "text": [
      "Hello World 5 0.2 True [2, 5, 7, 1] {1, 4, 7}\n"
     ]
    }
   ],
   "source": [
    "print(\"Hello\", \"World\", 5, 0.2, True, [2,5,7,1], {4,7,1})"
   ]
  },
  {
   "cell_type": "code",
   "execution_count": null,
   "id": "8cadaa29",
   "metadata": {},
   "outputs": [],
   "source": [
    "# by default, there is a separation of a space = ' '"
   ]
  },
  {
   "cell_type": "code",
   "execution_count": 4,
   "id": "0233ebf4",
   "metadata": {},
   "outputs": [
    {
     "name": "stdout",
     "output_type": "stream",
     "text": [
      "Hello,World\n"
     ]
    }
   ],
   "source": [
    "print(\"Hello\", \"World\", sep=',')"
   ]
  },
  {
   "cell_type": "code",
   "execution_count": 5,
   "id": "1fa50117",
   "metadata": {},
   "outputs": [
    {
     "name": "stdout",
     "output_type": "stream",
     "text": [
      "Hello[]123abc;./World\n"
     ]
    }
   ],
   "source": [
    "print(\"Hello\", \"World\", sep='[]123abc;./')"
   ]
  },
  {
   "cell_type": "code",
   "execution_count": null,
   "id": "b878b53b",
   "metadata": {},
   "outputs": [],
   "source": []
  },
  {
   "cell_type": "code",
   "execution_count": null,
   "id": "fc3f8b64",
   "metadata": {},
   "outputs": [],
   "source": []
  },
  {
   "cell_type": "code",
   "execution_count": null,
   "id": "d2c39069",
   "metadata": {},
   "outputs": [],
   "source": []
  },
  {
   "cell_type": "code",
   "execution_count": null,
   "id": "985342f3",
   "metadata": {},
   "outputs": [],
   "source": []
  },
  {
   "cell_type": "markdown",
   "id": "e64ccc0e",
   "metadata": {},
   "source": [
    "#### Quiz 1\n",
    "```py\n",
    "print(\"Hello\", \"World\", sep=',', end='+')\n",
    "print(\"Foo\", sep='./')\n",
    "print(\"Bar\", end=' 123')\n",
    "```"
   ]
  },
  {
   "cell_type": "code",
   "execution_count": 6,
   "id": "8c83dd3c",
   "metadata": {},
   "outputs": [
    {
     "name": "stdout",
     "output_type": "stream",
     "text": [
      "Hello,World+Foo\n",
      "Bar 123"
     ]
    }
   ],
   "source": [
    "print(\"Hello\", \"World\", sep=',', end='+')\n",
    "print(\"Foo\", sep='./') # end = '\\n' (by default)\n",
    "print(\"Bar\", end=' 123')"
   ]
  },
  {
   "cell_type": "code",
   "execution_count": null,
   "id": "41592752",
   "metadata": {},
   "outputs": [],
   "source": [
    "Hello,World+Foo\n",
    "Bar 123"
   ]
  },
  {
   "cell_type": "code",
   "execution_count": null,
   "id": "81fe4f52",
   "metadata": {},
   "outputs": [],
   "source": []
  },
  {
   "cell_type": "code",
   "execution_count": null,
   "id": "09f173b2",
   "metadata": {},
   "outputs": [],
   "source": []
  },
  {
   "cell_type": "code",
   "execution_count": null,
   "id": "f6e999dc",
   "metadata": {},
   "outputs": [],
   "source": []
  },
  {
   "cell_type": "code",
   "execution_count": null,
   "id": "97b43808",
   "metadata": {},
   "outputs": [],
   "source": []
  },
  {
   "cell_type": "code",
   "execution_count": null,
   "id": "a8448748",
   "metadata": {},
   "outputs": [],
   "source": []
  },
  {
   "cell_type": "code",
   "execution_count": null,
   "id": "6a3b54b1",
   "metadata": {},
   "outputs": [],
   "source": []
  },
  {
   "cell_type": "code",
   "execution_count": null,
   "id": "db881949",
   "metadata": {},
   "outputs": [],
   "source": []
  },
  {
   "cell_type": "code",
   "execution_count": null,
   "id": "8abb1265",
   "metadata": {},
   "outputs": [],
   "source": []
  },
  {
   "cell_type": "markdown",
   "id": "17f42647",
   "metadata": {},
   "source": [
    "### Lambda Functions\n",
    "![](https://www.scaler.com/topics/images/Python-Lambda-and-Anonymous-Function.webp)"
   ]
  },
  {
   "cell_type": "markdown",
   "id": "b153e43d",
   "metadata": {},
   "source": [
    "- How to use Lambda Functions in Python? - https://www.scaler.com/topics/how-to-use-lambda-functions-in-python/\n",
    "- Lambda and Anonymous Function in Python - https://www.scaler.com/topics/python/lambda-and-anonymous-function-in-python/"
   ]
  },
  {
   "cell_type": "code",
   "execution_count": 7,
   "id": "f38c3212",
   "metadata": {},
   "outputs": [],
   "source": [
    "def boring_square(x):\n",
    "    return x ** 2"
   ]
  },
  {
   "cell_type": "code",
   "execution_count": 8,
   "id": "6731fd27",
   "metadata": {},
   "outputs": [
    {
     "name": "stdout",
     "output_type": "stream",
     "text": [
      "36\n"
     ]
    }
   ],
   "source": [
    "print(boring_square(6))"
   ]
  },
  {
   "cell_type": "code",
   "execution_count": 9,
   "id": "aafab108",
   "metadata": {},
   "outputs": [
    {
     "name": "stdout",
     "output_type": "stream",
     "text": [
      "100\n"
     ]
    }
   ],
   "source": [
    "print(boring_square(10))"
   ]
  },
  {
   "cell_type": "code",
   "execution_count": null,
   "id": "c67a77ba",
   "metadata": {},
   "outputs": [],
   "source": []
  },
  {
   "cell_type": "code",
   "execution_count": null,
   "id": "9014b355",
   "metadata": {},
   "outputs": [],
   "source": [
    "# The function should contain only one line"
   ]
  },
  {
   "cell_type": "code",
   "execution_count": null,
   "id": "557470ad",
   "metadata": {},
   "outputs": [],
   "source": [
    "# lambda <arguments> : <return value>"
   ]
  },
  {
   "cell_type": "code",
   "execution_count": null,
   "id": "2fdb9d95",
   "metadata": {},
   "outputs": [],
   "source": []
  },
  {
   "cell_type": "code",
   "execution_count": 11,
   "id": "b8dd7f39",
   "metadata": {},
   "outputs": [],
   "source": [
    "cool_square = lambda x : x ** 2"
   ]
  },
  {
   "cell_type": "code",
   "execution_count": 12,
   "id": "4b823967",
   "metadata": {},
   "outputs": [
    {
     "name": "stdout",
     "output_type": "stream",
     "text": [
      "36\n",
      "100\n"
     ]
    }
   ],
   "source": [
    "print(cool_square(6))\n",
    "print(cool_square(10))"
   ]
  },
  {
   "cell_type": "code",
   "execution_count": null,
   "id": "e1d88058",
   "metadata": {},
   "outputs": [],
   "source": []
  },
  {
   "cell_type": "code",
   "execution_count": null,
   "id": "9427d0dd",
   "metadata": {},
   "outputs": [],
   "source": []
  },
  {
   "cell_type": "code",
   "execution_count": 14,
   "id": "bd67645e",
   "metadata": {},
   "outputs": [],
   "source": [
    "def boring_add(x, y):\n",
    "    return x + y"
   ]
  },
  {
   "cell_type": "code",
   "execution_count": null,
   "id": "3c2d3ed9",
   "metadata": {},
   "outputs": [],
   "source": [
    "# lambda <arguments> : <return value>"
   ]
  },
  {
   "cell_type": "code",
   "execution_count": 15,
   "id": "25212887",
   "metadata": {},
   "outputs": [],
   "source": [
    "cool_add = lambda x,y : x + y"
   ]
  },
  {
   "cell_type": "code",
   "execution_count": 16,
   "id": "8e245591",
   "metadata": {},
   "outputs": [
    {
     "name": "stdout",
     "output_type": "stream",
     "text": [
      "9\n"
     ]
    }
   ],
   "source": [
    "print(cool_add(5, 4))"
   ]
  },
  {
   "cell_type": "code",
   "execution_count": 17,
   "id": "7b09c653",
   "metadata": {},
   "outputs": [
    {
     "name": "stdout",
     "output_type": "stream",
     "text": [
      "11\n"
     ]
    }
   ],
   "source": [
    "print(cool_add(8, 3))"
   ]
  },
  {
   "cell_type": "code",
   "execution_count": null,
   "id": "2fe4b7e5",
   "metadata": {},
   "outputs": [],
   "source": []
  },
  {
   "cell_type": "code",
   "execution_count": null,
   "id": "2845eeed",
   "metadata": {},
   "outputs": [],
   "source": []
  },
  {
   "cell_type": "code",
   "execution_count": null,
   "id": "63e1f0c5",
   "metadata": {},
   "outputs": [],
   "source": []
  },
  {
   "cell_type": "code",
   "execution_count": 22,
   "id": "0b5a3785",
   "metadata": {},
   "outputs": [],
   "source": [
    "# Typecasting = converting data from one type to another"
   ]
  },
  {
   "cell_type": "code",
   "execution_count": 23,
   "id": "433f00ca",
   "metadata": {},
   "outputs": [],
   "source": [
    "a = int(\"54\") # str to int"
   ]
  },
  {
   "cell_type": "code",
   "execution_count": 24,
   "id": "22481b58",
   "metadata": {},
   "outputs": [
    {
     "name": "stdout",
     "output_type": "stream",
     "text": [
      "54\n"
     ]
    }
   ],
   "source": [
    "print(a)"
   ]
  },
  {
   "cell_type": "code",
   "execution_count": null,
   "id": "761f1f99",
   "metadata": {},
   "outputs": [],
   "source": []
  },
  {
   "cell_type": "code",
   "execution_count": null,
   "id": "23a1c9e1",
   "metadata": {},
   "outputs": [],
   "source": []
  },
  {
   "cell_type": "code",
   "execution_count": 26,
   "id": "f660eccc",
   "metadata": {},
   "outputs": [
    {
     "name": "stdout",
     "output_type": "stream",
     "text": [
      "5.0\n"
     ]
    }
   ],
   "source": [
    "import math\n",
    "\n",
    "def square(x):\n",
    "    return x * x\n",
    "\n",
    "def pythagoras(a, b):\n",
    "    return math.sqrt(square(a) + square(b))\n",
    "\n",
    "print(pythagoras(3, 4)) # sqrt(3*3 + 4*4)"
   ]
  },
  {
   "cell_type": "code",
   "execution_count": null,
   "id": "c40c3cc9",
   "metadata": {},
   "outputs": [],
   "source": []
  },
  {
   "cell_type": "code",
   "execution_count": null,
   "id": "45a288f1",
   "metadata": {},
   "outputs": [],
   "source": []
  },
  {
   "cell_type": "code",
   "execution_count": null,
   "id": "e302c1a0",
   "metadata": {},
   "outputs": [],
   "source": []
  },
  {
   "cell_type": "code",
   "execution_count": null,
   "id": "b8567481",
   "metadata": {},
   "outputs": [],
   "source": [
    "Fill in the missing piece of code to get the value of ‘a’ as 5. (choose the block names)\n",
    "a = 0\n",
    "while True:\n",
    "    ___________\n",
    "    if a == 5:\n",
    "        break\n",
    "        \n",
    "A.\n",
    "a = a+1\n",
    "a %= 5\n",
    "a += 1\n",
    "\n",
    "B.\n",
    "a = a + 2\n",
    "a %= 5\n",
    "a += 1\n",
    "\n",
    "C.\n",
    "a = a + 1\n",
    "a %= 5\n",
    "a += 2\n",
    "\n",
    "D.\n",
    "a = a + 5\n",
    "a %= 5\n",
    "a += 5"
   ]
  },
  {
   "cell_type": "code",
   "execution_count": 29,
   "id": "00f1d855",
   "metadata": {},
   "outputs": [],
   "source": [
    "a = 0\n",
    "while True:\n",
    "    \n",
    "    a = a + 5\n",
    "    a %= 5\n",
    "    a += 5\n",
    "    \n",
    "    if a == 5:\n",
    "        break"
   ]
  },
  {
   "cell_type": "code",
   "execution_count": 30,
   "id": "49ffb09a",
   "metadata": {},
   "outputs": [
    {
     "data": {
      "text/plain": [
       "5"
      ]
     },
     "execution_count": 30,
     "metadata": {},
     "output_type": "execute_result"
    }
   ],
   "source": [
    "a"
   ]
  },
  {
   "cell_type": "code",
   "execution_count": null,
   "id": "53c44c5d",
   "metadata": {},
   "outputs": [],
   "source": []
  },
  {
   "cell_type": "code",
   "execution_count": null,
   "id": "9bcb2a71",
   "metadata": {},
   "outputs": [],
   "source": []
  },
  {
   "cell_type": "code",
   "execution_count": null,
   "id": "99db09f8",
   "metadata": {},
   "outputs": [],
   "source": []
  },
  {
   "cell_type": "code",
   "execution_count": 36,
   "id": "a1a07f78",
   "metadata": {},
   "outputs": [
    {
     "name": "stdout",
     "output_type": "stream",
     "text": [
      "a b c d e f g h i j k l m n o p q r s t u v w x y z "
     ]
    }
   ],
   "source": [
    "for i in range(26):\n",
    "    print(chr(i + ord('a')), end=' ')"
   ]
  },
  {
   "cell_type": "code",
   "execution_count": null,
   "id": "9ea89926",
   "metadata": {},
   "outputs": [],
   "source": [
    "chr(0 + 97) => 'a'\n",
    "chr(1 + 97) => 'b'\n",
    "chr(2 + 97) => 'c'"
   ]
  },
  {
   "cell_type": "code",
   "execution_count": null,
   "id": "798966f5",
   "metadata": {},
   "outputs": [],
   "source": []
  },
  {
   "cell_type": "code",
   "execution_count": null,
   "id": "e3020db1",
   "metadata": {},
   "outputs": [],
   "source": []
  },
  {
   "cell_type": "code",
   "execution_count": null,
   "id": "c40c7591",
   "metadata": {},
   "outputs": [],
   "source": []
  },
  {
   "cell_type": "markdown",
   "id": "0feac571",
   "metadata": {},
   "source": [
    "N = 8\n",
    "```\n",
    "********\n",
    "*     *\n",
    "*    *\n",
    "*   *\n",
    "*  *\n",
    "* *\n",
    "**\n",
    "*\n",
    "```"
   ]
  },
  {
   "cell_type": "code",
   "execution_count": 37,
   "id": "b2ec0c0f",
   "metadata": {},
   "outputs": [],
   "source": [
    "N = 8"
   ]
  },
  {
   "cell_type": "code",
   "execution_count": 42,
   "id": "366229cb",
   "metadata": {},
   "outputs": [
    {
     "name": "stdout",
     "output_type": "stream",
     "text": [
      "********\n",
      ".......\n",
      "......\n",
      ".....\n",
      "....\n",
      "...\n",
      "..\n"
     ]
    }
   ],
   "source": [
    "print('*' * N)\n",
    "\n",
    "for i in range(1, N-1):\n",
    "    for j in range(N-i):\n",
    "        print('.', end='')\n",
    "    print()"
   ]
  },
  {
   "cell_type": "code",
   "execution_count": 43,
   "id": "5038c053",
   "metadata": {},
   "outputs": [
    {
     "name": "stdout",
     "output_type": "stream",
     "text": [
      "********\n",
      "*     *\n",
      "*    *\n",
      "*   *\n",
      "*  *\n",
      "* *\n",
      "**\n"
     ]
    }
   ],
   "source": [
    "print('*' * N)\n",
    "\n",
    "for i in range(1, N-1):\n",
    "    for j in range(N-i):\n",
    "        if j == 0 or j == N-i-1:\n",
    "            print('*', end='')\n",
    "        else:\n",
    "            print(' ', end='')\n",
    "    print()"
   ]
  },
  {
   "cell_type": "code",
   "execution_count": 44,
   "id": "2190439f",
   "metadata": {},
   "outputs": [
    {
     "name": "stdout",
     "output_type": "stream",
     "text": [
      "********\n",
      "*     *\n",
      "*    *\n",
      "*   *\n",
      "*  *\n",
      "* *\n",
      "**\n",
      "*\n"
     ]
    }
   ],
   "source": [
    "print('*' * N)\n",
    "\n",
    "for i in range(1, N-1):\n",
    "    for j in range(N-i):\n",
    "        if j == 0 or j == N-i-1:\n",
    "            print('*', end='')\n",
    "        else:\n",
    "            print(' ', end='')\n",
    "    print()\n",
    "    \n",
    "print('*')"
   ]
  },
  {
   "cell_type": "code",
   "execution_count": null,
   "id": "e8f84821",
   "metadata": {},
   "outputs": [],
   "source": []
  },
  {
   "cell_type": "code",
   "execution_count": null,
   "id": "ac5f1925",
   "metadata": {},
   "outputs": [],
   "source": []
  },
  {
   "cell_type": "code",
   "execution_count": null,
   "id": "e9d61161",
   "metadata": {},
   "outputs": [],
   "source": []
  },
  {
   "cell_type": "code",
   "execution_count": 50,
   "id": "46861858",
   "metadata": {},
   "outputs": [
    {
     "name": "stdout",
     "output_type": "stream",
     "text": [
      "**********\n",
      "*       *\n",
      "*      *\n",
      "*     *\n",
      "*    *\n",
      "*   *\n",
      "*  *\n",
      "* *\n",
      "**\n",
      "*\n"
     ]
    }
   ],
   "source": [
    "def star(n):\n",
    "    for i in range(1, n+1):\n",
    "        print(\"*\", end = \"\")\n",
    "    print()\n",
    "    \n",
    "    for i in range(1, n):\n",
    "        for j in range(1, n+1-i):\n",
    "            if(j ==1 or j == n-i):\n",
    "                print(\"*\", end = \"\")\n",
    "            else:\n",
    "                print(\" \", end = \"\")\n",
    "        print()\n",
    "    \n",
    "star(10)"
   ]
  },
  {
   "cell_type": "code",
   "execution_count": null,
   "id": "51b96755",
   "metadata": {},
   "outputs": [],
   "source": []
  },
  {
   "cell_type": "code",
   "execution_count": null,
   "id": "2c13bb6a",
   "metadata": {},
   "outputs": [],
   "source": []
  },
  {
   "cell_type": "code",
   "execution_count": 52,
   "id": "efb3725d",
   "metadata": {},
   "outputs": [
    {
     "name": "stdout",
     "output_type": "stream",
     "text": [
      "<class 'dict'>\n",
      "<class 'set'>\n"
     ]
    }
   ],
   "source": [
    "dictionary = {}\n",
    "print(type(dictionary))\n",
    "my_set = set()\n",
    "print(type(my_set))"
   ]
  },
  {
   "cell_type": "code",
   "execution_count": 53,
   "id": "0f88e01d",
   "metadata": {},
   "outputs": [],
   "source": [
    "def duplicate(ls,n):\n",
    "    ans = None\n",
    "    ''' input:ls-List of elements and n-indicates the length of list\n",
    "    output:Return ans as True or False'''\n",
    "    for i in range(n):\n",
    "        if i != (n-1) and ls[i]==ls[i+1]:\n",
    "            ans=True\n",
    "            break\n",
    "        else:\n",
    "            ans=False\n",
    "    # YOUR CODE GOES HERE\n",
    "    return ans"
   ]
  },
  {
   "cell_type": "code",
   "execution_count": 55,
   "id": "5baafa46",
   "metadata": {},
   "outputs": [
    {
     "ename": "IndexError",
     "evalue": "list index out of range",
     "output_type": "error",
     "traceback": [
      "\u001b[0;31m---------------------------------------------------------------------------\u001b[0m",
      "\u001b[0;31mIndexError\u001b[0m                                Traceback (most recent call last)",
      "\u001b[0;32m/var/folders/jn/1bsrct314hv5xmfm7vrcdrzc0000gn/T/ipykernel_14256/2454173121.py\u001b[0m in \u001b[0;36m<module>\u001b[0;34m\u001b[0m\n\u001b[0;32m----> 1\u001b[0;31m \u001b[0mduplicate\u001b[0m\u001b[0;34m(\u001b[0m\u001b[0;34m[\u001b[0m\u001b[0;36m1\u001b[0m\u001b[0;34m,\u001b[0m\u001b[0;36m2\u001b[0m\u001b[0;34m]\u001b[0m\u001b[0;34m,\u001b[0m \u001b[0;36m4\u001b[0m\u001b[0;34m)\u001b[0m\u001b[0;34m\u001b[0m\u001b[0;34m\u001b[0m\u001b[0m\n\u001b[0m",
      "\u001b[0;32m/var/folders/jn/1bsrct314hv5xmfm7vrcdrzc0000gn/T/ipykernel_14256/3578932006.py\u001b[0m in \u001b[0;36mduplicate\u001b[0;34m(ls, n)\u001b[0m\n\u001b[1;32m      5\u001b[0m     \u001b[0;32mfor\u001b[0m \u001b[0mi\u001b[0m \u001b[0;32min\u001b[0m \u001b[0mrange\u001b[0m\u001b[0;34m(\u001b[0m\u001b[0mn\u001b[0m\u001b[0;34m)\u001b[0m\u001b[0;34m:\u001b[0m\u001b[0;34m\u001b[0m\u001b[0;34m\u001b[0m\u001b[0m\n\u001b[1;32m      6\u001b[0m         \u001b[0;32mif\u001b[0m \u001b[0mi\u001b[0m \u001b[0;34m!=\u001b[0m\u001b[0;34m(\u001b[0m\u001b[0mn\u001b[0m\u001b[0;34m-\u001b[0m\u001b[0;36m1\u001b[0m\u001b[0;34m)\u001b[0m\u001b[0;34m:\u001b[0m\u001b[0;34m\u001b[0m\u001b[0;34m\u001b[0m\u001b[0m\n\u001b[0;32m----> 7\u001b[0;31m             \u001b[0;32mif\u001b[0m \u001b[0mls\u001b[0m\u001b[0;34m[\u001b[0m\u001b[0mi\u001b[0m\u001b[0;34m]\u001b[0m\u001b[0;34m==\u001b[0m\u001b[0mls\u001b[0m\u001b[0;34m[\u001b[0m\u001b[0mi\u001b[0m\u001b[0;34m+\u001b[0m\u001b[0;36m1\u001b[0m\u001b[0;34m]\u001b[0m\u001b[0;34m:\u001b[0m\u001b[0;34m\u001b[0m\u001b[0;34m\u001b[0m\u001b[0m\n\u001b[0m\u001b[1;32m      8\u001b[0m                 \u001b[0mans\u001b[0m\u001b[0;34m=\u001b[0m\u001b[0;32mTrue\u001b[0m\u001b[0;34m\u001b[0m\u001b[0;34m\u001b[0m\u001b[0m\n\u001b[1;32m      9\u001b[0m                 \u001b[0;32mbreak\u001b[0m\u001b[0;34m\u001b[0m\u001b[0;34m\u001b[0m\u001b[0m\n",
      "\u001b[0;31mIndexError\u001b[0m: list index out of range"
     ]
    }
   ],
   "source": [
    "duplicate([1,2], 4)"
   ]
  },
  {
   "cell_type": "code",
   "execution_count": null,
   "id": "7027e412",
   "metadata": {},
   "outputs": [],
   "source": [
    "i != (n-1) \n",
    "# try checking < or > of something"
   ]
  },
  {
   "cell_type": "code",
   "execution_count": null,
   "id": "48d26682",
   "metadata": {},
   "outputs": [],
   "source": []
  },
  {
   "cell_type": "code",
   "execution_count": null,
   "id": "597818c7",
   "metadata": {},
   "outputs": [],
   "source": []
  },
  {
   "cell_type": "code",
   "execution_count": null,
   "id": "7ae96834",
   "metadata": {},
   "outputs": [],
   "source": []
  },
  {
   "cell_type": "code",
   "execution_count": null,
   "id": "352802dd",
   "metadata": {},
   "outputs": [],
   "source": []
  },
  {
   "cell_type": "code",
   "execution_count": null,
   "id": "20ae1fb6",
   "metadata": {},
   "outputs": [],
   "source": []
  },
  {
   "cell_type": "code",
   "execution_count": null,
   "id": "6adf6be6",
   "metadata": {},
   "outputs": [],
   "source": [
    "A = \"aabbccbb\"\n",
    "B = 98 => chr(B) => 'b'\n",
    "C = 100 => chr(C) => 'd'"
   ]
  },
  {
   "cell_type": "code",
   "execution_count": null,
   "id": "1dc37de8",
   "metadata": {},
   "outputs": [],
   "source": []
  },
  {
   "cell_type": "code",
   "execution_count": null,
   "id": "58f51395",
   "metadata": {},
   "outputs": [],
   "source": []
  },
  {
   "cell_type": "code",
   "execution_count": 56,
   "id": "57c9c27e",
   "metadata": {},
   "outputs": [],
   "source": [
    "A = \"aabbccbb\"\n",
    "# replace all occurrences of 'b' with 'd'"
   ]
  },
  {
   "cell_type": "code",
   "execution_count": null,
   "id": "1a73790a",
   "metadata": {},
   "outputs": [],
   "source": [
    "# replace all occurences of ASCII char of 98 with ASCII char of 100\n",
    "# replace all occurences of chr(98) with chr(100)"
   ]
  },
  {
   "cell_type": "code",
   "execution_count": null,
   "id": "63ad9eea",
   "metadata": {},
   "outputs": [],
   "source": []
  },
  {
   "cell_type": "code",
   "execution_count": 58,
   "id": "8b6a9a3b",
   "metadata": {},
   "outputs": [
    {
     "name": "stdout",
     "output_type": "stream",
     "text": [
      "{'a': 3, 'e': 3, 'd': 2, 's': 2, 'g': 1, 'r': 3, 'h': 2}\n"
     ]
    }
   ],
   "source": [
    "str1 = 'adasdargerheserh'\n",
    "freq = {}\n",
    "\n",
    "\n",
    "for i in set(str1):\n",
    "    freq[i] = str1.count(i)\n",
    "\n",
    "\n",
    "print(freq)"
   ]
  },
  {
   "cell_type": "code",
   "execution_count": null,
   "id": "d8a9af8a",
   "metadata": {},
   "outputs": [],
   "source": []
  },
  {
   "cell_type": "code",
   "execution_count": null,
   "id": "8e63e0ba",
   "metadata": {},
   "outputs": [],
   "source": []
  },
  {
   "cell_type": "code",
   "execution_count": null,
   "id": "ae3a7f40",
   "metadata": {},
   "outputs": [],
   "source": []
  },
  {
   "cell_type": "code",
   "execution_count": 71,
   "id": "4c9e11f7",
   "metadata": {},
   "outputs": [
    {
     "name": "stdout",
     "output_type": "stream",
     "text": [
      "{'t2': 0, 't1': 0, 't4': 0, 't3': -12}\n"
     ]
    }
   ],
   "source": [
    "A = {'t1' : -5, 't2' : -10, 't3' : -15}\n",
    "B = {'t3' : -12, 't4' : -20}\n",
    "\n",
    "keys = set(A.keys()).union(set(B.keys()))\n",
    "\n",
    "res = {}\n",
    "\n",
    "for k in keys:\n",
    "    value = max(A.get(k, 0), B.get(k, 0))\n",
    "    res[k] = value\n",
    "    \n",
    "print(res)"
   ]
  },
  {
   "cell_type": "code",
   "execution_count": 70,
   "id": "63dcbce5",
   "metadata": {},
   "outputs": [
    {
     "name": "stdout",
     "output_type": "stream",
     "text": [
      "{'t2': -10, 't1': -5, 't4': -20, 't3': -12}\n"
     ]
    }
   ],
   "source": [
    "A = {'t1' : -5, 't2' : -10, 't3' : -15}\n",
    "B = {'t3' : -12, 't4' : -20}\n",
    "\n",
    "keys = set(A.keys()).union(set(B.keys()))\n",
    "\n",
    "res = {}\n",
    "DEFAULT_VALUE = -10**6\n",
    "\n",
    "for k in keys:\n",
    "    value = max(A.get(k, DEFAULT_VALUE), B.get(k, DEFAULT_VALUE))\n",
    "    res[k] = value\n",
    "    \n",
    "print(res)"
   ]
  },
  {
   "cell_type": "code",
   "execution_count": 60,
   "id": "d98d1233",
   "metadata": {},
   "outputs": [
    {
     "name": "stdout",
     "output_type": "stream",
     "text": [
      "dict_keys(['t1', 't2', 't3'])\n"
     ]
    }
   ],
   "source": [
    "print(A.keys())"
   ]
  },
  {
   "cell_type": "code",
   "execution_count": 61,
   "id": "4c9780f8",
   "metadata": {},
   "outputs": [
    {
     "name": "stdout",
     "output_type": "stream",
     "text": [
      "dict_keys(['t3', 't4'])\n"
     ]
    }
   ],
   "source": [
    "print(B.keys())"
   ]
  },
  {
   "cell_type": "code",
   "execution_count": 63,
   "id": "7a1f3a7f",
   "metadata": {},
   "outputs": [
    {
     "data": {
      "text/plain": [
       "{'t1', 't2', 't3', 't4'}"
      ]
     },
     "execution_count": 63,
     "metadata": {},
     "output_type": "execute_result"
    }
   ],
   "source": [
    "set(A.keys()).union(set(B.keys()))\n",
    "# union of all keys of A and B"
   ]
  },
  {
   "cell_type": "code",
   "execution_count": null,
   "id": "f22f4c30",
   "metadata": {},
   "outputs": [],
   "source": [
    "# Constraints-\n",
    "# -105 < A[key] < 105\n",
    "# -105 < B[key] < 105"
   ]
  },
  {
   "cell_type": "code",
   "execution_count": null,
   "id": "96467c08",
   "metadata": {},
   "outputs": [],
   "source": []
  },
  {
   "cell_type": "code",
   "execution_count": null,
   "id": "cd698f67",
   "metadata": {},
   "outputs": [],
   "source": []
  },
  {
   "cell_type": "code",
   "execution_count": null,
   "id": "e2fefe79",
   "metadata": {},
   "outputs": [],
   "source": []
  },
  {
   "cell_type": "code",
   "execution_count": 72,
   "id": "8808d36c",
   "metadata": {},
   "outputs": [],
   "source": [
    "def merge(A, B):\n",
    "    keys = set(A.keys()).union(set(B.keys()))\n",
    "\n",
    "    res = {}\n",
    "    DEFAULT_VALUE = -10**6\n",
    "    \n",
    "    for k in keys:\n",
    "        value = max(A.get(k, DEFAULT_VALUE), B.get(k, DEFAULT_VALUE))\n",
    "        res[k] = value\n",
    "    \n",
    "    \n",
    "    return res"
   ]
  },
  {
   "cell_type": "code",
   "execution_count": null,
   "id": "1a429921",
   "metadata": {},
   "outputs": [],
   "source": []
  },
  {
   "cell_type": "code",
   "execution_count": null,
   "id": "a5c6f6d1",
   "metadata": {},
   "outputs": [],
   "source": []
  },
  {
   "cell_type": "code",
   "execution_count": 73,
   "id": "084c617f",
   "metadata": {},
   "outputs": [],
   "source": [
    "# in-place means make the changes in the provided array only\n",
    "# no need to make a new array"
   ]
  },
  {
   "cell_type": "code",
   "execution_count": null,
   "id": "04ccebfd",
   "metadata": {},
   "outputs": [],
   "source": []
  },
  {
   "cell_type": "code",
   "execution_count": 76,
   "id": "aafd2667",
   "metadata": {},
   "outputs": [
    {
     "name": "stdout",
     "output_type": "stream",
     "text": [
      "[1, 2, 5, 2, 4, 1, 2, 5]\n"
     ]
    }
   ],
   "source": [
    "a = [1, 2, 5, 2, 3, 4, 1, 2, 3, 5]\n",
    "\n",
    "\n",
    "while 3 in a:\n",
    "    a.remove(3)\n",
    "    \n",
    "print(a)"
   ]
  },
  {
   "cell_type": "code",
   "execution_count": null,
   "id": "fee29b57",
   "metadata": {},
   "outputs": [],
   "source": [
    "def removeAll(arr, val):\n",
    "    \n",
    "    while val in arr:\n",
    "        arr.remove(val) \n",
    "    \n",
    "    return arr"
   ]
  },
  {
   "cell_type": "code",
   "execution_count": null,
   "id": "ea30289d",
   "metadata": {},
   "outputs": [],
   "source": [
    "def removeAll(arr, val):\n",
    "    \n",
    "    for i in range(arr.count(val)):\n",
    "        arr.remove(val)\n",
    "    \n",
    "    return arr"
   ]
  },
  {
   "cell_type": "code",
   "execution_count": null,
   "id": "b6b5445c",
   "metadata": {},
   "outputs": [],
   "source": []
  },
  {
   "cell_type": "code",
   "execution_count": null,
   "id": "9bd33def",
   "metadata": {},
   "outputs": [],
   "source": []
  },
  {
   "cell_type": "code",
   "execution_count": 78,
   "id": "a8ec9af5",
   "metadata": {},
   "outputs": [
    {
     "name": "stdout",
     "output_type": "stream",
     "text": [
      "inf\n"
     ]
    }
   ],
   "source": [
    "x = float('inf')\n",
    "\n",
    "print(x)"
   ]
  },
  {
   "cell_type": "code",
   "execution_count": null,
   "id": "7bd362a0",
   "metadata": {},
   "outputs": [],
   "source": []
  }
 ],
 "metadata": {
  "kernelspec": {
   "display_name": "Python 3 (ipykernel)",
   "language": "python",
   "name": "python3"
  },
  "language_info": {
   "codemirror_mode": {
    "name": "ipython",
    "version": 3
   },
   "file_extension": ".py",
   "mimetype": "text/x-python",
   "name": "python",
   "nbconvert_exporter": "python",
   "pygments_lexer": "ipython3",
   "version": "3.9.18"
  }
 },
 "nbformat": 4,
 "nbformat_minor": 5
}
