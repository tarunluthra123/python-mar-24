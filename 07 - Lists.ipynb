{
 "cells": [
  {
   "cell_type": "markdown",
   "id": "ceff3835",
   "metadata": {},
   "source": [
    "# Python Lists\n",
    "![](https://scaler.com/topics/images/array-data-structure.webp)"
   ]
  },
  {
   "cell_type": "code",
   "execution_count": null,
   "id": "3e62a341",
   "metadata": {},
   "outputs": [],
   "source": [
    "# Agenda\n",
    "# Motivation behind lists\n",
    "# How to initialize lists?\n",
    "# Indexing lists\n",
    "# Negative indexing\n",
    "# List methods\n",
    "# Membership Operator - in\n",
    "# Iterating over lists\n",
    "# Taking list as input"
   ]
  },
  {
   "cell_type": "code",
   "execution_count": null,
   "id": "0942375e",
   "metadata": {},
   "outputs": [],
   "source": [
    "run1 = 2\n",
    "run2 = 0\n",
    "run3 = 4\n",
    "run4 = 1\n",
    "run5 = 3"
   ]
  },
  {
   "cell_type": "code",
   "execution_count": null,
   "id": "14fb2db8",
   "metadata": {},
   "outputs": [],
   "source": [
    "# Data structures\n",
    "# Arrays, sets, heaps, maps"
   ]
  },
  {
   "cell_type": "code",
   "execution_count": null,
   "id": "ed5fee7a",
   "metadata": {},
   "outputs": [],
   "source": [
    "# list (python) = array (c++, java, javascript)"
   ]
  },
  {
   "cell_type": "code",
   "execution_count": 1,
   "id": "1a9c0c24",
   "metadata": {},
   "outputs": [
    {
     "name": "stdout",
     "output_type": "stream",
     "text": [
      "[] <class 'list'>\n"
     ]
    }
   ],
   "source": [
    "runs = []\n",
    "print(runs, type(runs))"
   ]
  },
  {
   "cell_type": "code",
   "execution_count": 2,
   "id": "1006c10e",
   "metadata": {},
   "outputs": [
    {
     "name": "stdout",
     "output_type": "stream",
     "text": [
      "[2, 5, 1, 0, 3, 4] <class 'list'>\n"
     ]
    }
   ],
   "source": [
    "runs = [2, 5, 1, 0, 3, 4]\n",
    "print(runs, type(runs))"
   ]
  },
  {
   "cell_type": "code",
   "execution_count": 3,
   "id": "e0eef086",
   "metadata": {},
   "outputs": [
    {
     "name": "stdout",
     "output_type": "stream",
     "text": [
      "[2, 5, 1, 0, 3, 4, 9, 1, 5, 3, 7, 9, 10, 3, 2, 0, 0]\n"
     ]
    }
   ],
   "source": [
    "runs = [2, 5, 1, 0, 3, 4, 9, 1, 5, 3, 7, 9, 10, 3, 2, 0, 0]\n",
    "print(runs)"
   ]
  },
  {
   "cell_type": "code",
   "execution_count": null,
   "id": "3dccc773",
   "metadata": {},
   "outputs": [],
   "source": []
  },
  {
   "cell_type": "code",
   "execution_count": null,
   "id": "6a67489c",
   "metadata": {},
   "outputs": [],
   "source": []
  },
  {
   "cell_type": "markdown",
   "id": "e85e48d0",
   "metadata": {},
   "source": [
    "### Length of List\n",
    "![](https://scaler.com/topics/images/length-of-array-in-python-fi.webp)"
   ]
  },
  {
   "cell_type": "code",
   "execution_count": 4,
   "id": "ddfdb2b4",
   "metadata": {},
   "outputs": [
    {
     "name": "stdout",
     "output_type": "stream",
     "text": [
      "[2, 5, 1, 0, 3, 4, 9, 1, 5, 3, 7, 9, 10, 3, 2, 0, 0]\n",
      "17\n"
     ]
    }
   ],
   "source": [
    "runs = [2, 5, 1, 0, 3, 4, 9, 1, 5, 3, 7, 9, 10, 3, 2, 0, 0]\n",
    "print(runs)\n",
    "print(len(runs))"
   ]
  },
  {
   "cell_type": "code",
   "execution_count": null,
   "id": "a2ee2d76",
   "metadata": {},
   "outputs": [],
   "source": []
  },
  {
   "cell_type": "code",
   "execution_count": null,
   "id": "ee3f4052",
   "metadata": {},
   "outputs": [],
   "source": []
  },
  {
   "cell_type": "markdown",
   "id": "ac23b782",
   "metadata": {},
   "source": [
    "## Indexing\n",
    "![](https://scaler.com/topics/images/lists-in-python.webp)"
   ]
  },
  {
   "cell_type": "code",
   "execution_count": 5,
   "id": "5e780e1c",
   "metadata": {},
   "outputs": [
    {
     "name": "stdout",
     "output_type": "stream",
     "text": [
      "2\n"
     ]
    }
   ],
   "source": [
    "runs = [2, 5, 1, 0, 3, 4]\n",
    "\n",
    "print(runs[0])"
   ]
  },
  {
   "cell_type": "code",
   "execution_count": null,
   "id": "14f34d56",
   "metadata": {},
   "outputs": [],
   "source": [
    "# position number = index\n",
    "# indexing always starts from 0"
   ]
  },
  {
   "cell_type": "code",
   "execution_count": 6,
   "id": "1b332de8",
   "metadata": {},
   "outputs": [
    {
     "name": "stdout",
     "output_type": "stream",
     "text": [
      "1\n"
     ]
    }
   ],
   "source": [
    "print(runs[2])"
   ]
  },
  {
   "cell_type": "code",
   "execution_count": 7,
   "id": "2227df63",
   "metadata": {},
   "outputs": [
    {
     "name": "stdout",
     "output_type": "stream",
     "text": [
      "4\n"
     ]
    }
   ],
   "source": [
    "print(runs[5])"
   ]
  },
  {
   "cell_type": "code",
   "execution_count": 8,
   "id": "50b506be",
   "metadata": {},
   "outputs": [
    {
     "ename": "IndexError",
     "evalue": "list index out of range",
     "output_type": "error",
     "traceback": [
      "\u001b[0;31m---------------------------------------------------------------------------\u001b[0m",
      "\u001b[0;31mIndexError\u001b[0m                                Traceback (most recent call last)",
      "\u001b[0;32m/var/folders/jn/1bsrct314hv5xmfm7vrcdrzc0000gn/T/ipykernel_1873/2704952854.py\u001b[0m in \u001b[0;36m<module>\u001b[0;34m\u001b[0m\n\u001b[0;32m----> 1\u001b[0;31m \u001b[0mprint\u001b[0m\u001b[0;34m(\u001b[0m\u001b[0mruns\u001b[0m\u001b[0;34m[\u001b[0m\u001b[0;36m50\u001b[0m\u001b[0;34m]\u001b[0m\u001b[0;34m)\u001b[0m\u001b[0;34m\u001b[0m\u001b[0;34m\u001b[0m\u001b[0m\n\u001b[0m",
      "\u001b[0;31mIndexError\u001b[0m: list index out of range"
     ]
    }
   ],
   "source": [
    "print(runs[50])"
   ]
  },
  {
   "cell_type": "code",
   "execution_count": null,
   "id": "5464a20a",
   "metadata": {},
   "outputs": [],
   "source": []
  },
  {
   "cell_type": "code",
   "execution_count": 13,
   "id": "beee8fb5",
   "metadata": {},
   "outputs": [
    {
     "name": "stdout",
     "output_type": "stream",
     "text": [
      "10\n"
     ]
    }
   ],
   "source": [
    "runs = [2, 5, 1, 0, 2, 10]\n",
    "\n",
    "print(runs[len(runs) - 1])\n",
    "\n",
    "# runs[len(runs) - 1]\n",
    "# len(runs) = 6\n",
    "# runs[6 - 1] = runs[5] = 10"
   ]
  },
  {
   "cell_type": "code",
   "execution_count": null,
   "id": "5ca75a7f",
   "metadata": {},
   "outputs": [],
   "source": []
  },
  {
   "cell_type": "code",
   "execution_count": null,
   "id": "3c1c6e21",
   "metadata": {},
   "outputs": [],
   "source": []
  },
  {
   "cell_type": "code",
   "execution_count": null,
   "id": "80f4c1b0",
   "metadata": {},
   "outputs": [],
   "source": []
  },
  {
   "cell_type": "code",
   "execution_count": null,
   "id": "2cfc4016",
   "metadata": {},
   "outputs": [],
   "source": []
  },
  {
   "cell_type": "markdown",
   "id": "f672b881",
   "metadata": {},
   "source": [
    "## Negative Indexing\n",
    "![](https://scaler.com/topics/images/what-is-list-in-python.webp)"
   ]
  },
  {
   "cell_type": "code",
   "execution_count": 14,
   "id": "3d496a6d",
   "metadata": {},
   "outputs": [
    {
     "name": "stdout",
     "output_type": "stream",
     "text": [
      "6\n"
     ]
    }
   ],
   "source": [
    "runs = [4, 1, 3, 6]\n",
    "\n",
    "print(runs[-1]) # last element"
   ]
  },
  {
   "cell_type": "code",
   "execution_count": 15,
   "id": "bf416357",
   "metadata": {},
   "outputs": [
    {
     "name": "stdout",
     "output_type": "stream",
     "text": [
      "1\n"
     ]
    }
   ],
   "source": [
    "print(runs[-3])"
   ]
  },
  {
   "cell_type": "code",
   "execution_count": 17,
   "id": "3c025cfa",
   "metadata": {},
   "outputs": [
    {
     "name": "stdout",
     "output_type": "stream",
     "text": [
      "o\n",
      "o\n"
     ]
    }
   ],
   "source": [
    "s = ['p', 'y', 't', 'h', 'o', 'n']\n",
    "print(s[-2])\n",
    "print(s[4])"
   ]
  },
  {
   "cell_type": "code",
   "execution_count": 18,
   "id": "2b76b70f",
   "metadata": {},
   "outputs": [
    {
     "name": "stdout",
     "output_type": "stream",
     "text": [
      "h h\n"
     ]
    }
   ],
   "source": [
    "print(s[-3], s[3])"
   ]
  },
  {
   "cell_type": "code",
   "execution_count": null,
   "id": "d0ddada4",
   "metadata": {},
   "outputs": [],
   "source": []
  },
  {
   "cell_type": "code",
   "execution_count": null,
   "id": "2d14d79a",
   "metadata": {},
   "outputs": [],
   "source": []
  },
  {
   "cell_type": "code",
   "execution_count": null,
   "id": "510c71b8",
   "metadata": {},
   "outputs": [],
   "source": []
  },
  {
   "cell_type": "markdown",
   "id": "36c99be7",
   "metadata": {},
   "source": [
    "## Updating Data"
   ]
  },
  {
   "cell_type": "code",
   "execution_count": 19,
   "id": "f5a4a64f",
   "metadata": {},
   "outputs": [
    {
     "name": "stdout",
     "output_type": "stream",
     "text": [
      "[4, 10, 1]\n"
     ]
    }
   ],
   "source": [
    "a = [4, 9, 1]\n",
    "\n",
    "# Update the entry at index=1 to 10\n",
    "a[1] = 10\n",
    "\n",
    "print(a)"
   ]
  },
  {
   "cell_type": "code",
   "execution_count": 20,
   "id": "1cd9c113",
   "metadata": {},
   "outputs": [
    {
     "name": "stdout",
     "output_type": "stream",
     "text": [
      "[4, 10, 5]\n"
     ]
    }
   ],
   "source": [
    "a[2] = 5\n",
    "print(a)"
   ]
  },
  {
   "cell_type": "code",
   "execution_count": null,
   "id": "4546a70a",
   "metadata": {},
   "outputs": [],
   "source": []
  },
  {
   "cell_type": "code",
   "execution_count": null,
   "id": "5c95869c",
   "metadata": {},
   "outputs": [],
   "source": []
  },
  {
   "cell_type": "markdown",
   "id": "093fe23c",
   "metadata": {},
   "source": [
    "## Inserting Data"
   ]
  },
  {
   "cell_type": "code",
   "execution_count": 21,
   "id": "27931666",
   "metadata": {},
   "outputs": [
    {
     "name": "stdout",
     "output_type": "stream",
     "text": [
      "[10, 20, 30, 40]\n"
     ]
    }
   ],
   "source": [
    "a = [10, 20, 30]\n",
    "\n",
    "# Add another value 40 at the end of the list\n",
    "a.append(40)\n",
    "\n",
    "print(a)"
   ]
  },
  {
   "cell_type": "code",
   "execution_count": 22,
   "id": "f337f5c8",
   "metadata": {},
   "outputs": [
    {
     "name": "stdout",
     "output_type": "stream",
     "text": [
      "[10, 20, 30, 40, 50]\n"
     ]
    }
   ],
   "source": [
    "a.append(50)\n",
    "\n",
    "print(a)"
   ]
  },
  {
   "cell_type": "code",
   "execution_count": null,
   "id": "2fc5c877",
   "metadata": {},
   "outputs": [],
   "source": []
  },
  {
   "cell_type": "code",
   "execution_count": null,
   "id": "6b2cbd53",
   "metadata": {},
   "outputs": [],
   "source": []
  },
  {
   "cell_type": "markdown",
   "id": "0c066cc0",
   "metadata": {},
   "source": [
    "### Can I add an element at a particular index?"
   ]
  },
  {
   "cell_type": "code",
   "execution_count": 23,
   "id": "66c6f2f0",
   "metadata": {},
   "outputs": [],
   "source": [
    "a = [10, 20, 30, 40]"
   ]
  },
  {
   "cell_type": "code",
   "execution_count": 24,
   "id": "93dbac3a",
   "metadata": {},
   "outputs": [
    {
     "name": "stdout",
     "output_type": "stream",
     "text": [
      "[25, 10, 20, 30, 40]\n"
     ]
    }
   ],
   "source": [
    "# Let's add 25 at the starting = 0th index\n",
    "\n",
    "a.insert(0, 25)\n",
    "# index, value\n",
    "\n",
    "print(a)"
   ]
  },
  {
   "cell_type": "code",
   "execution_count": null,
   "id": "d2058548",
   "metadata": {},
   "outputs": [],
   "source": [
    "# Everything else is moved by one place forward"
   ]
  },
  {
   "cell_type": "code",
   "execution_count": null,
   "id": "0d962cdb",
   "metadata": {},
   "outputs": [],
   "source": []
  },
  {
   "cell_type": "code",
   "execution_count": 25,
   "id": "ef2d2ebe",
   "metadata": {},
   "outputs": [],
   "source": [
    "## extend()"
   ]
  },
  {
   "cell_type": "code",
   "execution_count": 27,
   "id": "36a17965",
   "metadata": {},
   "outputs": [],
   "source": [
    "a = [10, 20, 30]"
   ]
  },
  {
   "cell_type": "code",
   "execution_count": 28,
   "id": "a3e89932",
   "metadata": {},
   "outputs": [
    {
     "name": "stdout",
     "output_type": "stream",
     "text": [
      "[10, 20, 30, 40, 50, 60, 70, 80, 90]\n"
     ]
    }
   ],
   "source": [
    "a.extend([40, 50, 60, 70, 80, 90])\n",
    "print(a)"
   ]
  },
  {
   "cell_type": "code",
   "execution_count": null,
   "id": "80ecac36",
   "metadata": {},
   "outputs": [],
   "source": [
    "# extend() is going to take a list as an argument"
   ]
  },
  {
   "cell_type": "code",
   "execution_count": null,
   "id": "12263f75",
   "metadata": {},
   "outputs": [],
   "source": []
  },
  {
   "cell_type": "code",
   "execution_count": 29,
   "id": "c69a5e79",
   "metadata": {},
   "outputs": [
    {
     "name": "stdout",
     "output_type": "stream",
     "text": [
      "[10, 20, 30, 40, 50, 60, 70, 80, 90]\n"
     ]
    }
   ],
   "source": [
    "a = [10, 20, 30]\n",
    "a = a + [40, 50, 60, 70, 80, 90]\n",
    "\n",
    "print(a)"
   ]
  },
  {
   "cell_type": "code",
   "execution_count": null,
   "id": "94920ad9",
   "metadata": {},
   "outputs": [],
   "source": []
  },
  {
   "cell_type": "code",
   "execution_count": 30,
   "id": "2a4f2c74",
   "metadata": {},
   "outputs": [
    {
     "name": "stdout",
     "output_type": "stream",
     "text": [
      "[10, 20, 30, [40, 50]]\n"
     ]
    }
   ],
   "source": [
    "a = [10, 20, 30]\n",
    "a.append([40, 50])\n",
    "print(a)"
   ]
  },
  {
   "cell_type": "code",
   "execution_count": 31,
   "id": "89f6f197",
   "metadata": {},
   "outputs": [
    {
     "name": "stdout",
     "output_type": "stream",
     "text": [
      "[10, 20, 30, 40, 50]\n"
     ]
    }
   ],
   "source": [
    "a = [10, 20, 30]\n",
    "a.extend([40, 50])\n",
    "print(a)"
   ]
  },
  {
   "cell_type": "code",
   "execution_count": null,
   "id": "4799f75d",
   "metadata": {},
   "outputs": [],
   "source": []
  },
  {
   "cell_type": "code",
   "execution_count": null,
   "id": "67ca1417",
   "metadata": {},
   "outputs": [],
   "source": []
  },
  {
   "cell_type": "code",
   "execution_count": null,
   "id": "3049c202",
   "metadata": {},
   "outputs": [],
   "source": []
  },
  {
   "cell_type": "code",
   "execution_count": null,
   "id": "5730efed",
   "metadata": {},
   "outputs": [],
   "source": []
  },
  {
   "cell_type": "markdown",
   "id": "129da479",
   "metadata": {},
   "source": [
    "### Deleting the data"
   ]
  },
  {
   "cell_type": "code",
   "execution_count": 32,
   "id": "0516e0f6",
   "metadata": {},
   "outputs": [
    {
     "name": "stdout",
     "output_type": "stream",
     "text": [
      "[10, 20]\n"
     ]
    }
   ],
   "source": [
    "a = [10, 20, 30]\n",
    "\n",
    "# Delete the last entry\n",
    "a.pop()\n",
    "\n",
    "print(a)"
   ]
  },
  {
   "cell_type": "code",
   "execution_count": null,
   "id": "84849c62",
   "metadata": {},
   "outputs": [],
   "source": []
  },
  {
   "cell_type": "code",
   "execution_count": 33,
   "id": "bfbdeeb4",
   "metadata": {},
   "outputs": [
    {
     "name": "stdout",
     "output_type": "stream",
     "text": [
      "[10, 30]\n"
     ]
    }
   ],
   "source": [
    "a = [10, 20, 30]\n",
    "\n",
    "# Delete the entry at index = 1\n",
    "a.pop(1)\n",
    "\n",
    "print(a)"
   ]
  },
  {
   "cell_type": "code",
   "execution_count": null,
   "id": "bcf61869",
   "metadata": {},
   "outputs": [],
   "source": []
  },
  {
   "cell_type": "code",
   "execution_count": null,
   "id": "aa3b6273",
   "metadata": {},
   "outputs": [],
   "source": []
  },
  {
   "cell_type": "code",
   "execution_count": null,
   "id": "bb263791",
   "metadata": {},
   "outputs": [],
   "source": []
  },
  {
   "cell_type": "code",
   "execution_count": 34,
   "id": "06cdf260",
   "metadata": {},
   "outputs": [
    {
     "name": "stdout",
     "output_type": "stream",
     "text": [
      "[1, 2, 3, 4, 3, 4, 4, 5, 3]\n"
     ]
    }
   ],
   "source": [
    "# remove()\n",
    "\n",
    "a = [1, 2, 4, 3, 4, 3, 4, 4, 5, 3]\n",
    "\n",
    "a.remove(4) # it will remove the first occurence of 4 in the list\n",
    "\n",
    "print(a)"
   ]
  },
  {
   "cell_type": "code",
   "execution_count": null,
   "id": "3d18e1a6",
   "metadata": {},
   "outputs": [],
   "source": []
  },
  {
   "cell_type": "code",
   "execution_count": 37,
   "id": "0471f864",
   "metadata": {},
   "outputs": [
    {
     "name": "stdout",
     "output_type": "stream",
     "text": [
      "4\n",
      "1\n",
      "3\n"
     ]
    }
   ],
   "source": [
    "# count()\n",
    "\n",
    "a = [1, 2, 4, 3, 4, 3, 4, 4, 5, 3]\n",
    "\n",
    "print(a.count(4))\n",
    "print(a.count(5))\n",
    "print(a.count(3))"
   ]
  },
  {
   "cell_type": "code",
   "execution_count": null,
   "id": "69d01dad",
   "metadata": {},
   "outputs": [],
   "source": []
  },
  {
   "cell_type": "code",
   "execution_count": 38,
   "id": "4142c0c0",
   "metadata": {},
   "outputs": [
    {
     "name": "stdout",
     "output_type": "stream",
     "text": [
      "[]\n"
     ]
    }
   ],
   "source": [
    "a = [1, 2, 4, 3, 4, 3, 4, 4, 5, 3]\n",
    "a.clear()\n",
    "\n",
    "print(a)"
   ]
  },
  {
   "cell_type": "code",
   "execution_count": null,
   "id": "5011b68b",
   "metadata": {},
   "outputs": [],
   "source": []
  },
  {
   "cell_type": "code",
   "execution_count": 39,
   "id": "112837ca",
   "metadata": {},
   "outputs": [
    {
     "name": "stdout",
     "output_type": "stream",
     "text": [
      "2\n"
     ]
    }
   ],
   "source": [
    "# index()\n",
    "a = [10, 20, 30, 40, 50, 60]\n",
    "\n",
    "print(a.index(30))"
   ]
  },
  {
   "cell_type": "code",
   "execution_count": 40,
   "id": "a8fd73e8",
   "metadata": {},
   "outputs": [
    {
     "name": "stdout",
     "output_type": "stream",
     "text": [
      "5\n"
     ]
    }
   ],
   "source": [
    "print(a.index(60))"
   ]
  },
  {
   "cell_type": "code",
   "execution_count": 41,
   "id": "a89df243",
   "metadata": {},
   "outputs": [
    {
     "ename": "ValueError",
     "evalue": "600 is not in list",
     "output_type": "error",
     "traceback": [
      "\u001b[0;31m---------------------------------------------------------------------------\u001b[0m",
      "\u001b[0;31mValueError\u001b[0m                                Traceback (most recent call last)",
      "\u001b[0;32m/var/folders/jn/1bsrct314hv5xmfm7vrcdrzc0000gn/T/ipykernel_1873/2657351690.py\u001b[0m in \u001b[0;36m<module>\u001b[0;34m\u001b[0m\n\u001b[0;32m----> 1\u001b[0;31m \u001b[0mprint\u001b[0m\u001b[0;34m(\u001b[0m\u001b[0ma\u001b[0m\u001b[0;34m.\u001b[0m\u001b[0mindex\u001b[0m\u001b[0;34m(\u001b[0m\u001b[0;36m600\u001b[0m\u001b[0;34m)\u001b[0m\u001b[0;34m)\u001b[0m\u001b[0;34m\u001b[0m\u001b[0;34m\u001b[0m\u001b[0m\n\u001b[0m",
      "\u001b[0;31mValueError\u001b[0m: 600 is not in list"
     ]
    }
   ],
   "source": [
    "print(a.index(600))"
   ]
  },
  {
   "cell_type": "code",
   "execution_count": null,
   "id": "0da55727",
   "metadata": {},
   "outputs": [],
   "source": []
  },
  {
   "cell_type": "code",
   "execution_count": null,
   "id": "8c52a35c",
   "metadata": {},
   "outputs": [],
   "source": []
  },
  {
   "cell_type": "code",
   "execution_count": 43,
   "id": "f0c148d2",
   "metadata": {},
   "outputs": [
    {
     "name": "stdout",
     "output_type": "stream",
     "text": [
      "0\n",
      "2\n"
     ]
    }
   ],
   "source": [
    "a = [10, 10, 20, 10, 20, 30, 20]\n",
    "\n",
    "print(a.index(10)) # index of the first occurence\n",
    "print(a.index(20))"
   ]
  },
  {
   "cell_type": "code",
   "execution_count": null,
   "id": "d161b6bc",
   "metadata": {},
   "outputs": [],
   "source": []
  },
  {
   "cell_type": "code",
   "execution_count": 44,
   "id": "9a102dd9",
   "metadata": {},
   "outputs": [
    {
     "name": "stdout",
     "output_type": "stream",
     "text": [
      "3\n"
     ]
    }
   ],
   "source": [
    "print(a.count(20))"
   ]
  },
  {
   "cell_type": "code",
   "execution_count": 45,
   "id": "104e8e85",
   "metadata": {},
   "outputs": [
    {
     "name": "stdout",
     "output_type": "stream",
     "text": [
      "3\n"
     ]
    }
   ],
   "source": [
    "print(a.count(10))"
   ]
  },
  {
   "cell_type": "code",
   "execution_count": null,
   "id": "e396d5b0",
   "metadata": {},
   "outputs": [],
   "source": []
  },
  {
   "cell_type": "code",
   "execution_count": 46,
   "id": "d690817e",
   "metadata": {},
   "outputs": [],
   "source": [
    "# membership operator = in\n",
    "# boolean output"
   ]
  },
  {
   "cell_type": "code",
   "execution_count": 47,
   "id": "26409556",
   "metadata": {},
   "outputs": [],
   "source": [
    "# check if something exists in your list"
   ]
  },
  {
   "cell_type": "code",
   "execution_count": 50,
   "id": "83733d70",
   "metadata": {},
   "outputs": [
    {
     "name": "stdout",
     "output_type": "stream",
     "text": [
      "Hello Potter\n"
     ]
    }
   ],
   "source": [
    "person = 'James'\n",
    "potters = ['Harry', 'James', 'Lily']\n",
    "\n",
    "if person in potters:\n",
    "    print(\"Hello Potter\")\n",
    "else:\n",
    "    print(\"Bye\")"
   ]
  },
  {
   "cell_type": "code",
   "execution_count": null,
   "id": "f75a3379",
   "metadata": {},
   "outputs": [],
   "source": []
  },
  {
   "cell_type": "code",
   "execution_count": null,
   "id": "dea69ed8",
   "metadata": {},
   "outputs": [],
   "source": []
  },
  {
   "cell_type": "code",
   "execution_count": null,
   "id": "0c0d38fe",
   "metadata": {},
   "outputs": [],
   "source": []
  },
  {
   "cell_type": "markdown",
   "id": "6d4e424f",
   "metadata": {},
   "source": [
    "# Break till 10:05pm"
   ]
  },
  {
   "cell_type": "code",
   "execution_count": null,
   "id": "92dff625",
   "metadata": {},
   "outputs": [],
   "source": []
  },
  {
   "cell_type": "code",
   "execution_count": null,
   "id": "b18f2e52",
   "metadata": {},
   "outputs": [],
   "source": []
  },
  {
   "cell_type": "markdown",
   "id": "170475c7",
   "metadata": {},
   "source": [
    "#### Quiz 1\n",
    "```py\n",
    "runs = [10, 55, 4, 67, 17]\n",
    "runs.append(6)\n",
    "runs.append(200)\n",
    "print(runs[-1] + runs[2])\n",
    "```"
   ]
  },
  {
   "cell_type": "code",
   "execution_count": 51,
   "id": "7a10fc62",
   "metadata": {},
   "outputs": [
    {
     "name": "stdout",
     "output_type": "stream",
     "text": [
      "204\n"
     ]
    }
   ],
   "source": [
    "runs = [10, 55, 4, 67, 17]\n",
    "runs.append(6) # [10, 55, 4, 67, 17, 6]\n",
    "runs.append(200) # [10, 55, 4, 67, 17, 6, 200]\n",
    "print(runs[-1] + runs[2]) # 200 + 4"
   ]
  },
  {
   "cell_type": "code",
   "execution_count": null,
   "id": "293b10d6",
   "metadata": {},
   "outputs": [],
   "source": []
  },
  {
   "cell_type": "code",
   "execution_count": null,
   "id": "733b19c0",
   "metadata": {},
   "outputs": [],
   "source": []
  },
  {
   "cell_type": "markdown",
   "id": "7e808ec5",
   "metadata": {},
   "source": [
    "#### Quiz 2\n",
    "```py\n",
    "runs = [10, 55, 4, 67, 17]\n",
    "print(runs[0]+runs[-1]+runs[-3])\n",
    "```"
   ]
  },
  {
   "cell_type": "code",
   "execution_count": 52,
   "id": "97b2b42f",
   "metadata": {},
   "outputs": [
    {
     "name": "stdout",
     "output_type": "stream",
     "text": [
      "31\n"
     ]
    }
   ],
   "source": [
    "runs = [10, 55, 4, 67, 17]\n",
    "print(runs[0] + runs[-1] + runs[-3])\n",
    "# 10 + 17 + 4"
   ]
  },
  {
   "cell_type": "code",
   "execution_count": null,
   "id": "c1ac2178",
   "metadata": {},
   "outputs": [],
   "source": []
  },
  {
   "cell_type": "code",
   "execution_count": null,
   "id": "e767657e",
   "metadata": {},
   "outputs": [],
   "source": []
  },
  {
   "cell_type": "code",
   "execution_count": null,
   "id": "72f242c9",
   "metadata": {},
   "outputs": [],
   "source": []
  },
  {
   "cell_type": "code",
   "execution_count": null,
   "id": "a9cfa698",
   "metadata": {},
   "outputs": [],
   "source": []
  },
  {
   "cell_type": "markdown",
   "id": "f202e1a2",
   "metadata": {},
   "source": [
    "## Iterating over lists"
   ]
  },
  {
   "cell_type": "code",
   "execution_count": 53,
   "id": "1fbd6bd1",
   "metadata": {},
   "outputs": [],
   "source": [
    "# iterable = collection of values on which you can iterate\n",
    "# range()"
   ]
  },
  {
   "cell_type": "code",
   "execution_count": 56,
   "id": "d51b3d14",
   "metadata": {},
   "outputs": [
    {
     "name": "stdout",
     "output_type": "stream",
     "text": [
      "0 1 2 3 4 "
     ]
    }
   ],
   "source": [
    "for i in range(5):\n",
    "    print(i, end=' ')"
   ]
  },
  {
   "cell_type": "code",
   "execution_count": 55,
   "id": "f22cac5d",
   "metadata": {},
   "outputs": [
    {
     "name": "stdout",
     "output_type": "stream",
     "text": [
      "10 20 30 "
     ]
    }
   ],
   "source": [
    "for x in [10, 20, 30]:\n",
    "    print(x, end=' ')"
   ]
  },
  {
   "cell_type": "code",
   "execution_count": null,
   "id": "4fcf43d5",
   "metadata": {},
   "outputs": [],
   "source": [
    "# 1st iteration, x = 10\n",
    "# 2nd iteration, x = 20\n",
    "# 3rd iteration, x = 30"
   ]
  },
  {
   "cell_type": "code",
   "execution_count": null,
   "id": "31358bf4",
   "metadata": {},
   "outputs": [],
   "source": []
  },
  {
   "cell_type": "code",
   "execution_count": 57,
   "id": "3e56ba41",
   "metadata": {},
   "outputs": [
    {
     "name": "stdout",
     "output_type": "stream",
     "text": [
      "10 20 30 "
     ]
    }
   ],
   "source": [
    "a = [10, 20, 30]\n",
    "\n",
    "for x in a:\n",
    "    print(x, end=' ')"
   ]
  },
  {
   "cell_type": "code",
   "execution_count": null,
   "id": "86137c69",
   "metadata": {},
   "outputs": [],
   "source": []
  },
  {
   "cell_type": "code",
   "execution_count": null,
   "id": "5561f554",
   "metadata": {},
   "outputs": [],
   "source": [
    "# iterating with indexes"
   ]
  },
  {
   "cell_type": "code",
   "execution_count": 62,
   "id": "25366e73",
   "metadata": {},
   "outputs": [
    {
     "name": "stdout",
     "output_type": "stream",
     "text": [
      "10\n",
      "20\n",
      "30\n",
      "40\n"
     ]
    }
   ],
   "source": [
    "a = [10, 20, 30, 40]\n",
    "\n",
    "print(a[0])\n",
    "print(a[1])\n",
    "print(a[2])\n",
    "print(a[3])"
   ]
  },
  {
   "cell_type": "code",
   "execution_count": 63,
   "id": "c1df1a00",
   "metadata": {},
   "outputs": [],
   "source": [
    "# indexes = 0 to 3"
   ]
  },
  {
   "cell_type": "code",
   "execution_count": 64,
   "id": "200c6347",
   "metadata": {},
   "outputs": [
    {
     "name": "stdout",
     "output_type": "stream",
     "text": [
      "10\n",
      "20\n",
      "30\n",
      "40\n"
     ]
    }
   ],
   "source": [
    "a = [10, 20, 30, 40]\n",
    "\n",
    "for i in range(4):\n",
    "    print(a[i])"
   ]
  },
  {
   "cell_type": "code",
   "execution_count": null,
   "id": "d519154d",
   "metadata": {},
   "outputs": [],
   "source": []
  },
  {
   "cell_type": "code",
   "execution_count": null,
   "id": "714a530c",
   "metadata": {},
   "outputs": [],
   "source": [
    "# Generic"
   ]
  },
  {
   "cell_type": "code",
   "execution_count": 65,
   "id": "f096ce34",
   "metadata": {},
   "outputs": [
    {
     "name": "stdout",
     "output_type": "stream",
     "text": [
      "10\n",
      "20\n",
      "30\n",
      "40\n"
     ]
    }
   ],
   "source": [
    "a = [10, 20, 30, 40]\n",
    "\n",
    "for i in range(len(a)):\n",
    "    print(a[i])"
   ]
  },
  {
   "cell_type": "code",
   "execution_count": 69,
   "id": "02650584",
   "metadata": {},
   "outputs": [
    {
     "name": "stdout",
     "output_type": "stream",
     "text": [
      "index= 0    element= 10\n",
      "index= 1    element= 20\n",
      "index= 2    element= 30\n",
      "index= 3    element= 40\n"
     ]
    }
   ],
   "source": [
    "a = [10, 20, 30, 40]\n",
    "\n",
    "for i in range(len(a)):\n",
    "    print('index=', i, '   element=', a[i])"
   ]
  },
  {
   "cell_type": "code",
   "execution_count": 67,
   "id": "6b1f7881",
   "metadata": {},
   "outputs": [
    {
     "name": "stdout",
     "output_type": "stream",
     "text": [
      "4\n"
     ]
    }
   ],
   "source": [
    "print(len(a))"
   ]
  },
  {
   "cell_type": "code",
   "execution_count": null,
   "id": "b775b08f",
   "metadata": {},
   "outputs": [],
   "source": []
  },
  {
   "cell_type": "code",
   "execution_count": null,
   "id": "34dd9127",
   "metadata": {},
   "outputs": [],
   "source": []
  },
  {
   "cell_type": "code",
   "execution_count": null,
   "id": "4ec075f7",
   "metadata": {},
   "outputs": [],
   "source": []
  },
  {
   "cell_type": "code",
   "execution_count": null,
   "id": "7bc2856a",
   "metadata": {},
   "outputs": [],
   "source": []
  },
  {
   "cell_type": "markdown",
   "id": "ca55443a",
   "metadata": {},
   "source": [
    "#### Quiz 3\n",
    "```py\n",
    "my_list = [1, 2, 3, 4, 5]\n",
    "i = -1\n",
    "while i >= -5:\n",
    "    print(my_list[i], end=\" \")\n",
    "    i -= 1\n",
    "\n",
    "```\n"
   ]
  },
  {
   "cell_type": "code",
   "execution_count": 70,
   "id": "f80dcb04",
   "metadata": {},
   "outputs": [
    {
     "name": "stdout",
     "output_type": "stream",
     "text": [
      "5 4 3 2 1 "
     ]
    }
   ],
   "source": [
    "my_list = [1, 2, 3, 4, 5]\n",
    "i = -1\n",
    "while i >= -5:\n",
    "    print(my_list[i], end=\" \")\n",
    "    i -= 1\n"
   ]
  },
  {
   "cell_type": "code",
   "execution_count": null,
   "id": "91285faf",
   "metadata": {},
   "outputs": [],
   "source": []
  },
  {
   "cell_type": "code",
   "execution_count": null,
   "id": "6fa74d69",
   "metadata": {},
   "outputs": [],
   "source": []
  },
  {
   "cell_type": "code",
   "execution_count": 71,
   "id": "67bc2c5d",
   "metadata": {},
   "outputs": [],
   "source": [
    "runs = [67, 54, 12, 34, 77, 89, 101]"
   ]
  },
  {
   "cell_type": "code",
   "execution_count": null,
   "id": "1fd6c33c",
   "metadata": {},
   "outputs": [],
   "source": [
    "# Calculate the sum, average, min and max"
   ]
  },
  {
   "cell_type": "code",
   "execution_count": null,
   "id": "a5341f03",
   "metadata": {},
   "outputs": [],
   "source": []
  },
  {
   "cell_type": "code",
   "execution_count": 73,
   "id": "19924204",
   "metadata": {},
   "outputs": [
    {
     "name": "stdout",
     "output_type": "stream",
     "text": [
      "Sum is 434\n"
     ]
    }
   ],
   "source": [
    "# Sum\n",
    "total = 0\n",
    "\n",
    "for x in runs:\n",
    "    total += x\n",
    "    \n",
    "print(\"Sum is\", total)"
   ]
  },
  {
   "cell_type": "code",
   "execution_count": 74,
   "id": "53d10099",
   "metadata": {},
   "outputs": [
    {
     "name": "stdout",
     "output_type": "stream",
     "text": [
      "434\n"
     ]
    }
   ],
   "source": [
    "# Inbuilt function\n",
    "print(sum(runs))"
   ]
  },
  {
   "cell_type": "code",
   "execution_count": null,
   "id": "d03fa4b8",
   "metadata": {},
   "outputs": [],
   "source": []
  },
  {
   "cell_type": "code",
   "execution_count": null,
   "id": "b17b4f97",
   "metadata": {},
   "outputs": [],
   "source": [
    "# Average"
   ]
  },
  {
   "cell_type": "code",
   "execution_count": 75,
   "id": "25bed0a6",
   "metadata": {},
   "outputs": [
    {
     "name": "stdout",
     "output_type": "stream",
     "text": [
      "Average is 62.0\n"
     ]
    }
   ],
   "source": [
    "avg = total / len(runs)\n",
    "print(\"Average is\", avg)"
   ]
  },
  {
   "cell_type": "code",
   "execution_count": null,
   "id": "b735b75a",
   "metadata": {},
   "outputs": [],
   "source": []
  },
  {
   "cell_type": "code",
   "execution_count": null,
   "id": "2e405937",
   "metadata": {},
   "outputs": [],
   "source": []
  },
  {
   "cell_type": "code",
   "execution_count": 76,
   "id": "623d3108",
   "metadata": {},
   "outputs": [],
   "source": [
    "runs = [67, 54, 12, 34, 77, 89, 101]"
   ]
  },
  {
   "cell_type": "code",
   "execution_count": 77,
   "id": "c9b13777",
   "metadata": {},
   "outputs": [],
   "source": [
    "# Minimum"
   ]
  },
  {
   "cell_type": "code",
   "execution_count": 80,
   "id": "f53ce921",
   "metadata": {},
   "outputs": [
    {
     "name": "stdout",
     "output_type": "stream",
     "text": [
      "Minimum value is 12\n"
     ]
    }
   ],
   "source": [
    "min_value = runs[0] # pick any random value from the list as an initial value\n",
    "\n",
    "for x in runs:\n",
    "    # If I find a smaller number, update min_value\n",
    "    if x < min_value:\n",
    "        min_value = x\n",
    "        \n",
    "print(\"Minimum value is\", min_value)"
   ]
  },
  {
   "cell_type": "code",
   "execution_count": 81,
   "id": "eab1b296",
   "metadata": {},
   "outputs": [
    {
     "name": "stdout",
     "output_type": "stream",
     "text": [
      "12\n"
     ]
    }
   ],
   "source": [
    "# Inbuilt method\n",
    "print(min(runs))"
   ]
  },
  {
   "cell_type": "code",
   "execution_count": null,
   "id": "99b55f97",
   "metadata": {},
   "outputs": [],
   "source": []
  },
  {
   "cell_type": "code",
   "execution_count": null,
   "id": "f4a4b7e6",
   "metadata": {},
   "outputs": [],
   "source": [
    "# Maximum\n",
    "# Implement on your own"
   ]
  },
  {
   "cell_type": "code",
   "execution_count": null,
   "id": "aec569fd",
   "metadata": {},
   "outputs": [],
   "source": []
  },
  {
   "cell_type": "code",
   "execution_count": 82,
   "id": "4db1f04a",
   "metadata": {},
   "outputs": [
    {
     "name": "stdout",
     "output_type": "stream",
     "text": [
      "101\n"
     ]
    }
   ],
   "source": [
    "# Inbuilt method\n",
    "print(max(runs))"
   ]
  },
  {
   "cell_type": "code",
   "execution_count": null,
   "id": "4a699d2f",
   "metadata": {},
   "outputs": [],
   "source": []
  },
  {
   "cell_type": "code",
   "execution_count": null,
   "id": "c65a8186",
   "metadata": {},
   "outputs": [],
   "source": []
  },
  {
   "cell_type": "markdown",
   "id": "626673b1",
   "metadata": {},
   "source": [
    "#### Quiz 4\n",
    "What is the output of the following code?\n",
    "```py\n",
    "my_list = [10, 20, 30, 40, 50]\n",
    "i = 0\n",
    "while i < len(my_list):\n",
    "    my_list[i] *= 2\n",
    "    i += 1\n",
    "print(my_list)\n",
    "```"
   ]
  },
  {
   "cell_type": "code",
   "execution_count": 83,
   "id": "d5445b8e",
   "metadata": {},
   "outputs": [
    {
     "name": "stdout",
     "output_type": "stream",
     "text": [
      "[20, 40, 60, 80, 100]\n"
     ]
    }
   ],
   "source": [
    "my_list = [10, 20, 30, 40, 50]\n",
    "i = 0\n",
    "while i < len(my_list):\n",
    "    my_list[i] *= 2\n",
    "    i += 1\n",
    "print(my_list)"
   ]
  },
  {
   "cell_type": "code",
   "execution_count": null,
   "id": "1f87483a",
   "metadata": {},
   "outputs": [],
   "source": []
  },
  {
   "cell_type": "code",
   "execution_count": null,
   "id": "89a89b8b",
   "metadata": {},
   "outputs": [],
   "source": []
  },
  {
   "cell_type": "markdown",
   "id": "4c40cefc",
   "metadata": {},
   "source": [
    "### How do I take a list as input?\n",
    "\n",
    "- **Getting the number of elements**: We first prompt the user to enter the number of elements they want to input into the list.\n",
    "\n",
    "- **Initializing an empty list**: We create an empty list (my_list) that will hold the elements entered by the user.\n",
    "\n",
    "- **Using a for loop**: We use a for loop to iterate over a range of numbers starting from 0 to num_elements - 1.\n",
    "\n",
    "- **Getting input for each element**: Inside the loop, we prompt the user to enter each element one by one. The `input()` function is used to take user input, and the entered element is appended to the list using the `append()` method."
   ]
  },
  {
   "cell_type": "code",
   "execution_count": null,
   "id": "f46adb04",
   "metadata": {},
   "outputs": [],
   "source": []
  },
  {
   "cell_type": "code",
   "execution_count": null,
   "id": "3d1a7091",
   "metadata": {},
   "outputs": [],
   "source": [
    "# Sample Input:\n",
    "# 4\n",
    "# 10\n",
    "# 20\n",
    "# 30\n",
    "# 40"
   ]
  },
  {
   "cell_type": "code",
   "execution_count": 84,
   "id": "2a08400e",
   "metadata": {},
   "outputs": [],
   "source": [
    "# Sample Output: [10, 20, 30, 40]"
   ]
  },
  {
   "cell_type": "code",
   "execution_count": null,
   "id": "424ffaf6",
   "metadata": {},
   "outputs": [],
   "source": []
  },
  {
   "cell_type": "code",
   "execution_count": 86,
   "id": "610fffb7",
   "metadata": {},
   "outputs": [
    {
     "name": "stdout",
     "output_type": "stream",
     "text": [
      "Enter the size of the list4\n"
     ]
    }
   ],
   "source": [
    "n = int(input(\"Enter the size of the list\"))"
   ]
  },
  {
   "cell_type": "code",
   "execution_count": 87,
   "id": "cad4bc28",
   "metadata": {},
   "outputs": [],
   "source": [
    "a = []"
   ]
  },
  {
   "cell_type": "code",
   "execution_count": 88,
   "id": "c8683fc0",
   "metadata": {},
   "outputs": [
    {
     "name": "stdout",
     "output_type": "stream",
     "text": [
      "Enter the input10\n",
      "Enter the input20\n",
      "Enter the input30\n",
      "Enter the input40\n"
     ]
    }
   ],
   "source": [
    "for i in range(n):\n",
    "    element = int(input(\"Enter the input\"))\n",
    "    a.append(element)"
   ]
  },
  {
   "cell_type": "code",
   "execution_count": 89,
   "id": "69328864",
   "metadata": {},
   "outputs": [
    {
     "name": "stdout",
     "output_type": "stream",
     "text": [
      "[10, 20, 30, 40]\n"
     ]
    }
   ],
   "source": [
    "print(a)"
   ]
  },
  {
   "cell_type": "code",
   "execution_count": null,
   "id": "551b3568",
   "metadata": {},
   "outputs": [],
   "source": []
  },
  {
   "cell_type": "code",
   "execution_count": null,
   "id": "fffe2858",
   "metadata": {},
   "outputs": [],
   "source": []
  },
  {
   "cell_type": "code",
   "execution_count": 90,
   "id": "20fbdd1e",
   "metadata": {},
   "outputs": [
    {
     "name": "stdout",
     "output_type": "stream",
     "text": [
      "5\n",
      "85\n",
      "36\n",
      "90\n",
      "82\n",
      "46\n",
      "[85, 36, 90, 82, 46]\n"
     ]
    }
   ],
   "source": [
    "n = int(input())\n",
    "\n",
    "a = []\n",
    "\n",
    "for i in range(n):\n",
    "    element = int(input())\n",
    "    a.append(element)\n",
    "    \n",
    "print(a)"
   ]
  },
  {
   "cell_type": "code",
   "execution_count": null,
   "id": "435da360",
   "metadata": {},
   "outputs": [],
   "source": []
  },
  {
   "cell_type": "code",
   "execution_count": 93,
   "id": "016e9e59",
   "metadata": {},
   "outputs": [
    {
     "name": "stdout",
     "output_type": "stream",
     "text": [
      "[1, 2, 3]\n"
     ]
    }
   ],
   "source": [
    "a = []\n",
    "\n",
    "a.extend([1,2,3])\n",
    "\n",
    "print(a)"
   ]
  },
  {
   "cell_type": "code",
   "execution_count": 96,
   "id": "e0d1a5b1",
   "metadata": {},
   "outputs": [
    {
     "name": "stdout",
     "output_type": "stream",
     "text": [
      "[1, 2, 3, 4]\n"
     ]
    }
   ],
   "source": [
    "a = [1,2,3,4]\n",
    "b = []\n",
    "\n",
    "for x in a:\n",
    "    b.append(x)\n",
    "\n",
    "print(b)"
   ]
  },
  {
   "cell_type": "code",
   "execution_count": null,
   "id": "d7d02fc3",
   "metadata": {},
   "outputs": [],
   "source": []
  },
  {
   "cell_type": "code",
   "execution_count": null,
   "id": "210f1119",
   "metadata": {},
   "outputs": [],
   "source": []
  },
  {
   "cell_type": "code",
   "execution_count": null,
   "id": "f49e7d7a",
   "metadata": {},
   "outputs": [],
   "source": []
  },
  {
   "cell_type": "code",
   "execution_count": null,
   "id": "e386cedb",
   "metadata": {},
   "outputs": [],
   "source": [
    "### What if the entire input is provided in one single line ?"
   ]
  },
  {
   "cell_type": "code",
   "execution_count": null,
   "id": "f0e6905a",
   "metadata": {},
   "outputs": [],
   "source": [
    "# Sample Input:\n",
    "# 4\n",
    "# 10 20 30 40"
   ]
  },
  {
   "cell_type": "code",
   "execution_count": 97,
   "id": "f827874e",
   "metadata": {},
   "outputs": [
    {
     "name": "stdout",
     "output_type": "stream",
     "text": [
      "4\n"
     ]
    }
   ],
   "source": [
    "n = int(input())"
   ]
  },
  {
   "cell_type": "code",
   "execution_count": 100,
   "id": "3f71f1f0",
   "metadata": {},
   "outputs": [
    {
     "name": "stdout",
     "output_type": "stream",
     "text": [
      "10 20 30 40 50 60 70\n"
     ]
    }
   ],
   "source": [
    "l = list(map(int, input().split()))"
   ]
  },
  {
   "cell_type": "code",
   "execution_count": 101,
   "id": "c0cd5ef0",
   "metadata": {},
   "outputs": [
    {
     "name": "stdout",
     "output_type": "stream",
     "text": [
      "[10, 20, 30, 40, 50, 60, 70]\n"
     ]
    }
   ],
   "source": [
    "print(l)"
   ]
  },
  {
   "cell_type": "code",
   "execution_count": null,
   "id": "7671a6a3",
   "metadata": {},
   "outputs": [],
   "source": [
    "# What is map ? What is split() ?\n",
    "# How is everything working here ?\n",
    "# Leave it"
   ]
  },
  {
   "cell_type": "code",
   "execution_count": null,
   "id": "a14ac953",
   "metadata": {},
   "outputs": [],
   "source": [
    "# .split() covered in the strings lecture"
   ]
  },
  {
   "cell_type": "code",
   "execution_count": null,
   "id": "11a6ce79",
   "metadata": {},
   "outputs": [],
   "source": [
    "# map() is slightly advanced python\n",
    "# Functional programming"
   ]
  },
  {
   "cell_type": "code",
   "execution_count": null,
   "id": "7f6be312",
   "metadata": {},
   "outputs": [],
   "source": []
  },
  {
   "cell_type": "code",
   "execution_count": null,
   "id": "08550378",
   "metadata": {},
   "outputs": [],
   "source": []
  },
  {
   "cell_type": "code",
   "execution_count": null,
   "id": "3de2b9a5",
   "metadata": {},
   "outputs": [],
   "source": []
  },
  {
   "cell_type": "code",
   "execution_count": 102,
   "id": "09fe9b65",
   "metadata": {},
   "outputs": [],
   "source": [
    "# What if size and  data is given in the input together ?"
   ]
  },
  {
   "cell_type": "code",
   "execution_count": 103,
   "id": "c856cbb5",
   "metadata": {},
   "outputs": [],
   "source": [
    "# Sample Input:\n",
    "# 4 10 20 30 40\n",
    "\n",
    "# Sample Output:\n",
    "# [10, 20, 30, 40]"
   ]
  },
  {
   "cell_type": "code",
   "execution_count": 104,
   "id": "235be76f",
   "metadata": {},
   "outputs": [
    {
     "name": "stdout",
     "output_type": "stream",
     "text": [
      "4 10 20 30 40\n"
     ]
    }
   ],
   "source": [
    "N, *arr = map(int, input().split())"
   ]
  },
  {
   "cell_type": "code",
   "execution_count": 105,
   "id": "4531bcd2",
   "metadata": {},
   "outputs": [
    {
     "name": "stdout",
     "output_type": "stream",
     "text": [
      "[10, 20, 30, 40]\n"
     ]
    }
   ],
   "source": [
    "print(arr)"
   ]
  },
  {
   "cell_type": "code",
   "execution_count": null,
   "id": "31ab76b4",
   "metadata": {},
   "outputs": [],
   "source": []
  },
  {
   "cell_type": "code",
   "execution_count": null,
   "id": "2d440b50",
   "metadata": {},
   "outputs": [],
   "source": []
  },
  {
   "cell_type": "markdown",
   "id": "7c7f6122",
   "metadata": {},
   "source": [
    "# Bonus Reading \n",
    "- List in Data Structure (Language agnostic overview of Lists) - https://www.scaler.com/topics/list-in-data-structure/\n",
    "- What is List in Python? - https://www.scaler.com/topics/what-is-list-in-python/\n",
    "- list() in Python - https://www.scaler.com/topics/python/list-in-python/\n",
    "- Empty List - https://www.scaler.com/topics/empty-list-in-python/\n",
    "- Length of List - https://www.scaler.com/topics/python-length-of-list/\n",
    "- Iterate List in Python - https://www.scaler.com/topics/iterate-list-in-python/\n",
    "- Delete Element From List Python - https://www.scaler.com/topics/delete-element-from-list-python/\n",
    "- Python List Remove() - https://www.scaler.com/topics/python-list-remove/\n",
    "- List Methods in Python - https://www.scaler.com/topics/list-methods-in-python/\n",
    "- Linear Search - https://www.scaler.com/topics/data-structures/linear-search-algorithm/\n",
    "- Python List Index Method - https://www.scaler.com/topics/python-list-index-method/\n",
    "- index() in Python - https://www.scaler.com/topics/index-in-python/\n",
    "- How to Find Index of Element in List Python? - https://www.scaler.com/topics/find-index-of-element-in-list-python/"
   ]
  },
  {
   "cell_type": "code",
   "execution_count": null,
   "id": "11b27713",
   "metadata": {},
   "outputs": [],
   "source": []
  },
  {
   "cell_type": "code",
   "execution_count": null,
   "id": "0a543d2e",
   "metadata": {},
   "outputs": [],
   "source": []
  },
  {
   "cell_type": "code",
   "execution_count": null,
   "id": "5483aa27",
   "metadata": {},
   "outputs": [],
   "source": []
  },
  {
   "cell_type": "markdown",
   "id": "adf41528",
   "metadata": {},
   "source": [
    "# Doubts"
   ]
  },
  {
   "cell_type": "code",
   "execution_count": null,
   "id": "d906c7fc",
   "metadata": {},
   "outputs": [],
   "source": [
    "# Thank You\n",
    "# "
   ]
  },
  {
   "cell_type": "code",
   "execution_count": null,
   "id": "233fd48a",
   "metadata": {},
   "outputs": [],
   "source": [
    "# Only use inbuilt functions like sum(), min(), max() ...\n",
    "# if you know how to implement them on your own"
   ]
  },
  {
   "cell_type": "code",
   "execution_count": null,
   "id": "b93c2dc9",
   "metadata": {},
   "outputs": [],
   "source": []
  },
  {
   "cell_type": "code",
   "execution_count": 106,
   "id": "06187bf8",
   "metadata": {},
   "outputs": [],
   "source": [
    "# Big O Notation - DSA module\n",
    "# Class - Time Complexity\n",
    "# 1st or 2nd session"
   ]
  },
  {
   "cell_type": "code",
   "execution_count": null,
   "id": "b771fd88",
   "metadata": {},
   "outputs": [],
   "source": []
  },
  {
   "cell_type": "code",
   "execution_count": 107,
   "id": "d2fda124",
   "metadata": {},
   "outputs": [],
   "source": [
    "# Numpy module in Python\n",
    "# Which provides arrays\n",
    "\n",
    "# lists vs numpy arrays is speed\n",
    "# Python lists are slow\n",
    "# Numpy arrays are much faster"
   ]
  },
  {
   "cell_type": "code",
   "execution_count": null,
   "id": "4b057287",
   "metadata": {},
   "outputs": [],
   "source": []
  },
  {
   "cell_type": "code",
   "execution_count": null,
   "id": "c0e1d3c7",
   "metadata": {},
   "outputs": [],
   "source": [
    "# Thank You\n",
    "# Good Night\n",
    "# Friday"
   ]
  }
 ],
 "metadata": {
  "kernelspec": {
   "display_name": "Python 3 (ipykernel)",
   "language": "python",
   "name": "python3"
  },
  "language_info": {
   "codemirror_mode": {
    "name": "ipython",
    "version": 3
   },
   "file_extension": ".py",
   "mimetype": "text/x-python",
   "name": "python",
   "nbconvert_exporter": "python",
   "pygments_lexer": "ipython3",
   "version": "3.9.18"
  }
 },
 "nbformat": 4,
 "nbformat_minor": 5
}
