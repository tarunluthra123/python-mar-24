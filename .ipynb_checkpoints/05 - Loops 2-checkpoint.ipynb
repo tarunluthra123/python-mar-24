{
 "cells": [
  {
   "cell_type": "markdown",
   "id": "e1dce45b",
   "metadata": {},
   "source": [
    "# Loops 2"
   ]
  },
  {
   "cell_type": "code",
   "execution_count": null,
   "id": "96dd046b",
   "metadata": {},
   "outputs": [],
   "source": []
  },
  {
   "cell_type": "markdown",
   "id": "b87b902b",
   "metadata": {},
   "source": [
    "**Question:** Write a loop to print the following numbers - `1,4,7,10,13,16`"
   ]
  },
  {
   "cell_type": "code",
   "execution_count": 5,
   "id": "030b545f",
   "metadata": {},
   "outputs": [
    {
     "name": "stdout",
     "output_type": "stream",
     "text": [
      "1,4,7,10,13,16"
     ]
    }
   ],
   "source": [
    "# Start = 1\n",
    "# End = 16\n",
    "# Update = +3\n",
    "\n",
    "for i in range(1, 17, 3):\n",
    "    if i == 16:\n",
    "        print(i, end='')\n",
    "    else:\n",
    "        print(i, end=',')"
   ]
  },
  {
   "cell_type": "code",
   "execution_count": null,
   "id": "ada377d8",
   "metadata": {},
   "outputs": [],
   "source": []
  },
  {
   "cell_type": "code",
   "execution_count": null,
   "id": "c0c724ec",
   "metadata": {},
   "outputs": [],
   "source": []
  },
  {
   "cell_type": "code",
   "execution_count": null,
   "id": "e133c92b",
   "metadata": {},
   "outputs": [],
   "source": []
  },
  {
   "cell_type": "markdown",
   "id": "807d32d0",
   "metadata": {},
   "source": [
    "**Question**: Write a loop to print the following numbers - `1,3,7,13,21,31,43`\n",
    "\n"
   ]
  },
  {
   "cell_type": "code",
   "execution_count": 7,
   "id": "84c60d87",
   "metadata": {},
   "outputs": [],
   "source": [
    "# Start = 1\n",
    "# End = 43\n",
    "# Update = 2, 4, 6, 8, 10"
   ]
  },
  {
   "cell_type": "code",
   "execution_count": 12,
   "id": "06ead1a4",
   "metadata": {},
   "outputs": [
    {
     "name": "stdout",
     "output_type": "stream",
     "text": [
      "1 3 7 13 21 31 43 "
     ]
    }
   ],
   "source": [
    "i = 1 # Initialisation\n",
    "\n",
    "update = 2\n",
    "\n",
    "# condition\n",
    "while i <= 43:\n",
    "    print(i, end=' ')\n",
    "    \n",
    "    # update\n",
    "    i += update\n",
    "    update += 2"
   ]
  },
  {
   "cell_type": "code",
   "execution_count": null,
   "id": "a7c4c430",
   "metadata": {},
   "outputs": [],
   "source": []
  },
  {
   "cell_type": "code",
   "execution_count": null,
   "id": "55a52a80",
   "metadata": {},
   "outputs": [],
   "source": []
  },
  {
   "cell_type": "code",
   "execution_count": null,
   "id": "568aed15",
   "metadata": {},
   "outputs": [],
   "source": []
  },
  {
   "cell_type": "code",
   "execution_count": null,
   "id": "778f8326",
   "metadata": {},
   "outputs": [],
   "source": []
  },
  {
   "cell_type": "markdown",
   "id": "6e24f8cf",
   "metadata": {},
   "source": [
    "## Loop control statements\n",
    "![](https://scaler.com/topics/images/Break-Pass-and-continue-statement-in-Python.webp)"
   ]
  },
  {
   "cell_type": "code",
   "execution_count": null,
   "id": "6923b950",
   "metadata": {},
   "outputs": [],
   "source": []
  },
  {
   "cell_type": "markdown",
   "id": "d7cf8ae2",
   "metadata": {},
   "source": [
    "### pass statement\n",
    "![](https://scaler.com/topics/images/pass-in-python.webp)\n",
    "\n",
    "\\\n",
    "pass in Python is a null statement which the interpreter simply 'moves over' while executing the code. It can be used in a variety of scenarios where you want to leave parts of your code undefined (such as if-else, loops, classes or methods) but the Python syntax doesn't allow it."
   ]
  },
  {
   "cell_type": "code",
   "execution_count": null,
   "id": "1a4e0837",
   "metadata": {},
   "outputs": [],
   "source": [
    "# dummy placeholder"
   ]
  },
  {
   "cell_type": "code",
   "execution_count": 13,
   "id": "48d9123f",
   "metadata": {},
   "outputs": [
    {
     "ename": "IndentationError",
     "evalue": "expected an indented block (3470939288.py, line 5)",
     "output_type": "error",
     "traceback": [
      "\u001b[0;36m  File \u001b[0;32m\"/var/folders/jn/1bsrct314hv5xmfm7vrcdrzc0000gn/T/ipykernel_2003/3470939288.py\"\u001b[0;36m, line \u001b[0;32m5\u001b[0m\n\u001b[0;31m    \u001b[0m\n\u001b[0m    ^\u001b[0m\n\u001b[0;31mIndentationError\u001b[0m\u001b[0;31m:\u001b[0m expected an indented block\n"
     ]
    }
   ],
   "source": [
    "x = 10\n",
    "\n",
    "# special case\n",
    "if x >= 5:\n",
    "    "
   ]
  },
  {
   "cell_type": "code",
   "execution_count": 14,
   "id": "fe48c476",
   "metadata": {},
   "outputs": [],
   "source": [
    "x = 10\n",
    "\n",
    "# special case\n",
    "if x >= 5:\n",
    "    pass"
   ]
  },
  {
   "cell_type": "code",
   "execution_count": 15,
   "id": "8498224c",
   "metadata": {},
   "outputs": [],
   "source": [
    "for i in range(10):\n",
    "    pass"
   ]
  },
  {
   "cell_type": "code",
   "execution_count": 16,
   "id": "ba5aca86",
   "metadata": {},
   "outputs": [
    {
     "ename": "IndentationError",
     "evalue": "expected an indented block (4155345654.py, line 2)",
     "output_type": "error",
     "traceback": [
      "\u001b[0;36m  File \u001b[0;32m\"/var/folders/jn/1bsrct314hv5xmfm7vrcdrzc0000gn/T/ipykernel_2003/4155345654.py\"\u001b[0;36m, line \u001b[0;32m2\u001b[0m\n\u001b[0;31m    \u001b[0m\n\u001b[0m    ^\u001b[0m\n\u001b[0;31mIndentationError\u001b[0m\u001b[0;31m:\u001b[0m expected an indented block\n"
     ]
    }
   ],
   "source": [
    "for i in range(10):\n",
    "    "
   ]
  },
  {
   "cell_type": "markdown",
   "id": "95e708c6",
   "metadata": {},
   "source": [
    "<img src=\"https://media.giphy.com/media/um5zgB7txzYeBPZnPZ/giphy.gif\" width=\"200px\" />"
   ]
  },
  {
   "cell_type": "code",
   "execution_count": null,
   "id": "4dd6e7c7",
   "metadata": {},
   "outputs": [],
   "source": []
  },
  {
   "cell_type": "code",
   "execution_count": null,
   "id": "ed1c184d",
   "metadata": {},
   "outputs": [],
   "source": []
  },
  {
   "cell_type": "code",
   "execution_count": null,
   "id": "2bb588ab",
   "metadata": {},
   "outputs": [],
   "source": []
  },
  {
   "cell_type": "code",
   "execution_count": null,
   "id": "0a1eb145",
   "metadata": {},
   "outputs": [],
   "source": []
  },
  {
   "cell_type": "code",
   "execution_count": null,
   "id": "e1e6d676",
   "metadata": {},
   "outputs": [],
   "source": []
  },
  {
   "cell_type": "markdown",
   "id": "2a87800d",
   "metadata": {},
   "source": [
    "# Continue statement\n",
    "<img src=\"https://media.giphy.com/media/l2YWxte7sJB2XuE8M/giphy.gif\" width=\"300px\" />\n",
    "\n",
    "Skips an iteration.\n",
    "Works with both for loops and while loops"
   ]
  },
  {
   "cell_type": "code",
   "execution_count": 17,
   "id": "9b80e3dd",
   "metadata": {},
   "outputs": [
    {
     "name": "stdout",
     "output_type": "stream",
     "text": [
      "0\n",
      "1\n",
      "2\n",
      "3\n",
      "4\n"
     ]
    }
   ],
   "source": [
    "for i in range(5):\n",
    "    print(i)"
   ]
  },
  {
   "cell_type": "code",
   "execution_count": 18,
   "id": "a47ab37b",
   "metadata": {},
   "outputs": [
    {
     "name": "stdout",
     "output_type": "stream",
     "text": [
      "0\n",
      "1\n",
      "2\n",
      "4\n"
     ]
    }
   ],
   "source": [
    "for i in range(5):\n",
    "    if i == 3:\n",
    "        continue\n",
    "    print(i)"
   ]
  },
  {
   "cell_type": "code",
   "execution_count": null,
   "id": "a9053674",
   "metadata": {},
   "outputs": [],
   "source": [
    "# skip whatever is left in the current iteration\n",
    "# and jump to the start of the next one"
   ]
  },
  {
   "cell_type": "code",
   "execution_count": null,
   "id": "d7e1e1a7",
   "metadata": {},
   "outputs": [],
   "source": []
  },
  {
   "cell_type": "code",
   "execution_count": 19,
   "id": "23e9340c",
   "metadata": {},
   "outputs": [
    {
     "name": "stdout",
     "output_type": "stream",
     "text": [
      "0\n",
      "1\n",
      "2\n",
      "4\n",
      "5\n",
      "6\n",
      "7\n",
      "8\n",
      "9\n"
     ]
    }
   ],
   "source": [
    "for i in range(10):\n",
    "    if i == 3:\n",
    "        continue\n",
    "    print(i)"
   ]
  },
  {
   "cell_type": "code",
   "execution_count": null,
   "id": "0dc32a82",
   "metadata": {},
   "outputs": [],
   "source": []
  },
  {
   "cell_type": "code",
   "execution_count": null,
   "id": "fc554343",
   "metadata": {},
   "outputs": [],
   "source": []
  },
  {
   "cell_type": "markdown",
   "id": "25b75f70",
   "metadata": {},
   "source": [
    "#### Quiz 1\n",
    "```py\n",
    "x = 0\n",
    "while x < 5:\n",
    "    x += 1\n",
    "    if x == 3:\n",
    "        continue\n",
    "    print(x)\n",
    "```"
   ]
  },
  {
   "cell_type": "code",
   "execution_count": null,
   "id": "456a29b8",
   "metadata": {},
   "outputs": [],
   "source": [
    "x = 0\n",
    "while x < 5:\n",
    "    x += 1\n",
    "    if x == 3:\n",
    "        continue\n",
    "    print(x)"
   ]
  },
  {
   "cell_type": "code",
   "execution_count": null,
   "id": "7e87cde9",
   "metadata": {},
   "outputs": [],
   "source": []
  },
  {
   "cell_type": "code",
   "execution_count": null,
   "id": "7754a2fc",
   "metadata": {},
   "outputs": [],
   "source": []
  },
  {
   "cell_type": "markdown",
   "id": "b8f4cfc4",
   "metadata": {},
   "source": [
    "# Break statement\n"
   ]
  },
  {
   "cell_type": "code",
   "execution_count": 20,
   "id": "792694e3",
   "metadata": {},
   "outputs": [],
   "source": [
    "# break = stop/destroy something\n",
    "# break statement terminates your loop"
   ]
  },
  {
   "cell_type": "code",
   "execution_count": 21,
   "id": "362d1ba1",
   "metadata": {},
   "outputs": [
    {
     "name": "stdout",
     "output_type": "stream",
     "text": [
      "0\n",
      "1\n",
      "2\n"
     ]
    }
   ],
   "source": [
    "for i in range(5):\n",
    "    if i == 3:\n",
    "        break\n",
    "    print(i)"
   ]
  },
  {
   "cell_type": "code",
   "execution_count": null,
   "id": "be13494a",
   "metadata": {},
   "outputs": [],
   "source": [
    "0 1 2"
   ]
  },
  {
   "cell_type": "code",
   "execution_count": null,
   "id": "43858e9f",
   "metadata": {},
   "outputs": [],
   "source": []
  },
  {
   "cell_type": "code",
   "execution_count": null,
   "id": "e7a6f5b0",
   "metadata": {},
   "outputs": [],
   "source": []
  },
  {
   "cell_type": "code",
   "execution_count": null,
   "id": "b98a5551",
   "metadata": {},
   "outputs": [],
   "source": []
  },
  {
   "cell_type": "markdown",
   "id": "28900d4b",
   "metadata": {},
   "source": [
    "#### Quiz\n",
    "What will be the output of the following code?\n",
    "```py\n",
    "count = 0\n",
    "while True:\n",
    "    if count == 5:\n",
    "        break\n",
    "    print(count)\n",
    "    count += 1\n",
    "```"
   ]
  },
  {
   "cell_type": "code",
   "execution_count": 22,
   "id": "3711862e",
   "metadata": {},
   "outputs": [
    {
     "name": "stdout",
     "output_type": "stream",
     "text": [
      "0\n",
      "1\n",
      "2\n",
      "3\n",
      "4\n"
     ]
    }
   ],
   "source": [
    "count = 0\n",
    "while True:\n",
    "    if count == 5:\n",
    "        break\n",
    "    print(count)\n",
    "    count += 1"
   ]
  },
  {
   "cell_type": "code",
   "execution_count": null,
   "id": "d9e784d8",
   "metadata": {},
   "outputs": [],
   "source": []
  },
  {
   "cell_type": "markdown",
   "id": "dff74499",
   "metadata": {},
   "source": [
    "<img src=\"https://media.giphy.com/media/dYsYG3shlTDO1S38Vg/giphy.gif\" width=\"300px\" />"
   ]
  },
  {
   "cell_type": "code",
   "execution_count": null,
   "id": "84f321a5",
   "metadata": {},
   "outputs": [],
   "source": []
  },
  {
   "cell_type": "markdown",
   "id": "3dd0fb7b",
   "metadata": {},
   "source": [
    "#### Quiz\n",
    "```py\n",
    "for i in range(1, 10):\n",
    "    if i == 5:\n",
    "        break  \n",
    "    print(i, end=' ')\n",
    "```"
   ]
  },
  {
   "cell_type": "code",
   "execution_count": 26,
   "id": "91ef43a9",
   "metadata": {},
   "outputs": [
    {
     "name": "stdout",
     "output_type": "stream",
     "text": [
      "1 2 3 4 "
     ]
    }
   ],
   "source": [
    "for i in range(1, 10):\n",
    "    if i == 5:\n",
    "        break\n",
    "    print(i, end=' ')"
   ]
  },
  {
   "cell_type": "code",
   "execution_count": 23,
   "id": "654caa32",
   "metadata": {},
   "outputs": [
    {
     "name": "stdout",
     "output_type": "stream",
     "text": [
      "1 2 3 4 5 6 7 8 9\n"
     ]
    }
   ],
   "source": [
    "print(*range(1, 10))"
   ]
  },
  {
   "cell_type": "code",
   "execution_count": null,
   "id": "71c99977",
   "metadata": {},
   "outputs": [],
   "source": []
  },
  {
   "cell_type": "code",
   "execution_count": null,
   "id": "9c285400",
   "metadata": {},
   "outputs": [],
   "source": []
  },
  {
   "cell_type": "markdown",
   "id": "a67aaa86",
   "metadata": {},
   "source": [
    "Which statement is used to skip the current iteration of a loop and move on to the next iteration?"
   ]
  },
  {
   "cell_type": "markdown",
   "id": "e2b33de6",
   "metadata": {},
   "source": [
    "break, continue, pass, None of these \\\n",
    "Correct answer = continue"
   ]
  },
  {
   "cell_type": "code",
   "execution_count": null,
   "id": "17a31232",
   "metadata": {},
   "outputs": [],
   "source": []
  },
  {
   "cell_type": "code",
   "execution_count": null,
   "id": "9ca94e71",
   "metadata": {},
   "outputs": [],
   "source": []
  },
  {
   "cell_type": "markdown",
   "id": "8c7f2ba6",
   "metadata": {},
   "source": [
    "## Nested Loops"
   ]
  },
  {
   "cell_type": "code",
   "execution_count": 28,
   "id": "c0e47f1c",
   "metadata": {},
   "outputs": [
    {
     "name": "stdout",
     "output_type": "stream",
     "text": [
      "* * * * * "
     ]
    }
   ],
   "source": [
    "for j in range(5):\n",
    "    print('*', end=' ')"
   ]
  },
  {
   "cell_type": "code",
   "execution_count": 30,
   "id": "38989315",
   "metadata": {},
   "outputs": [
    {
     "name": "stdout",
     "output_type": "stream",
     "text": [
      "* * * * * \n",
      "* * * * * \n",
      "* * * * * \n",
      "* * * * * \n"
     ]
    }
   ],
   "source": [
    "for j in range(5):\n",
    "    print('*', end=' ')\n",
    "print()\n",
    "    \n",
    "for j in range(5):\n",
    "    print('*', end=' ')\n",
    "print()\n",
    "    \n",
    "for j in range(5):\n",
    "    print('*', end=' ')\n",
    "print()\n",
    "\n",
    "for j in range(5):\n",
    "    print('*', end=' ')\n",
    "print()"
   ]
  },
  {
   "cell_type": "code",
   "execution_count": null,
   "id": "45854aac",
   "metadata": {},
   "outputs": [],
   "source": []
  },
  {
   "cell_type": "code",
   "execution_count": 31,
   "id": "d8b5e152",
   "metadata": {},
   "outputs": [
    {
     "name": "stdout",
     "output_type": "stream",
     "text": [
      "* * * * * \n",
      "* * * * * \n",
      "* * * * * \n",
      "* * * * * \n"
     ]
    }
   ],
   "source": [
    "for i in range(4):\n",
    "    for j in range(5):\n",
    "        print('*', end=' ')\n",
    "    print()"
   ]
  },
  {
   "cell_type": "code",
   "execution_count": null,
   "id": "b0bcaea0",
   "metadata": {},
   "outputs": [],
   "source": [
    "# 4 * 5 matrix of *\n",
    "# 4 rows\n",
    "# 5 columns"
   ]
  },
  {
   "cell_type": "code",
   "execution_count": null,
   "id": "ee18a3ae",
   "metadata": {},
   "outputs": [],
   "source": []
  },
  {
   "cell_type": "code",
   "execution_count": null,
   "id": "6728d531",
   "metadata": {},
   "outputs": [],
   "source": []
  },
  {
   "cell_type": "code",
   "execution_count": null,
   "id": "6d7311b3",
   "metadata": {},
   "outputs": [],
   "source": []
  },
  {
   "cell_type": "markdown",
   "id": "93eb12ec",
   "metadata": {},
   "source": [
    "**Question:** Write a program to print a `N x N` matrix of `*`"
   ]
  },
  {
   "cell_type": "code",
   "execution_count": 37,
   "id": "3c25d089",
   "metadata": {},
   "outputs": [
    {
     "name": "stdout",
     "output_type": "stream",
     "text": [
      "3\n",
      "* * * \n",
      "* * * \n",
      "* * * \n"
     ]
    }
   ],
   "source": [
    "N = int(input())\n",
    "\n",
    "for i in range(N):\n",
    "    for j in range(N):\n",
    "        print('*', end=' ')\n",
    "    print()"
   ]
  },
  {
   "cell_type": "code",
   "execution_count": null,
   "id": "3b37fe7d",
   "metadata": {},
   "outputs": [],
   "source": []
  },
  {
   "cell_type": "code",
   "execution_count": null,
   "id": "3feefd67",
   "metadata": {},
   "outputs": [],
   "source": []
  },
  {
   "cell_type": "markdown",
   "id": "9ed7bc9c",
   "metadata": {},
   "source": [
    "**Question:** Write a program to print a multiplication table till the provided input."
   ]
  },
  {
   "cell_type": "markdown",
   "id": "0299b58b",
   "metadata": {},
   "source": [
    "\n",
    "```\n",
    "Example Input:\n",
    "3\n",
    "\n",
    "Example Output:\n",
    "1 2 3 4 5 6 7 8 9 10\n",
    "2 4 6 8 10 12 14 16 18 20\n",
    "3 6 9 12 15 18 21 24 27 30\n",
    "\n",
    "```\n"
   ]
  },
  {
   "cell_type": "code",
   "execution_count": 47,
   "id": "e533e1c2",
   "metadata": {},
   "outputs": [
    {
     "name": "stdout",
     "output_type": "stream",
     "text": [
      "1 2 3 4 5 6 7 8 9 10 \n",
      "2 4 6 8 10 12 14 16 18 20 \n",
      "3 6 9 12 15 18 21 24 27 30 \n"
     ]
    }
   ],
   "source": [
    "N = 5\n",
    "\n",
    "# Multiplication table of 1\n",
    "x = 1\n",
    "for j in range(1, 11):\n",
    "    print(x * j, end=' ')\n",
    "print()\n",
    "\n",
    "# Multiplication table of 2\n",
    "x = 2\n",
    "for j in range(1, 11):\n",
    "    print(x * j, end=' ')\n",
    "print()\n",
    "\n",
    "# Multiplication table of 3\n",
    "x = 3\n",
    "for j in range(1, 11):\n",
    "    print(x * j, end=' ')\n",
    "print()"
   ]
  },
  {
   "cell_type": "code",
   "execution_count": 49,
   "id": "fe159385",
   "metadata": {},
   "outputs": [
    {
     "name": "stdout",
     "output_type": "stream",
     "text": [
      "1 2 3 4 5 6 7 8 9 10 \n",
      "2 4 6 8 10 12 14 16 18 20 \n",
      "3 6 9 12 15 18 21 24 27 30 \n"
     ]
    }
   ],
   "source": [
    "for i in range(1, 4):\n",
    "    # Multiplication table of i\n",
    "    x = i\n",
    "    for j in range(1, 11):\n",
    "        print(x * j, end=' ')\n",
    "    print()"
   ]
  },
  {
   "cell_type": "code",
   "execution_count": 46,
   "id": "2fb38eee",
   "metadata": {},
   "outputs": [
    {
     "name": "stdout",
     "output_type": "stream",
     "text": [
      "3\n",
      "1 2 3 4 5 6 7 8 9 10 \n",
      "2 4 6 8 10 12 14 16 18 20 \n",
      "3 6 9 12 15 18 21 24 27 30 \n"
     ]
    }
   ],
   "source": [
    "N = int(input())\n",
    "\n",
    "for i in range(1, N+1):\n",
    "    # Multiplication table of i\n",
    "    x = i\n",
    "    for j in range(1, 11):\n",
    "        print(x * j, end=' ')\n",
    "    print()"
   ]
  },
  {
   "cell_type": "code",
   "execution_count": null,
   "id": "47576e7a",
   "metadata": {},
   "outputs": [],
   "source": []
  },
  {
   "cell_type": "code",
   "execution_count": null,
   "id": "a438bf01",
   "metadata": {},
   "outputs": [],
   "source": []
  },
  {
   "cell_type": "code",
   "execution_count": null,
   "id": "807051d0",
   "metadata": {},
   "outputs": [],
   "source": []
  },
  {
   "cell_type": "code",
   "execution_count": null,
   "id": "ca71a179",
   "metadata": {},
   "outputs": [],
   "source": [
    "# Given a number, write its multiplication table\n",
    "# x = 4\n",
    "# 4, 8, 12, 16, 20, 24 ... 40"
   ]
  },
  {
   "cell_type": "code",
   "execution_count": 40,
   "id": "da96aef0",
   "metadata": {},
   "outputs": [
    {
     "name": "stdout",
     "output_type": "stream",
     "text": [
      "3 6 9 12 15 18 21 24 27 30 "
     ]
    }
   ],
   "source": [
    "x = 3\n",
    "\n",
    "for j in range(1, 11):\n",
    "    print(x * j, end=' ')"
   ]
  },
  {
   "cell_type": "code",
   "execution_count": null,
   "id": "0e1e4dcd",
   "metadata": {},
   "outputs": [],
   "source": []
  },
  {
   "cell_type": "code",
   "execution_count": null,
   "id": "79434058",
   "metadata": {},
   "outputs": [],
   "source": []
  },
  {
   "cell_type": "code",
   "execution_count": null,
   "id": "27effe3e",
   "metadata": {},
   "outputs": [],
   "source": [
    "# General recommendation:\n",
    "# i for outer loops\n",
    "# j for inner loops"
   ]
  },
  {
   "cell_type": "code",
   "execution_count": null,
   "id": "2df57422",
   "metadata": {},
   "outputs": [],
   "source": []
  },
  {
   "cell_type": "code",
   "execution_count": null,
   "id": "be5baeb6",
   "metadata": {},
   "outputs": [],
   "source": []
  },
  {
   "cell_type": "code",
   "execution_count": 50,
   "id": "3a2bb071",
   "metadata": {},
   "outputs": [
    {
     "name": "stdout",
     "output_type": "stream",
     "text": [
      "1 i= 1   j= 1\n",
      "2 i= 1   j= 2\n",
      "3 i= 1   j= 3\n",
      "4 i= 1   j= 4\n",
      "5 i= 1   j= 5\n",
      "6 i= 1   j= 6\n",
      "7 i= 1   j= 7\n",
      "8 i= 1   j= 8\n",
      "9 i= 1   j= 9\n",
      "10 i= 1   j= 10\n",
      "\n",
      "2 i= 2   j= 1\n",
      "4 i= 2   j= 2\n",
      "6 i= 2   j= 3\n",
      "8 i= 2   j= 4\n",
      "10 i= 2   j= 5\n",
      "12 i= 2   j= 6\n",
      "14 i= 2   j= 7\n",
      "16 i= 2   j= 8\n",
      "18 i= 2   j= 9\n",
      "20 i= 2   j= 10\n",
      "\n",
      "3 i= 3   j= 1\n",
      "6 i= 3   j= 2\n",
      "9 i= 3   j= 3\n",
      "12 i= 3   j= 4\n",
      "15 i= 3   j= 5\n",
      "18 i= 3   j= 6\n",
      "21 i= 3   j= 7\n",
      "24 i= 3   j= 8\n",
      "27 i= 3   j= 9\n",
      "30 i= 3   j= 10\n",
      "\n",
      "4 i= 4   j= 1\n",
      "8 i= 4   j= 2\n",
      "12 i= 4   j= 3\n",
      "16 i= 4   j= 4\n",
      "20 i= 4   j= 5\n",
      "24 i= 4   j= 6\n",
      "28 i= 4   j= 7\n",
      "32 i= 4   j= 8\n",
      "36 i= 4   j= 9\n",
      "40 i= 4   j= 10\n",
      "\n"
     ]
    }
   ],
   "source": [
    "for i in range(1, 5):\n",
    "    # Multiplication table of i\n",
    "    x = i\n",
    "    for j in range(1, 11):\n",
    "        print(x * j, end=' ')\n",
    "        print(\"i=\",i, \"  j=\",j)\n",
    "    print()"
   ]
  },
  {
   "cell_type": "code",
   "execution_count": null,
   "id": "dd2d538a",
   "metadata": {},
   "outputs": [],
   "source": []
  },
  {
   "cell_type": "code",
   "execution_count": null,
   "id": "5d646a16",
   "metadata": {},
   "outputs": [],
   "source": []
  },
  {
   "cell_type": "markdown",
   "id": "83076449",
   "metadata": {},
   "source": [
    "#### Quiz\n",
    "What will be the output of the following code snippet?\n",
    "```py\n",
    "for i in range(3):\n",
    "    for j in range(i, 3):\n",
    "        print(\"*\", end=\" \")\n",
    "    print()\n",
    "```"
   ]
  },
  {
   "cell_type": "markdown",
   "id": "46020f90",
   "metadata": {},
   "source": [
    "```\n",
    "A.\n",
    "  * * *\n",
    "  * *\n",
    "  *\n",
    "B.\n",
    "  * * *\n",
    "  * * *\n",
    "  * * *\n",
    "C.\n",
    "      *\n",
    "    * *\n",
    "  * * *\n",
    "```"
   ]
  },
  {
   "cell_type": "code",
   "execution_count": 51,
   "id": "687525f8",
   "metadata": {},
   "outputs": [
    {
     "name": "stdout",
     "output_type": "stream",
     "text": [
      "* * * \n",
      "* * \n",
      "* \n"
     ]
    }
   ],
   "source": [
    "for i in range(3):\n",
    "    for j in range(i, 3):\n",
    "        print(\"*\", end=\" \")\n",
    "    print()"
   ]
  },
  {
   "cell_type": "code",
   "execution_count": null,
   "id": "4ee18e05",
   "metadata": {},
   "outputs": [],
   "source": []
  },
  {
   "cell_type": "code",
   "execution_count": 52,
   "id": "0444587f",
   "metadata": {},
   "outputs": [
    {
     "name": "stdout",
     "output_type": "stream",
     "text": [
      "* * *\n",
      "* *\n",
      "*\n"
     ]
    }
   ],
   "source": [
    "for i in range(3):\n",
    "    for j in range(i, 3):\n",
    "        if j == 2:\n",
    "            print(\"*\", end=\"\")\n",
    "        else:\n",
    "            print(\"*\", end=' ')\n",
    "    print()"
   ]
  },
  {
   "cell_type": "code",
   "execution_count": null,
   "id": "36b567c4",
   "metadata": {},
   "outputs": [],
   "source": []
  },
  {
   "cell_type": "code",
   "execution_count": null,
   "id": "3511a578",
   "metadata": {},
   "outputs": [],
   "source": []
  },
  {
   "cell_type": "code",
   "execution_count": null,
   "id": "e1751200",
   "metadata": {},
   "outputs": [],
   "source": []
  },
  {
   "cell_type": "markdown",
   "id": "7448fd6b",
   "metadata": {},
   "source": [
    "## GCD"
   ]
  },
  {
   "cell_type": "code",
   "execution_count": null,
   "id": "40f46587",
   "metadata": {},
   "outputs": [],
   "source": [
    "# Given two numbers, print their GCD"
   ]
  },
  {
   "cell_type": "code",
   "execution_count": 57,
   "id": "c58ff8f4",
   "metadata": {},
   "outputs": [
    {
     "name": "stdout",
     "output_type": "stream",
     "text": [
      "10\n"
     ]
    }
   ],
   "source": [
    "A = 20\n",
    "B = 30\n",
    "\n",
    "# Search space = 1..min(A, B)\n",
    "# Decreasing loop\n",
    "for i in range(min(A, B), 0, -1):\n",
    "    # no. that divides both A & B\n",
    "    if A % i == 0 and B % i == 0:\n",
    "        print(i)\n",
    "        break"
   ]
  },
  {
   "cell_type": "code",
   "execution_count": null,
   "id": "8e2052e0",
   "metadata": {},
   "outputs": [],
   "source": [
    "# A % i == 0 => If A is divisible by i\n",
    "# B % i == 0 => If B is divisible by i"
   ]
  },
  {
   "cell_type": "code",
   "execution_count": null,
   "id": "c2b8f941",
   "metadata": {},
   "outputs": [],
   "source": []
  },
  {
   "cell_type": "code",
   "execution_count": 59,
   "id": "89b5d946",
   "metadata": {},
   "outputs": [
    {
     "name": "stdout",
     "output_type": "stream",
     "text": [
      "10 9 8 7 6 5 4 3 2 1 "
     ]
    }
   ],
   "source": [
    "for i in range(10, 0, -1):\n",
    "    print(i, end=' ')"
   ]
  },
  {
   "cell_type": "code",
   "execution_count": null,
   "id": "b9e5e52b",
   "metadata": {},
   "outputs": [],
   "source": []
  },
  {
   "cell_type": "code",
   "execution_count": null,
   "id": "bf78c816",
   "metadata": {},
   "outputs": [],
   "source": []
  },
  {
   "cell_type": "code",
   "execution_count": null,
   "id": "1f767846",
   "metadata": {},
   "outputs": [],
   "source": []
  },
  {
   "cell_type": "markdown",
   "id": "d98ce492",
   "metadata": {},
   "source": [
    "## LCM"
   ]
  },
  {
   "cell_type": "code",
   "execution_count": null,
   "id": "06542875",
   "metadata": {},
   "outputs": [],
   "source": []
  },
  {
   "cell_type": "code",
   "execution_count": null,
   "id": "468d76a2",
   "metadata": {},
   "outputs": [],
   "source": []
  },
  {
   "cell_type": "code",
   "execution_count": null,
   "id": "e8a84ac5",
   "metadata": {},
   "outputs": [],
   "source": []
  },
  {
   "cell_type": "code",
   "execution_count": null,
   "id": "6306d931",
   "metadata": {},
   "outputs": [],
   "source": []
  },
  {
   "cell_type": "code",
   "execution_count": null,
   "id": "d91b35b5",
   "metadata": {},
   "outputs": [],
   "source": []
  },
  {
   "cell_type": "code",
   "execution_count": null,
   "id": "22781974",
   "metadata": {},
   "outputs": [],
   "source": []
  },
  {
   "cell_type": "markdown",
   "id": "49093131",
   "metadata": {},
   "source": [
    "# Bonus Reading Material\n",
    "- Pass in Python - https://www.scaler.com/topics/pass-in-python/\n",
    "- Break, Pass and Continue Statement in Python - https://www.scaler.com/topics/python/break-pass-and-continue-statement-in-python/\n",
    "- Factorial Program in Python - https://www.scaler.com/topics/factorial-program-in-python/\n",
    "- Prime Number Program in Python - https://www.scaler.com/topics/prime-number-program-in-python/\n",
    "- Python Random Module - https://www.scaler.com/topics/python-random-module/\n",
    "- What is Nested For Loop in Python? - https://www.scaler.com/topics/nested-for-loop-in-python/\n",
    "- Pattern Program in Python - https://www.scaler.com/topics/pattern-program-in-python/"
   ]
  },
  {
   "cell_type": "code",
   "execution_count": null,
   "id": "8feb2af8",
   "metadata": {},
   "outputs": [],
   "source": []
  },
  {
   "cell_type": "code",
   "execution_count": null,
   "id": "7eaf5f7e",
   "metadata": {},
   "outputs": [],
   "source": []
  },
  {
   "cell_type": "code",
   "execution_count": null,
   "id": "71e9f14f",
   "metadata": {},
   "outputs": [],
   "source": []
  },
  {
   "cell_type": "markdown",
   "id": "db9d7cfa",
   "metadata": {},
   "source": [
    "# Doubts"
   ]
  },
  {
   "cell_type": "code",
   "execution_count": 60,
   "id": "e2e05964",
   "metadata": {},
   "outputs": [],
   "source": [
    "# Question: Write a loop to print the following numbers - 1,3,7,13,21,31,43"
   ]
  },
  {
   "cell_type": "code",
   "execution_count": null,
   "id": "91401d06",
   "metadata": {},
   "outputs": [],
   "source": [
    "# start = 1\n",
    "# end = 43\n",
    "# update = 2, 4, 6, 8, 10"
   ]
  },
  {
   "cell_type": "code",
   "execution_count": 65,
   "id": "ea5b4163",
   "metadata": {},
   "outputs": [
    {
     "name": "stdout",
     "output_type": "stream",
     "text": [
      "1 diff = 2\n",
      "3 diff = 4\n",
      "7 diff = 6\n",
      "13 diff = 8\n",
      "21 diff = 10\n",
      "31 diff = 12\n",
      "43 diff = 14\n"
     ]
    }
   ],
   "source": [
    "i = 1\n",
    "diff = 2\n",
    "\n",
    "while i <= 43:\n",
    "    print(i, end=' ')\n",
    "    \n",
    "    i += diff\n",
    "    print(\"diff =\", diff)\n",
    "    diff += 2"
   ]
  },
  {
   "cell_type": "code",
   "execution_count": null,
   "id": "bb3c0814",
   "metadata": {},
   "outputs": [],
   "source": []
  },
  {
   "cell_type": "code",
   "execution_count": null,
   "id": "b1ac48d7",
   "metadata": {},
   "outputs": [],
   "source": []
  },
  {
   "cell_type": "code",
   "execution_count": null,
   "id": "8e904d61",
   "metadata": {},
   "outputs": [],
   "source": [
    "# once you have successfully solved a question\n",
    "# you get 100 points\n",
    "# Then make sure to unlock all hints and see those solutions\n",
    "# You will not lose any further points"
   ]
  },
  {
   "cell_type": "markdown",
   "id": "edde42fd",
   "metadata": {},
   "source": []
  },
  {
   "cell_type": "code",
   "execution_count": null,
   "id": "748255ac",
   "metadata": {},
   "outputs": [],
   "source": [
    "# Do atleast 5 examples on pen-paper"
   ]
  },
  {
   "cell_type": "code",
   "execution_count": 66,
   "id": "cc3dac90",
   "metadata": {},
   "outputs": [
    {
     "name": "stdout",
     "output_type": "stream",
     "text": [
      "5 3\n"
     ]
    }
   ],
   "source": [
    "print(min(5, 20), min(4, 3))"
   ]
  },
  {
   "cell_type": "code",
   "execution_count": null,
   "id": "7d8b0fb1",
   "metadata": {},
   "outputs": [],
   "source": [
    "# min = if-else condition"
   ]
  }
 ],
 "metadata": {
  "kernelspec": {
   "display_name": "Python 3 (ipykernel)",
   "language": "python",
   "name": "python3"
  },
  "language_info": {
   "codemirror_mode": {
    "name": "ipython",
    "version": 3
   },
   "file_extension": ".py",
   "mimetype": "text/x-python",
   "name": "python",
   "nbconvert_exporter": "python",
   "pygments_lexer": "ipython3",
   "version": "3.9.18"
  }
 },
 "nbformat": 4,
 "nbformat_minor": 5
}
