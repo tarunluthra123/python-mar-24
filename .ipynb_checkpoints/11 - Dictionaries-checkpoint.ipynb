{
 "cells": [
  {
   "cell_type": "markdown",
   "id": "380f0204",
   "metadata": {},
   "source": [
    "# Dictionaries\n",
    "![](https://scaler.com/topics/images/dict-in-python.webp)"
   ]
  },
  {
   "cell_type": "markdown",
   "id": "1f7701d0",
   "metadata": {},
   "source": [
    "- They are used to store data in key-value pair format\n",
    "- The keys are always unique\n",
    "- The values may or may not be unique\n",
    "- Dictionaries use **hashing** to store the data"
   ]
  },
  {
   "cell_type": "code",
   "execution_count": null,
   "id": "5116396a",
   "metadata": {},
   "outputs": [],
   "source": [
    "# word1 => meaning\n",
    "# word2 => meaning\n",
    "# word3 => meaning\n",
    "\n",
    "# keys = words\n",
    "# values = meanings"
   ]
  },
  {
   "cell_type": "code",
   "execution_count": 1,
   "id": "974a7c15",
   "metadata": {},
   "outputs": [
    {
     "name": "stdout",
     "output_type": "stream",
     "text": [
      "{} <class 'dict'>\n"
     ]
    }
   ],
   "source": [
    "d = {}\n",
    "print(d, type(d))"
   ]
  },
  {
   "cell_type": "code",
   "execution_count": 2,
   "id": "d698b241",
   "metadata": {},
   "outputs": [
    {
     "name": "stdout",
     "output_type": "stream",
     "text": [
      "{'Pizza': 400, 'Pasta': 300, 'Dal Makhani': 200}\n"
     ]
    }
   ],
   "source": [
    "menu = {\n",
    "    'Pizza': 400,\n",
    "    'Pasta': 300,\n",
    "    'Dal Makhani': 200\n",
    "}\n",
    "\n",
    "# keys = 'Pizza', 'Pasta', 'Dal Makhani'\n",
    "# values = 400, 300, 200\n",
    "# dictionary is a collection of key-value pairs\n",
    "# 'Pizza': 400,\n",
    "# 'Pasta': 300,\n",
    "# 'Dal Makhani': 200\n",
    "\n",
    "print(menu)"
   ]
  },
  {
   "cell_type": "code",
   "execution_count": null,
   "id": "0d30691b",
   "metadata": {},
   "outputs": [],
   "source": []
  },
  {
   "cell_type": "code",
   "execution_count": 6,
   "id": "03fe598f",
   "metadata": {},
   "outputs": [
    {
     "name": "stdout",
     "output_type": "stream",
     "text": [
      "{5: 'hello', 'hi': 'bye', 0.4: [True], 9: {'small': 'dict'}}\n"
     ]
    }
   ],
   "source": [
    "d = {\n",
    "    5: 'hello',\n",
    "    'hi': 'bye',\n",
    "    0.4: [True],\n",
    "    9: {\n",
    "        'small': 'dict'\n",
    "    }\n",
    "}\n",
    "print(d)\n",
    "\n",
    "# For the values, you can have any type of value\n",
    "# For the keys, you can only have immutable type of data"
   ]
  },
  {
   "cell_type": "code",
   "execution_count": null,
   "id": "afd1ca55",
   "metadata": {},
   "outputs": [],
   "source": [
    "# Set uses hashing internally\n",
    "# Dictionaries also use hashing internally"
   ]
  },
  {
   "cell_type": "code",
   "execution_count": 7,
   "id": "d46dfe48",
   "metadata": {},
   "outputs": [
    {
     "ename": "TypeError",
     "evalue": "unhashable type: 'list'",
     "output_type": "error",
     "traceback": [
      "\u001b[0;31m---------------------------------------------------------------------------\u001b[0m",
      "\u001b[0;31mTypeError\u001b[0m                                 Traceback (most recent call last)",
      "\u001b[0;32m/var/folders/jn/1bsrct314hv5xmfm7vrcdrzc0000gn/T/ipykernel_31425/1749132263.py\u001b[0m in \u001b[0;36m<module>\u001b[0;34m\u001b[0m\n\u001b[0;32m----> 1\u001b[0;31m d = {\n\u001b[0m\u001b[1;32m      2\u001b[0m     \u001b[0;36m5\u001b[0m\u001b[0;34m:\u001b[0m \u001b[0;34m'hello'\u001b[0m\u001b[0;34m,\u001b[0m\u001b[0;34m\u001b[0m\u001b[0;34m\u001b[0m\u001b[0m\n\u001b[1;32m      3\u001b[0m     \u001b[0;34m'hi'\u001b[0m\u001b[0;34m:\u001b[0m \u001b[0;34m'bye'\u001b[0m\u001b[0;34m,\u001b[0m\u001b[0;34m\u001b[0m\u001b[0;34m\u001b[0m\u001b[0m\n\u001b[1;32m      4\u001b[0m     \u001b[0;34m[\u001b[0m\u001b[0;36m0.4\u001b[0m\u001b[0;34m]\u001b[0m\u001b[0;34m:\u001b[0m \u001b[0;34m[\u001b[0m\u001b[0;32mTrue\u001b[0m\u001b[0;34m]\u001b[0m\u001b[0;34m,\u001b[0m\u001b[0;34m\u001b[0m\u001b[0;34m\u001b[0m\u001b[0m\n\u001b[1;32m      5\u001b[0m     9: {\n",
      "\u001b[0;31mTypeError\u001b[0m: unhashable type: 'list'"
     ]
    }
   ],
   "source": [
    "d = {\n",
    "    5: 'hello',\n",
    "    'hi': 'bye',\n",
    "    [0.4]: [True],\n",
    "    9: {\n",
    "        'small': 'dict'\n",
    "    }\n",
    "}\n",
    "print(d)"
   ]
  },
  {
   "cell_type": "code",
   "execution_count": 8,
   "id": "8ddaa224",
   "metadata": {},
   "outputs": [
    {
     "name": "stdout",
     "output_type": "stream",
     "text": [
      "{'Pizza': 500, 'Pasta': 400}\n"
     ]
    }
   ],
   "source": [
    "menu = {\n",
    "    'Pizza': 300,\n",
    "    'Pasta': 400,\n",
    "    'Pizza': 500\n",
    "}\n",
    "\n",
    "print(menu)"
   ]
  },
  {
   "cell_type": "code",
   "execution_count": null,
   "id": "d0fb2c7f",
   "metadata": {},
   "outputs": [],
   "source": []
  },
  {
   "cell_type": "code",
   "execution_count": null,
   "id": "535d2d03",
   "metadata": {},
   "outputs": [],
   "source": []
  },
  {
   "cell_type": "code",
   "execution_count": null,
   "id": "f9dc73cd",
   "metadata": {},
   "outputs": [],
   "source": []
  },
  {
   "cell_type": "code",
   "execution_count": null,
   "id": "0d41c368",
   "metadata": {},
   "outputs": [],
   "source": []
  },
  {
   "cell_type": "code",
   "execution_count": null,
   "id": "77599929",
   "metadata": {},
   "outputs": [],
   "source": []
  },
  {
   "cell_type": "markdown",
   "id": "021a17d2",
   "metadata": {},
   "source": [
    "### Reading values\n",
    "- square brackets\n",
    "- get()"
   ]
  },
  {
   "cell_type": "code",
   "execution_count": 9,
   "id": "1a4efbea",
   "metadata": {},
   "outputs": [],
   "source": [
    "menu = {\n",
    "    'Pizza': 300,\n",
    "    'Pasta': 400,\n",
    "    'Dal Makhani': 200,\n",
    "    'Pav Bhaji': 150\n",
    "}"
   ]
  },
  {
   "cell_type": "code",
   "execution_count": 10,
   "id": "db8fb1b8",
   "metadata": {},
   "outputs": [
    {
     "name": "stdout",
     "output_type": "stream",
     "text": [
      "400\n"
     ]
    }
   ],
   "source": [
    "print(menu['Pasta'])"
   ]
  },
  {
   "cell_type": "code",
   "execution_count": 11,
   "id": "3faa48c1",
   "metadata": {},
   "outputs": [
    {
     "name": "stdout",
     "output_type": "stream",
     "text": [
      "150\n"
     ]
    }
   ],
   "source": [
    "print(menu['Pav Bhaji'])"
   ]
  },
  {
   "cell_type": "code",
   "execution_count": 12,
   "id": "18fa1046",
   "metadata": {},
   "outputs": [
    {
     "ename": "KeyError",
     "evalue": "'Dosa'",
     "output_type": "error",
     "traceback": [
      "\u001b[0;31m---------------------------------------------------------------------------\u001b[0m",
      "\u001b[0;31mKeyError\u001b[0m                                  Traceback (most recent call last)",
      "\u001b[0;32m/var/folders/jn/1bsrct314hv5xmfm7vrcdrzc0000gn/T/ipykernel_31425/287949286.py\u001b[0m in \u001b[0;36m<module>\u001b[0;34m\u001b[0m\n\u001b[0;32m----> 1\u001b[0;31m \u001b[0mprint\u001b[0m\u001b[0;34m(\u001b[0m\u001b[0mmenu\u001b[0m\u001b[0;34m[\u001b[0m\u001b[0;34m'Dosa'\u001b[0m\u001b[0;34m]\u001b[0m\u001b[0;34m)\u001b[0m\u001b[0;34m\u001b[0m\u001b[0;34m\u001b[0m\u001b[0m\n\u001b[0m",
      "\u001b[0;31mKeyError\u001b[0m: 'Dosa'"
     ]
    }
   ],
   "source": [
    "print(menu['Dosa'])"
   ]
  },
  {
   "cell_type": "code",
   "execution_count": null,
   "id": "dbd66206",
   "metadata": {},
   "outputs": [],
   "source": []
  },
  {
   "cell_type": "code",
   "execution_count": 13,
   "id": "a5650020",
   "metadata": {},
   "outputs": [],
   "source": [
    "menu = {\n",
    "    'Pizza': 300,\n",
    "    'Pasta': 400,\n",
    "    'Dal Makhani': 200,\n",
    "    'Pav Bhaji': 150\n",
    "}"
   ]
  },
  {
   "cell_type": "code",
   "execution_count": 14,
   "id": "6b377ea6",
   "metadata": {},
   "outputs": [
    {
     "name": "stdout",
     "output_type": "stream",
     "text": [
      "300\n"
     ]
    }
   ],
   "source": [
    "print(menu.get('Pizza'))"
   ]
  },
  {
   "cell_type": "code",
   "execution_count": 15,
   "id": "919deae6",
   "metadata": {},
   "outputs": [
    {
     "name": "stdout",
     "output_type": "stream",
     "text": [
      "200\n"
     ]
    }
   ],
   "source": [
    "print(menu.get('Dal Makhani'))"
   ]
  },
  {
   "cell_type": "code",
   "execution_count": 16,
   "id": "726ba3cb",
   "metadata": {},
   "outputs": [
    {
     "name": "stdout",
     "output_type": "stream",
     "text": [
      "None\n"
     ]
    }
   ],
   "source": [
    "print(menu.get('Dosa'))\n",
    "# returns None, if the value is not present"
   ]
  },
  {
   "cell_type": "code",
   "execution_count": null,
   "id": "5dddc886",
   "metadata": {},
   "outputs": [],
   "source": []
  },
  {
   "cell_type": "code",
   "execution_count": null,
   "id": "a3010881",
   "metadata": {},
   "outputs": [],
   "source": []
  },
  {
   "cell_type": "markdown",
   "id": "a33270bf",
   "metadata": {},
   "source": [
    "## Updation and Addition\n",
    "- Updating/Adding one entry - using square brackets\n",
    "- Updating/Adding multiple entries - update()"
   ]
  },
  {
   "cell_type": "code",
   "execution_count": 17,
   "id": "ce980893",
   "metadata": {},
   "outputs": [
    {
     "name": "stdout",
     "output_type": "stream",
     "text": [
      "{'name': 'Thor', 'age': 1000, 'weapons': ['Mjolnir', 'Stormbreaker']}\n"
     ]
    }
   ],
   "source": [
    "avenger = {\n",
    "    'name': 'Thor',\n",
    "    'age': 1000,\n",
    "    'weapons': ['Mjolnir', 'Stormbreaker']\n",
    "}\n",
    "print(avenger)"
   ]
  },
  {
   "cell_type": "code",
   "execution_count": 18,
   "id": "ca6630a0",
   "metadata": {},
   "outputs": [
    {
     "name": "stdout",
     "output_type": "stream",
     "text": [
      "{'name': 'Thor Odinson', 'age': 1000, 'weapons': ['Mjolnir', 'Stormbreaker']}\n"
     ]
    }
   ],
   "source": [
    "avenger['name'] = 'Thor Odinson'\n",
    "print(avenger)"
   ]
  },
  {
   "cell_type": "code",
   "execution_count": 19,
   "id": "ebab505c",
   "metadata": {},
   "outputs": [
    {
     "name": "stdout",
     "output_type": "stream",
     "text": [
      "{'name': 'Thor Odinson', 'age': 1000, 'weapons': ['Mjolnir', 'Stormbreaker'], 'home': 'Asgard'}\n"
     ]
    }
   ],
   "source": [
    "avenger['home'] = 'Asgard'\n",
    "print(avenger)"
   ]
  },
  {
   "cell_type": "code",
   "execution_count": null,
   "id": "a9be0cad",
   "metadata": {},
   "outputs": [],
   "source": []
  },
  {
   "cell_type": "code",
   "execution_count": null,
   "id": "d0a0a2fd",
   "metadata": {},
   "outputs": [],
   "source": []
  },
  {
   "cell_type": "code",
   "execution_count": 20,
   "id": "81454298",
   "metadata": {},
   "outputs": [],
   "source": [
    "avenger = {\n",
    "    'name': 'Thor',\n",
    "    'age': 1000,\n",
    "}"
   ]
  },
  {
   "cell_type": "code",
   "execution_count": 21,
   "id": "c684b640",
   "metadata": {},
   "outputs": [
    {
     "name": "stdout",
     "output_type": "stream",
     "text": [
      "{'name': 'Thor', 'age': 1100, 'best friend': 'Heimdall', 'weapon': 'Mjolnir'}\n"
     ]
    }
   ],
   "source": [
    "avenger.update({\n",
    "    'best friend': 'Heimdall',\n",
    "    'weapon': 'Mjolnir',\n",
    "    'age': 1100\n",
    "})\n",
    "print(avenger)"
   ]
  },
  {
   "cell_type": "code",
   "execution_count": null,
   "id": "7e44ce0d",
   "metadata": {},
   "outputs": [],
   "source": []
  },
  {
   "cell_type": "code",
   "execution_count": null,
   "id": "6b378052",
   "metadata": {},
   "outputs": [],
   "source": []
  },
  {
   "cell_type": "code",
   "execution_count": 23,
   "id": "a4882f74",
   "metadata": {},
   "outputs": [
    {
     "name": "stdout",
     "output_type": "stream",
     "text": [
      "ABC\n"
     ]
    }
   ],
   "source": [
    "person = {\n",
    "    'name': 'Tarun',\n",
    "    'name': 'Luthra',\n",
    "    'name': 'ABC'\n",
    "}\n",
    "\n",
    "print(person['name'])"
   ]
  },
  {
   "cell_type": "code",
   "execution_count": 24,
   "id": "c52edeec",
   "metadata": {},
   "outputs": [
    {
     "name": "stdout",
     "output_type": "stream",
     "text": [
      "{'a': None, 'b': 5}\n"
     ]
    }
   ],
   "source": [
    "d = {\n",
    "    'a': None,\n",
    "    'b': 5\n",
    "}\n",
    "print(d)"
   ]
  },
  {
   "cell_type": "code",
   "execution_count": null,
   "id": "41237f6e",
   "metadata": {},
   "outputs": [],
   "source": []
  },
  {
   "cell_type": "code",
   "execution_count": null,
   "id": "0f759c4b",
   "metadata": {},
   "outputs": [],
   "source": []
  },
  {
   "cell_type": "code",
   "execution_count": null,
   "id": "e33eccce",
   "metadata": {},
   "outputs": [],
   "source": []
  },
  {
   "cell_type": "code",
   "execution_count": null,
   "id": "fb162d33",
   "metadata": {},
   "outputs": [],
   "source": []
  },
  {
   "cell_type": "code",
   "execution_count": null,
   "id": "4597e49a",
   "metadata": {},
   "outputs": [],
   "source": []
  },
  {
   "cell_type": "code",
   "execution_count": null,
   "id": "f4f80090",
   "metadata": {},
   "outputs": [],
   "source": []
  },
  {
   "cell_type": "code",
   "execution_count": null,
   "id": "8574e84c",
   "metadata": {},
   "outputs": [],
   "source": []
  },
  {
   "cell_type": "markdown",
   "id": "fb5317f9",
   "metadata": {},
   "source": [
    "#### Quiz 1\n",
    "What does the following Python code output?\n",
    "```py\n",
    "words = {\n",
    "\"is\": 2,\n",
    "\"hello\": 3,\n",
    "\"the\": 4\n",
    "}\n",
    "this_count = words[\"this\"]\n",
    "\n",
    "print(this_count)\n",
    "```"
   ]
  },
  {
   "cell_type": "code",
   "execution_count": 25,
   "id": "b45fa922",
   "metadata": {},
   "outputs": [
    {
     "ename": "KeyError",
     "evalue": "'this'",
     "output_type": "error",
     "traceback": [
      "\u001b[0;31m---------------------------------------------------------------------------\u001b[0m",
      "\u001b[0;31mKeyError\u001b[0m                                  Traceback (most recent call last)",
      "\u001b[0;32m/var/folders/jn/1bsrct314hv5xmfm7vrcdrzc0000gn/T/ipykernel_31425/275607736.py\u001b[0m in \u001b[0;36m<module>\u001b[0;34m\u001b[0m\n\u001b[1;32m      4\u001b[0m     \u001b[0;34m\"the\"\u001b[0m\u001b[0;34m:\u001b[0m \u001b[0;36m4\u001b[0m\u001b[0;34m\u001b[0m\u001b[0;34m\u001b[0m\u001b[0m\n\u001b[1;32m      5\u001b[0m }\n\u001b[0;32m----> 6\u001b[0;31m \u001b[0mthis_count\u001b[0m \u001b[0;34m=\u001b[0m \u001b[0mwords\u001b[0m\u001b[0;34m[\u001b[0m\u001b[0;34m\"this\"\u001b[0m\u001b[0;34m]\u001b[0m\u001b[0;34m\u001b[0m\u001b[0;34m\u001b[0m\u001b[0m\n\u001b[0m\u001b[1;32m      7\u001b[0m \u001b[0;34m\u001b[0m\u001b[0m\n\u001b[1;32m      8\u001b[0m \u001b[0mprint\u001b[0m\u001b[0;34m(\u001b[0m\u001b[0mthis_count\u001b[0m\u001b[0;34m)\u001b[0m\u001b[0;34m\u001b[0m\u001b[0;34m\u001b[0m\u001b[0m\n",
      "\u001b[0;31mKeyError\u001b[0m: 'this'"
     ]
    }
   ],
   "source": [
    "words = {\n",
    "    \"is\": 2,\n",
    "    \"hello\": 3,\n",
    "    \"the\": 4\n",
    "}\n",
    "this_count = words[\"this\"]\n",
    "\n",
    "print(this_count)"
   ]
  },
  {
   "cell_type": "code",
   "execution_count": 26,
   "id": "e5cd2787",
   "metadata": {},
   "outputs": [
    {
     "name": "stdout",
     "output_type": "stream",
     "text": [
      "None\n"
     ]
    }
   ],
   "source": [
    "words = {\n",
    "    \"is\": 2,\n",
    "    \"hello\": 3,\n",
    "    \"the\": 4\n",
    "}\n",
    "this_count = words.get(\"this\")\n",
    "\n",
    "print(this_count)"
   ]
  },
  {
   "cell_type": "code",
   "execution_count": null,
   "id": "2f597c81",
   "metadata": {},
   "outputs": [],
   "source": []
  },
  {
   "cell_type": "code",
   "execution_count": null,
   "id": "eff3768e",
   "metadata": {},
   "outputs": [],
   "source": []
  },
  {
   "cell_type": "code",
   "execution_count": null,
   "id": "3c8b2fd9",
   "metadata": {},
   "outputs": [],
   "source": []
  },
  {
   "cell_type": "code",
   "execution_count": null,
   "id": "4a5d10fa",
   "metadata": {},
   "outputs": [],
   "source": []
  },
  {
   "cell_type": "markdown",
   "id": "dafa7cc7",
   "metadata": {},
   "source": [
    "#### Quiz 2\n",
    "What is the output of the following code?\n",
    "```py\n",
    "d = {\"a\": 1, \"b\": 2, \"c\": 3}\n",
    "d['d'] = 55\n",
    "\n",
    "print(d['d'])\n",
    "```"
   ]
  },
  {
   "cell_type": "code",
   "execution_count": 27,
   "id": "713b1190",
   "metadata": {},
   "outputs": [
    {
     "name": "stdout",
     "output_type": "stream",
     "text": [
      "55\n"
     ]
    }
   ],
   "source": [
    "d = {\"a\": 1, \"b\": 2, \"c\": 3}\n",
    "d['d'] = 55\n",
    "\n",
    "print(d['d'])"
   ]
  },
  {
   "cell_type": "code",
   "execution_count": null,
   "id": "908f0a14",
   "metadata": {},
   "outputs": [],
   "source": []
  },
  {
   "cell_type": "code",
   "execution_count": null,
   "id": "26fe3973",
   "metadata": {},
   "outputs": [],
   "source": []
  },
  {
   "cell_type": "markdown",
   "id": "813489e2",
   "metadata": {},
   "source": [
    "### Are dictionaries ordered in Python ?\n"
   ]
  },
  {
   "cell_type": "code",
   "execution_count": 28,
   "id": "a0a282a5",
   "metadata": {},
   "outputs": [
    {
     "name": "stdout",
     "output_type": "stream",
     "text": [
      "{4: 'ok', 1: 'hi', 'hello': 7, 'world': 'bye', 8: 'python'}\n"
     ]
    }
   ],
   "source": [
    "d = {\n",
    "    4: 'ok',\n",
    "    1: 'hi',\n",
    "    'hello': 7,\n",
    "    'world': 'bye',\n",
    "    8: 'python'\n",
    "}\n",
    "\n",
    "print(d)"
   ]
  },
  {
   "cell_type": "code",
   "execution_count": null,
   "id": "f341ca50",
   "metadata": {},
   "outputs": [],
   "source": []
  },
  {
   "cell_type": "code",
   "execution_count": null,
   "id": "b7430f35",
   "metadata": {},
   "outputs": [],
   "source": []
  },
  {
   "cell_type": "code",
   "execution_count": null,
   "id": "8ec916d1",
   "metadata": {},
   "outputs": [],
   "source": []
  },
  {
   "cell_type": "code",
   "execution_count": null,
   "id": "373fe80c",
   "metadata": {},
   "outputs": [],
   "source": []
  },
  {
   "cell_type": "code",
   "execution_count": null,
   "id": "726b48e7",
   "metadata": {},
   "outputs": [],
   "source": []
  },
  {
   "cell_type": "markdown",
   "id": "274813bf",
   "metadata": {},
   "source": [
    "### Are Dictionaries ordered ? \n",
    "Yes and No\n",
    "\n",
    "- In Python 3.7 and above -> Ordered Dictionaries (It will remember the order of insertion)\n",
    "- In Python 3.6 or below -> Unordered Dictionaries"
   ]
  },
  {
   "cell_type": "code",
   "execution_count": null,
   "id": "05406caf",
   "metadata": {},
   "outputs": [],
   "source": []
  },
  {
   "cell_type": "code",
   "execution_count": null,
   "id": "3293c4c5",
   "metadata": {},
   "outputs": [],
   "source": []
  },
  {
   "cell_type": "code",
   "execution_count": null,
   "id": "c3625034",
   "metadata": {},
   "outputs": [],
   "source": []
  },
  {
   "cell_type": "markdown",
   "id": "36b0ce44",
   "metadata": {},
   "source": [
    "#### Quiz 3\n",
    "What is the output of the following code?\n",
    "```py\n",
    "d = {\"a\": 1, \"b\": 2, \"c\": 3}\n",
    "print(d.get(\"a\", 0))\n",
    "print(d.get(\"b\", 0))\n",
    "print(d.get(\"c\", 0))\n",
    "print(d.get(\"d\", 0))\n",
    "```"
   ]
  },
  {
   "cell_type": "code",
   "execution_count": 29,
   "id": "da92951c",
   "metadata": {},
   "outputs": [
    {
     "name": "stdout",
     "output_type": "stream",
     "text": [
      "1\n",
      "2\n",
      "3\n",
      "0\n"
     ]
    }
   ],
   "source": [
    "d = {\"a\": 1, \"b\": 2, \"c\": 3}\n",
    "print(d.get(\"a\", 0))\n",
    "# fetch the value for key 'a', if it is not present use 0 as default value\n",
    "# 1\n",
    "\n",
    "print(d.get(\"b\", 0))\n",
    "# fetch the value for key 'b', if it is not present use 0 as default value\n",
    "# 2\n",
    "\n",
    "print(d.get(\"c\", 0))\n",
    "# fetch the value for key 'c', if it is not present use 0 as default value\n",
    "# 3\n",
    "\n",
    "print(d.get(\"d\", 0))\n",
    "# fetch the value for key 'd', if it is not present use 0 as default value\n",
    "# 0 => default value"
   ]
  },
  {
   "cell_type": "code",
   "execution_count": 31,
   "id": "956aeb3d",
   "metadata": {},
   "outputs": [
    {
     "name": "stdout",
     "output_type": "stream",
     "text": [
      "None\n",
      "10\n"
     ]
    }
   ],
   "source": [
    "d = {\"a\": 1, \"b\": 2, \"c\": 3}\n",
    "\n",
    "print(d.get('d')) # default = None\n",
    "print(d.get('d', 10)) # default = 10"
   ]
  },
  {
   "cell_type": "code",
   "execution_count": null,
   "id": "d3d74ef6",
   "metadata": {},
   "outputs": [],
   "source": []
  },
  {
   "cell_type": "code",
   "execution_count": null,
   "id": "d60348d0",
   "metadata": {},
   "outputs": [],
   "source": []
  },
  {
   "cell_type": "markdown",
   "id": "6919262f",
   "metadata": {},
   "source": [
    "## Removing entries\n",
    "- pop()\n",
    "- del"
   ]
  },
  {
   "cell_type": "code",
   "execution_count": 32,
   "id": "42af5d47",
   "metadata": {},
   "outputs": [],
   "source": [
    "menu = {\n",
    "    \"Dal Makhani\": 200,\n",
    "    \"Pav Bhaji\": 300,\n",
    "    \"Pizza\": 500,\n",
    "}"
   ]
  },
  {
   "cell_type": "code",
   "execution_count": 33,
   "id": "1e528026",
   "metadata": {},
   "outputs": [],
   "source": [
    "# Remove Pizza from the menu"
   ]
  },
  {
   "cell_type": "code",
   "execution_count": 34,
   "id": "b336a5a2",
   "metadata": {},
   "outputs": [
    {
     "name": "stdout",
     "output_type": "stream",
     "text": [
      "{'Dal Makhani': 200, 'Pav Bhaji': 300}\n"
     ]
    }
   ],
   "source": [
    "menu.pop('Pizza')\n",
    "\n",
    "print(menu)"
   ]
  },
  {
   "cell_type": "code",
   "execution_count": 35,
   "id": "5656b7ef",
   "metadata": {},
   "outputs": [
    {
     "ename": "KeyError",
     "evalue": "'Dosa'",
     "output_type": "error",
     "traceback": [
      "\u001b[0;31m---------------------------------------------------------------------------\u001b[0m",
      "\u001b[0;31mKeyError\u001b[0m                                  Traceback (most recent call last)",
      "\u001b[0;32m/var/folders/jn/1bsrct314hv5xmfm7vrcdrzc0000gn/T/ipykernel_31425/3717664275.py\u001b[0m in \u001b[0;36m<module>\u001b[0;34m\u001b[0m\n\u001b[0;32m----> 1\u001b[0;31m \u001b[0mmenu\u001b[0m\u001b[0;34m.\u001b[0m\u001b[0mpop\u001b[0m\u001b[0;34m(\u001b[0m\u001b[0;34m'Dosa'\u001b[0m\u001b[0;34m)\u001b[0m\u001b[0;34m\u001b[0m\u001b[0;34m\u001b[0m\u001b[0m\n\u001b[0m\u001b[1;32m      2\u001b[0m \u001b[0mprint\u001b[0m\u001b[0;34m(\u001b[0m\u001b[0mmenu\u001b[0m\u001b[0;34m)\u001b[0m\u001b[0;34m\u001b[0m\u001b[0;34m\u001b[0m\u001b[0m\n",
      "\u001b[0;31mKeyError\u001b[0m: 'Dosa'"
     ]
    }
   ],
   "source": [
    "menu.pop('Dosa')\n",
    "print(menu)"
   ]
  },
  {
   "cell_type": "code",
   "execution_count": null,
   "id": "ac65da43",
   "metadata": {},
   "outputs": [],
   "source": []
  },
  {
   "cell_type": "code",
   "execution_count": 36,
   "id": "6c13dc0a",
   "metadata": {},
   "outputs": [
    {
     "name": "stdout",
     "output_type": "stream",
     "text": [
      "{'Dal Makhani': 200, 'Pav Bhaji': 300}\n"
     ]
    }
   ],
   "source": [
    "menu = {\n",
    "    \"Dal Makhani\": 200,\n",
    "    \"Pav Bhaji\": 300,\n",
    "    \"Pizza\": 500,\n",
    "}\n",
    "\n",
    "del menu['Pizza']\n",
    "print(menu)"
   ]
  },
  {
   "cell_type": "code",
   "execution_count": 38,
   "id": "4f29a053",
   "metadata": {},
   "outputs": [
    {
     "ename": "KeyError",
     "evalue": "'Dosa'",
     "output_type": "error",
     "traceback": [
      "\u001b[0;31m---------------------------------------------------------------------------\u001b[0m",
      "\u001b[0;31mKeyError\u001b[0m                                  Traceback (most recent call last)",
      "\u001b[0;32m/var/folders/jn/1bsrct314hv5xmfm7vrcdrzc0000gn/T/ipykernel_31425/2227640883.py\u001b[0m in \u001b[0;36m<module>\u001b[0;34m\u001b[0m\n\u001b[1;32m      5\u001b[0m }\n\u001b[1;32m      6\u001b[0m \u001b[0;34m\u001b[0m\u001b[0m\n\u001b[0;32m----> 7\u001b[0;31m \u001b[0;32mdel\u001b[0m \u001b[0mmenu\u001b[0m\u001b[0;34m[\u001b[0m\u001b[0;34m\"Dosa\"\u001b[0m\u001b[0;34m]\u001b[0m\u001b[0;34m\u001b[0m\u001b[0;34m\u001b[0m\u001b[0m\n\u001b[0m\u001b[1;32m      8\u001b[0m \u001b[0mprint\u001b[0m\u001b[0;34m(\u001b[0m\u001b[0mmenu\u001b[0m\u001b[0;34m)\u001b[0m\u001b[0;34m\u001b[0m\u001b[0;34m\u001b[0m\u001b[0m\n",
      "\u001b[0;31mKeyError\u001b[0m: 'Dosa'"
     ]
    }
   ],
   "source": [
    "menu = {\n",
    "    \"Dal Makhani\": 200,\n",
    "    \"Pav Bhaji\": 300,\n",
    "    \"Pizza\": 500,\n",
    "}\n",
    "\n",
    "del menu[\"Dosa\"]\n",
    "print(menu)"
   ]
  },
  {
   "cell_type": "code",
   "execution_count": null,
   "id": "104624b6",
   "metadata": {},
   "outputs": [],
   "source": []
  },
  {
   "cell_type": "code",
   "execution_count": null,
   "id": "4e663960",
   "metadata": {},
   "outputs": [],
   "source": []
  },
  {
   "cell_type": "code",
   "execution_count": null,
   "id": "2bc3cf30",
   "metadata": {},
   "outputs": [],
   "source": []
  },
  {
   "cell_type": "code",
   "execution_count": null,
   "id": "4aeab3a3",
   "metadata": {},
   "outputs": [],
   "source": [
    "## Break till 10:02pm"
   ]
  },
  {
   "cell_type": "code",
   "execution_count": null,
   "id": "06a33f6f",
   "metadata": {},
   "outputs": [],
   "source": []
  },
  {
   "cell_type": "code",
   "execution_count": null,
   "id": "de8d7253",
   "metadata": {},
   "outputs": [],
   "source": []
  },
  {
   "cell_type": "code",
   "execution_count": null,
   "id": "210a5412",
   "metadata": {},
   "outputs": [],
   "source": []
  },
  {
   "cell_type": "code",
   "execution_count": null,
   "id": "eeeda352",
   "metadata": {},
   "outputs": [],
   "source": []
  },
  {
   "cell_type": "code",
   "execution_count": null,
   "id": "a909214c",
   "metadata": {},
   "outputs": [],
   "source": []
  },
  {
   "cell_type": "code",
   "execution_count": null,
   "id": "e00f3ffc",
   "metadata": {},
   "outputs": [],
   "source": []
  },
  {
   "cell_type": "code",
   "execution_count": null,
   "id": "98d98091",
   "metadata": {},
   "outputs": [],
   "source": []
  },
  {
   "cell_type": "markdown",
   "id": "df68466e",
   "metadata": {},
   "source": [
    "## keys() and values()"
   ]
  },
  {
   "cell_type": "code",
   "execution_count": 39,
   "id": "bf0190ea",
   "metadata": {},
   "outputs": [],
   "source": [
    "menu = {\n",
    "    \"Dal Makhani\": 200,\n",
    "    \"Pav Bhaji\": 300,\n",
    "    \"Pizza\": 500,\n",
    "    \"Pasta\": 150\n",
    "}"
   ]
  },
  {
   "cell_type": "code",
   "execution_count": 40,
   "id": "ba816ac3",
   "metadata": {},
   "outputs": [
    {
     "name": "stdout",
     "output_type": "stream",
     "text": [
      "dict_keys(['Dal Makhani', 'Pav Bhaji', 'Pizza', 'Pasta'])\n"
     ]
    }
   ],
   "source": [
    "print(menu.keys())"
   ]
  },
  {
   "cell_type": "code",
   "execution_count": 41,
   "id": "18f75275",
   "metadata": {},
   "outputs": [
    {
     "name": "stdout",
     "output_type": "stream",
     "text": [
      "Dal Makhani\n",
      "Pav Bhaji\n",
      "Pizza\n",
      "Pasta\n"
     ]
    }
   ],
   "source": [
    "for k in menu.keys():\n",
    "    print(k)"
   ]
  },
  {
   "cell_type": "code",
   "execution_count": null,
   "id": "f3d7747e",
   "metadata": {},
   "outputs": [],
   "source": []
  },
  {
   "cell_type": "code",
   "execution_count": 42,
   "id": "4ef6ab6f",
   "metadata": {},
   "outputs": [
    {
     "name": "stdout",
     "output_type": "stream",
     "text": [
      "dict_values([200, 300, 500, 150])\n"
     ]
    }
   ],
   "source": [
    "print(menu.values())"
   ]
  },
  {
   "cell_type": "code",
   "execution_count": 43,
   "id": "8992d191",
   "metadata": {},
   "outputs": [
    {
     "name": "stdout",
     "output_type": "stream",
     "text": [
      "200\n",
      "300\n",
      "500\n",
      "150\n"
     ]
    }
   ],
   "source": [
    "for v in menu.values():\n",
    "    print(v)"
   ]
  },
  {
   "cell_type": "code",
   "execution_count": null,
   "id": "2abb54ea",
   "metadata": {},
   "outputs": [],
   "source": []
  },
  {
   "cell_type": "code",
   "execution_count": null,
   "id": "bffcf528",
   "metadata": {},
   "outputs": [],
   "source": []
  },
  {
   "cell_type": "code",
   "execution_count": 44,
   "id": "6e4fd564",
   "metadata": {},
   "outputs": [
    {
     "name": "stdout",
     "output_type": "stream",
     "text": [
      "Dal Makhani\n",
      "Pav Bhaji\n",
      "Pizza\n",
      "Pasta\n"
     ]
    }
   ],
   "source": [
    "menu = {\n",
    "    \"Dal Makhani\": 200,\n",
    "    \"Pav Bhaji\": 300,\n",
    "    \"Pizza\": 500,\n",
    "    \"Pasta\": 150\n",
    "}\n",
    "\n",
    "for x in menu:\n",
    "    print(x)"
   ]
  },
  {
   "cell_type": "code",
   "execution_count": null,
   "id": "c8b63e07",
   "metadata": {},
   "outputs": [],
   "source": [
    "# 1. Keys - correct\n",
    "# 2. Values\n",
    "# 3. Key-value pair\n",
    "# 4. Error"
   ]
  },
  {
   "cell_type": "code",
   "execution_count": null,
   "id": "00a2ef80",
   "metadata": {},
   "outputs": [],
   "source": []
  },
  {
   "cell_type": "code",
   "execution_count": 45,
   "id": "547bbc9c",
   "metadata": {},
   "outputs": [
    {
     "name": "stdout",
     "output_type": "stream",
     "text": [
      "Dal Makhani => 200\n",
      "Pav Bhaji => 300\n",
      "Pizza => 500\n",
      "Pasta => 150\n"
     ]
    }
   ],
   "source": [
    "menu = {\n",
    "    \"Dal Makhani\": 200,\n",
    "    \"Pav Bhaji\": 300,\n",
    "    \"Pizza\": 500,\n",
    "    \"Pasta\": 150\n",
    "}\n",
    "\n",
    "for x in menu:\n",
    "    print(x, '=>', menu[x])"
   ]
  },
  {
   "cell_type": "code",
   "execution_count": null,
   "id": "ad7979ed",
   "metadata": {},
   "outputs": [],
   "source": []
  },
  {
   "cell_type": "code",
   "execution_count": 47,
   "id": "f7dc0261",
   "metadata": {},
   "outputs": [
    {
     "name": "stdout",
     "output_type": "stream",
     "text": [
      "dict_items([('Dal Makhani', 200), ('Pav Bhaji', 300), ('Pizza', 500), ('Pasta', 150)])\n"
     ]
    }
   ],
   "source": [
    "menu = {\n",
    "    \"Dal Makhani\": 200,\n",
    "    \"Pav Bhaji\": 300,\n",
    "    \"Pizza\": 500,\n",
    "    \"Pasta\": 150\n",
    "}\n",
    "print(menu.items())\n",
    "# a list of key-value pairs\n",
    "# each key-value pair = tuple"
   ]
  },
  {
   "cell_type": "code",
   "execution_count": 49,
   "id": "17cf831c",
   "metadata": {},
   "outputs": [
    {
     "name": "stdout",
     "output_type": "stream",
     "text": [
      "('Dal Makhani', 200)\n",
      "('Pav Bhaji', 300)\n",
      "('Pizza', 500)\n",
      "('Pasta', 150)\n"
     ]
    }
   ],
   "source": [
    "for t in menu.items():\n",
    "    print(t)"
   ]
  },
  {
   "cell_type": "code",
   "execution_count": 48,
   "id": "327a010b",
   "metadata": {},
   "outputs": [
    {
     "name": "stdout",
     "output_type": "stream",
     "text": [
      "Dal Makhani => 200\n",
      "Pav Bhaji => 300\n",
      "Pizza => 500\n",
      "Pasta => 150\n"
     ]
    }
   ],
   "source": [
    "for k,v in menu.items():\n",
    "    print(k, '=>', v)"
   ]
  },
  {
   "cell_type": "code",
   "execution_count": null,
   "id": "0a89b2dc",
   "metadata": {},
   "outputs": [],
   "source": []
  },
  {
   "cell_type": "code",
   "execution_count": null,
   "id": "574e0726",
   "metadata": {},
   "outputs": [],
   "source": [
    "a, b = 5, 6"
   ]
  },
  {
   "cell_type": "code",
   "execution_count": null,
   "id": "ecdf7160",
   "metadata": {},
   "outputs": [],
   "source": []
  },
  {
   "cell_type": "code",
   "execution_count": null,
   "id": "28f52898",
   "metadata": {},
   "outputs": [],
   "source": []
  },
  {
   "cell_type": "code",
   "execution_count": null,
   "id": "c22becee",
   "metadata": {},
   "outputs": [],
   "source": []
  },
  {
   "cell_type": "markdown",
   "id": "0a92a43f",
   "metadata": {},
   "source": [
    "#### Quiz 4\n",
    "```py\n",
    "a = {1: 1, 2: 4, 3: 9}\n",
    "\n",
    "for x in a:\n",
    "  print(a[x], end=' ')\n",
    "```"
   ]
  },
  {
   "cell_type": "code",
   "execution_count": 51,
   "id": "59d5bc53",
   "metadata": {},
   "outputs": [
    {
     "name": "stdout",
     "output_type": "stream",
     "text": [
      "1 4 9 "
     ]
    }
   ],
   "source": [
    "a = {1: 1, 2: 4, 3: 9}\n",
    "\n",
    "for x in a:\n",
    "    print(a[x], end=' ')"
   ]
  },
  {
   "cell_type": "code",
   "execution_count": 52,
   "id": "4ff6dd06",
   "metadata": {},
   "outputs": [],
   "source": [
    "# iterating over the keys\n",
    "# x    = 1, 2, 3\n",
    "# a[x] = 1, 4, 9"
   ]
  },
  {
   "cell_type": "code",
   "execution_count": null,
   "id": "065027ec",
   "metadata": {},
   "outputs": [],
   "source": []
  },
  {
   "cell_type": "code",
   "execution_count": null,
   "id": "da92915c",
   "metadata": {},
   "outputs": [],
   "source": []
  },
  {
   "cell_type": "code",
   "execution_count": null,
   "id": "8b4b99f4",
   "metadata": {},
   "outputs": [],
   "source": []
  },
  {
   "cell_type": "markdown",
   "id": "83c23a65",
   "metadata": {},
   "source": [
    "### How to check if a key is present in a dictionary ? "
   ]
  },
  {
   "cell_type": "code",
   "execution_count": 53,
   "id": "c3604689",
   "metadata": {},
   "outputs": [],
   "source": [
    "menu = {\n",
    "    \"Dal Makhani\": 500,\n",
    "    \"Dosa\": 300,\n",
    "    \"Pizza\": 400,\n",
    "    \"Pasta\": 350\n",
    "}"
   ]
  },
  {
   "cell_type": "code",
   "execution_count": 54,
   "id": "7074af01",
   "metadata": {},
   "outputs": [
    {
     "name": "stdout",
     "output_type": "stream",
     "text": [
      "True\n"
     ]
    }
   ],
   "source": [
    "print(\"Dosa\" in menu)"
   ]
  },
  {
   "cell_type": "code",
   "execution_count": 55,
   "id": "798aa06d",
   "metadata": {},
   "outputs": [
    {
     "name": "stdout",
     "output_type": "stream",
     "text": [
      "False\n"
     ]
    }
   ],
   "source": [
    "print(\"Biryani\" in menu)"
   ]
  },
  {
   "cell_type": "code",
   "execution_count": null,
   "id": "6243169f",
   "metadata": {},
   "outputs": [],
   "source": []
  },
  {
   "cell_type": "code",
   "execution_count": null,
   "id": "f9880d89",
   "metadata": {},
   "outputs": [],
   "source": []
  },
  {
   "cell_type": "code",
   "execution_count": null,
   "id": "b27a6a21",
   "metadata": {},
   "outputs": [],
   "source": []
  },
  {
   "cell_type": "code",
   "execution_count": null,
   "id": "6e17e499",
   "metadata": {},
   "outputs": [],
   "source": []
  },
  {
   "cell_type": "code",
   "execution_count": null,
   "id": "b2961f8a",
   "metadata": {},
   "outputs": [],
   "source": []
  },
  {
   "cell_type": "markdown",
   "id": "e7869812",
   "metadata": {},
   "source": [
    "#### Frequency Map\n",
    "Given a list of numbers, print the frequencies of all unique values in it (in any order)\n",
    "\n",
    "\n",
    "Input:\n",
    "```\n",
    "[5, 5, 2, 5, 2, 6, 1, 3]\n",
    "```\n",
    "\n",
    "Output:\n",
    "```\n",
    "5 -> 3\n",
    "2 -> 2\n",
    "6 -> 1\n",
    "1 -> 1\n",
    "3 -> 1\n",
    "(Order does not matter)\n",
    "```"
   ]
  },
  {
   "cell_type": "code",
   "execution_count": null,
   "id": "d119d34f",
   "metadata": {},
   "outputs": [],
   "source": []
  },
  {
   "cell_type": "code",
   "execution_count": 66,
   "id": "dd48a688",
   "metadata": {},
   "outputs": [
    {
     "name": "stdout",
     "output_type": "stream",
     "text": [
      "{1: 3, 2: 3, 3: 2, 5: 3, 6: 3}\n"
     ]
    }
   ],
   "source": [
    "a = [5, 5, 2, 5, 2, 6, 1, 3, 3, 2, 6, 1, 6, 1]\n",
    "\n",
    "freq = {}\n",
    "\n",
    "for x in set(a):\n",
    "    freq[x] = a.count(x)\n",
    "    \n",
    "print(freq)"
   ]
  },
  {
   "cell_type": "code",
   "execution_count": 68,
   "id": "a0732b81",
   "metadata": {},
   "outputs": [
    {
     "name": "stdout",
     "output_type": "stream",
     "text": [
      "{5: 3, 2: 3, 6: 3, 1: 3, 3: 2}\n"
     ]
    }
   ],
   "source": [
    "a = [5, 5, 2, 5, 2, 6, 1, 3, 3, 2, 6, 1, 6, 1]\n",
    "\n",
    "freq = {}\n",
    "\n",
    "for x in a:\n",
    "    if x not in freq:\n",
    "        freq[x] = a.count(x)\n",
    "    \n",
    "print(freq)"
   ]
  },
  {
   "cell_type": "code",
   "execution_count": null,
   "id": "f0ef58cf",
   "metadata": {},
   "outputs": [],
   "source": []
  },
  {
   "cell_type": "code",
   "execution_count": null,
   "id": "a97a1d93",
   "metadata": {},
   "outputs": [],
   "source": []
  },
  {
   "cell_type": "code",
   "execution_count": null,
   "id": "68869063",
   "metadata": {},
   "outputs": [],
   "source": []
  },
  {
   "cell_type": "code",
   "execution_count": null,
   "id": "fb50dfb1",
   "metadata": {},
   "outputs": [],
   "source": []
  },
  {
   "cell_type": "code",
   "execution_count": 69,
   "id": "9b87dd0f",
   "metadata": {},
   "outputs": [
    {
     "name": "stdout",
     "output_type": "stream",
     "text": [
      "{'t': 4, 'h': 3, 'i': 5, 's': 3, ' ': 9, 'a': 3, 'v': 1, 'e': 2, 'r': 3, 'y': 2, 'n': 6, 'd': 1, 'o': 3, 'm': 2, 'p': 1, 'g': 2, 'w': 1}\n"
     ]
    }
   ],
   "source": [
    "a = 'this is a very random python string with no meaning'\n",
    "\n",
    "freq = {}\n",
    "\n",
    "for x in a:\n",
    "    if x not in freq:\n",
    "        freq[x] = a.count(x)\n",
    "    \n",
    "print(freq)"
   ]
  },
  {
   "cell_type": "code",
   "execution_count": null,
   "id": "490ed27f",
   "metadata": {},
   "outputs": [],
   "source": []
  },
  {
   "cell_type": "code",
   "execution_count": null,
   "id": "214a6c04",
   "metadata": {},
   "outputs": [],
   "source": []
  },
  {
   "cell_type": "code",
   "execution_count": null,
   "id": "a5c604e0",
   "metadata": {},
   "outputs": [],
   "source": []
  },
  {
   "cell_type": "code",
   "execution_count": null,
   "id": "4dc6624f",
   "metadata": {},
   "outputs": [],
   "source": []
  },
  {
   "cell_type": "code",
   "execution_count": null,
   "id": "9c2fc037",
   "metadata": {},
   "outputs": [],
   "source": []
  },
  {
   "cell_type": "code",
   "execution_count": null,
   "id": "4ce36f00",
   "metadata": {},
   "outputs": [],
   "source": []
  },
  {
   "cell_type": "code",
   "execution_count": 60,
   "id": "442207f3",
   "metadata": {},
   "outputs": [
    {
     "name": "stdout",
     "output_type": "stream",
     "text": [
      "{'name': 'ABC'}\n"
     ]
    }
   ],
   "source": [
    "person = {\n",
    "    'name': 'Tarun',\n",
    "    'name': 'Luthra',\n",
    "    'name': 'ABC'\n",
    "}\n",
    "print(person)"
   ]
  },
  {
   "cell_type": "code",
   "execution_count": null,
   "id": "4f57a135",
   "metadata": {},
   "outputs": [],
   "source": []
  },
  {
   "cell_type": "code",
   "execution_count": null,
   "id": "34a0c4c4",
   "metadata": {},
   "outputs": [],
   "source": []
  },
  {
   "cell_type": "code",
   "execution_count": null,
   "id": "781749e8",
   "metadata": {},
   "outputs": [],
   "source": []
  },
  {
   "cell_type": "markdown",
   "id": "36020bd9",
   "metadata": {},
   "source": [
    "# Bonus Reading Material\n",
    "- Dictionary in Python - https://www.scaler.com/topics/python/dictionary-in-python/\n",
    "- dict() in Python - https://www.scaler.com/topics/dict-in-python/\n",
    "- What is Dictionary in Python? - https://www.scaler.com/topics/what-is-dictionary-in-python/\n",
    "- Python Dictionary values() - https://www.scaler.com/topics/python-dictionary-values/\n",
    "- Python Dictionary Keys() Method - https://www.scaler.com/topics/python-dictionary-keys/\n",
    "- What is Ordered Dictionary Python in Python? - https://www.scaler.com/topics/ordered-dictionary-python/\n",
    "- What is Nested Dictionary in Python? - https://www.scaler.com/topics/nested-dictionary-in-python/\n",
    "- Sort Dictionary by Value in Python - https://www.scaler.com/topics/sort-dictionary-by-value-in-python/\n",
    "- fromkeys() in Python - https://www.scaler.com/topics/fromkeys-in-python/\n",
    "- How to Convert a List to Dictionary in Python? - https://www.scaler.com/topics/list-to-dictionary-python/\n",
    "- List of Dictionaries in Python - https://www.scaler.com/topics/list-of-dictionaries-in-python/\n",
    "- What is the Difference Between List and Dictionary in Python? - https://www.scaler.com/topics/difference-between-list-and-dictionary-in-python/\n",
    "- Differences between List, Tuple, Set and Dictionary in Python - https://www.scaler.com/topics/python/difference-between-dictionary-list-tuple-and-set-in-python/"
   ]
  },
  {
   "cell_type": "code",
   "execution_count": null,
   "id": "d2f1de6f",
   "metadata": {},
   "outputs": [],
   "source": []
  },
  {
   "cell_type": "code",
   "execution_count": null,
   "id": "e38627ea",
   "metadata": {},
   "outputs": [],
   "source": []
  },
  {
   "cell_type": "code",
   "execution_count": null,
   "id": "3f9a3553",
   "metadata": {},
   "outputs": [],
   "source": []
  },
  {
   "cell_type": "markdown",
   "id": "801a011b",
   "metadata": {},
   "source": [
    "# Doubts"
   ]
  },
  {
   "cell_type": "code",
   "execution_count": null,
   "id": "7363250b",
   "metadata": {},
   "outputs": [],
   "source": [
    "# Thank you everyone"
   ]
  },
  {
   "cell_type": "code",
   "execution_count": 70,
   "id": "35153a22",
   "metadata": {},
   "outputs": [],
   "source": [
    "d = {\n",
    "    'a': 5,\n",
    "    'b': {\n",
    "        'c': 10\n",
    "    }\n",
    "}"
   ]
  },
  {
   "cell_type": "code",
   "execution_count": 71,
   "id": "e36a2c72",
   "metadata": {},
   "outputs": [
    {
     "name": "stdout",
     "output_type": "stream",
     "text": [
      "{'c': 10}\n"
     ]
    }
   ],
   "source": [
    "print(d['b'])"
   ]
  },
  {
   "cell_type": "code",
   "execution_count": 72,
   "id": "9e01e682",
   "metadata": {},
   "outputs": [
    {
     "data": {
      "text/plain": [
       "10"
      ]
     },
     "execution_count": 72,
     "metadata": {},
     "output_type": "execute_result"
    }
   ],
   "source": [
    "d['b']['c']"
   ]
  },
  {
   "cell_type": "code",
   "execution_count": null,
   "id": "af842950",
   "metadata": {},
   "outputs": [],
   "source": []
  },
  {
   "cell_type": "code",
   "execution_count": null,
   "id": "2b129e40",
   "metadata": {},
   "outputs": [],
   "source": []
  },
  {
   "cell_type": "code",
   "execution_count": 74,
   "id": "e336354a",
   "metadata": {},
   "outputs": [],
   "source": [
    "userinfo = {\n",
    "    \"user1\": {\n",
    "        \"name\": \"AKash\",\n",
    "        \"age\": 18,\n",
    "        \"movie\": \"kong\",\n",
    "        \"series\": ['99', 'army of 12 monkey', 'suits']\n",
    "    },\n",
    "    \"user2\": {\n",
    "        \"name\": \"John\",\n",
    "        \"age\": 21,\n",
    "        \"movie\": \"Inception\",\n",
    "        \"series\": ['Breaking Bad', 'Game of Thrones', 'Stranger Things']\n",
    "    },\n",
    "}"
   ]
  },
  {
   "cell_type": "code",
   "execution_count": 75,
   "id": "d115b0f7",
   "metadata": {},
   "outputs": [
    {
     "name": "stdout",
     "output_type": "stream",
     "text": [
      "AKash\n"
     ]
    }
   ],
   "source": [
    "user1_name = userinfo[\"user1\"][\"name\"]\n",
    "print(user1_name)"
   ]
  },
  {
   "cell_type": "code",
   "execution_count": 76,
   "id": "5f6210f6",
   "metadata": {},
   "outputs": [
    {
     "name": "stdout",
     "output_type": "stream",
     "text": [
      "{'user1': {'name': 'Jane', 'age': 18, 'movie': 'kong', 'series': ['99', 'army of 12 monkey', 'suits']}, 'user2': {'name': 'John', 'age': 21, 'movie': 'Inception', 'series': ['Breaking Bad', 'Game of Thrones', 'Stranger Things']}}\n"
     ]
    }
   ],
   "source": [
    "userinfo[\"user1\"][\"name\"] = 'Jane'\n",
    "print(userinfo)"
   ]
  },
  {
   "cell_type": "code",
   "execution_count": 81,
   "id": "7f40ba69",
   "metadata": {},
   "outputs": [
    {
     "name": "stdout",
     "output_type": "stream",
     "text": [
      "name Jane\n",
      "age 18\n",
      "movie kong\n",
      "series ['99', 'army of 12 monkey', 'suits']\n",
      "name John\n",
      "age 21\n",
      "movie Inception\n",
      "series ['Breaking Bad', 'Game of Thrones', 'Stranger Things']\n"
     ]
    }
   ],
   "source": [
    "for x in userinfo:\n",
    "    \n",
    "    for y in userinfo[x]:\n",
    "        print(y, userinfo[x][y])"
   ]
  },
  {
   "cell_type": "code",
   "execution_count": 82,
   "id": "06f8d0fe",
   "metadata": {},
   "outputs": [],
   "source": [
    "# To implement own print function\n",
    "# work with sys module, os module"
   ]
  },
  {
   "cell_type": "code",
   "execution_count": 83,
   "id": "7d63dfd8",
   "metadata": {},
   "outputs": [],
   "source": [
    "# range() => write a loop and store the numbers in list"
   ]
  },
  {
   "cell_type": "code",
   "execution_count": null,
   "id": "6e6e8a7c",
   "metadata": {},
   "outputs": [],
   "source": []
  }
 ],
 "metadata": {
  "kernelspec": {
   "display_name": "Python 3 (ipykernel)",
   "language": "python",
   "name": "python3"
  },
  "language_info": {
   "codemirror_mode": {
    "name": "ipython",
    "version": 3
   },
   "file_extension": ".py",
   "mimetype": "text/x-python",
   "name": "python",
   "nbconvert_exporter": "python",
   "pygments_lexer": "ipython3",
   "version": "3.9.18"
  }
 },
 "nbformat": 4,
 "nbformat_minor": 5
}
