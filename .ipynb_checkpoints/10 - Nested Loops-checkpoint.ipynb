{
 "cells": [
  {
   "cell_type": "markdown",
   "id": "1672c48d",
   "metadata": {},
   "source": [
    "# Nested Loops"
   ]
  },
  {
   "cell_type": "code",
   "execution_count": null,
   "id": "e4e23153",
   "metadata": {},
   "outputs": [],
   "source": []
  },
  {
   "cell_type": "code",
   "execution_count": null,
   "id": "54416c94",
   "metadata": {},
   "outputs": [],
   "source": []
  },
  {
   "cell_type": "code",
   "execution_count": null,
   "id": "8ba03e80",
   "metadata": {},
   "outputs": [],
   "source": []
  },
  {
   "cell_type": "markdown",
   "id": "3056b525",
   "metadata": {},
   "source": [
    "#### Q. Given two digits X and Y, generate a new number by combining them such that X comes at 10s place and Y at units place.\n",
    "\n",
    "**Example**: \\\n",
    "X = 5, Y = 2 \n",
    "\n",
    "**Expected Result**: \\\n",
    "52"
   ]
  },
  {
   "cell_type": "code",
   "execution_count": null,
   "id": "2d4abf96",
   "metadata": {},
   "outputs": [],
   "source": []
  },
  {
   "cell_type": "markdown",
   "id": "c3e39bce",
   "metadata": {},
   "source": [
    "#### Quiz 1\n",
    "What formula should we use to combine two digits such that they form a new number with X at 10s place and Y at units place.\n",
    "\n",
    "**Example**: \\\n",
    "X = 5, Y = 2 \n",
    "\n",
    "**Expected Result**: \\\n",
    "52"
   ]
  },
  {
   "cell_type": "code",
   "execution_count": null,
   "id": "0b0076cb",
   "metadata": {},
   "outputs": [],
   "source": []
  },
  {
   "cell_type": "code",
   "execution_count": null,
   "id": "46409472",
   "metadata": {},
   "outputs": [],
   "source": []
  },
  {
   "cell_type": "markdown",
   "id": "6384830d",
   "metadata": {},
   "source": [
    "### Print all digits (in reverse order)\n",
    "Given N, print all of its digits.\n",
    "\n",
    "**Example**: \\\n",
    "792\n",
    "\n",
    "**Result**: \\\n",
    "2 9 7"
   ]
  },
  {
   "cell_type": "code",
   "execution_count": null,
   "id": "333aafb0",
   "metadata": {},
   "outputs": [],
   "source": []
  },
  {
   "cell_type": "code",
   "execution_count": null,
   "id": "88419fde",
   "metadata": {},
   "outputs": [],
   "source": []
  },
  {
   "cell_type": "code",
   "execution_count": null,
   "id": "dd31a466",
   "metadata": {},
   "outputs": [],
   "source": []
  },
  {
   "cell_type": "code",
   "execution_count": null,
   "id": "db7fec8e",
   "metadata": {},
   "outputs": [],
   "source": []
  },
  {
   "cell_type": "code",
   "execution_count": null,
   "id": "96cfa8b6",
   "metadata": {},
   "outputs": [],
   "source": []
  },
  {
   "cell_type": "markdown",
   "id": "990cbfa8",
   "metadata": {},
   "source": [
    "### Given a number N, generate its reverse.\n",
    "Given N, print all of its digits.\n",
    "\n",
    "**Example:**\n",
    "792\n",
    "\n",
    "**Result:**\n",
    "297\n",
    "\n",
    "\n",
    "<img src=\"https://media.giphy.com/media/Wt6kNaMjofj1jHkF7t/giphy.gif\" width=\"100px\" />"
   ]
  },
  {
   "cell_type": "code",
   "execution_count": null,
   "id": "92b1780f",
   "metadata": {},
   "outputs": [],
   "source": []
  },
  {
   "cell_type": "code",
   "execution_count": null,
   "id": "06f01c46",
   "metadata": {},
   "outputs": [],
   "source": []
  },
  {
   "cell_type": "code",
   "execution_count": null,
   "id": "87add244",
   "metadata": {},
   "outputs": [],
   "source": []
  },
  {
   "cell_type": "markdown",
   "id": "c24fbdf3",
   "metadata": {},
   "source": [
    "#### Quiz 2\n",
    "Fill in the blank\n",
    "```py\n",
    "N = 792\n",
    "x = 0\n",
    "\n",
    "while N > 0:\n",
    "    y = N % 10\n",
    "    x = ________\n",
    "    N //= 10\n",
    "    \n",
    "print(x) # 297\n",
    "```"
   ]
  },
  {
   "cell_type": "code",
   "execution_count": null,
   "id": "a1e36650",
   "metadata": {},
   "outputs": [],
   "source": []
  },
  {
   "cell_type": "code",
   "execution_count": null,
   "id": "67921e9a",
   "metadata": {},
   "outputs": [],
   "source": []
  },
  {
   "cell_type": "code",
   "execution_count": null,
   "id": "704dfbca",
   "metadata": {},
   "outputs": [],
   "source": []
  },
  {
   "cell_type": "code",
   "execution_count": null,
   "id": "a3d2f737",
   "metadata": {},
   "outputs": [],
   "source": []
  },
  {
   "cell_type": "markdown",
   "id": "04a183d8",
   "metadata": {},
   "source": [
    "### HCF\n",
    "Given two integers A and B, print their Highest Common Factor\n",
    "\n",
    "**Example:** \\\n",
    "A = 20, B = 30\n",
    "\n",
    "**Result:** \\\n",
    "10"
   ]
  },
  {
   "cell_type": "code",
   "execution_count": null,
   "id": "b8356fe2",
   "metadata": {},
   "outputs": [],
   "source": []
  },
  {
   "cell_type": "markdown",
   "id": "2b71a030",
   "metadata": {},
   "source": [
    "#### Quiz 3\n",
    "gcd(6, 8)"
   ]
  },
  {
   "cell_type": "code",
   "execution_count": null,
   "id": "032006c8",
   "metadata": {},
   "outputs": [],
   "source": []
  },
  {
   "cell_type": "code",
   "execution_count": null,
   "id": "f280c013",
   "metadata": {},
   "outputs": [],
   "source": []
  },
  {
   "cell_type": "markdown",
   "id": "50868212",
   "metadata": {},
   "source": [
    "#### Quiz 4\n",
    "gcd(17, 51)\n"
   ]
  },
  {
   "cell_type": "code",
   "execution_count": null,
   "id": "45572302",
   "metadata": {},
   "outputs": [],
   "source": []
  },
  {
   "cell_type": "code",
   "execution_count": null,
   "id": "4af0f740",
   "metadata": {},
   "outputs": [],
   "source": []
  },
  {
   "cell_type": "code",
   "execution_count": null,
   "id": "64e4585a",
   "metadata": {},
   "outputs": [],
   "source": []
  },
  {
   "cell_type": "code",
   "execution_count": null,
   "id": "caee7db6",
   "metadata": {},
   "outputs": [],
   "source": []
  },
  {
   "cell_type": "code",
   "execution_count": null,
   "id": "39492dad",
   "metadata": {},
   "outputs": [],
   "source": []
  },
  {
   "cell_type": "markdown",
   "id": "fd9e2536",
   "metadata": {},
   "source": [
    "### Print all common factors"
   ]
  },
  {
   "cell_type": "code",
   "execution_count": null,
   "id": "b6a400e4",
   "metadata": {},
   "outputs": [],
   "source": []
  },
  {
   "cell_type": "code",
   "execution_count": null,
   "id": "7fca31dd",
   "metadata": {},
   "outputs": [],
   "source": []
  },
  {
   "cell_type": "code",
   "execution_count": null,
   "id": "cc1970b9",
   "metadata": {},
   "outputs": [],
   "source": []
  },
  {
   "cell_type": "markdown",
   "id": "765dcbc2",
   "metadata": {},
   "source": [
    "### GCD / HCF"
   ]
  },
  {
   "cell_type": "code",
   "execution_count": null,
   "id": "549ff9fd",
   "metadata": {},
   "outputs": [],
   "source": []
  },
  {
   "cell_type": "code",
   "execution_count": null,
   "id": "d5384721",
   "metadata": {},
   "outputs": [],
   "source": []
  },
  {
   "cell_type": "code",
   "execution_count": null,
   "id": "ef79f6ee",
   "metadata": {},
   "outputs": [],
   "source": []
  },
  {
   "cell_type": "markdown",
   "id": "6b06e9a3",
   "metadata": {},
   "source": [
    "# Pattern Problems\n",
    "<img src=\"https://www.quotemaster.org/images/30/303c61705906ed3db267aa37a343640c.jpg\" width=\"300px\" />"
   ]
  },
  {
   "cell_type": "code",
   "execution_count": null,
   "id": "c2a38fcb",
   "metadata": {},
   "outputs": [],
   "source": []
  },
  {
   "cell_type": "markdown",
   "id": "5eac5b28",
   "metadata": {},
   "source": [
    "#### Print N stars\n",
    "**N = 5** \\\n",
    "`*****` \n",
    "\n",
    "**N = 3** \\\n",
    "`***`"
   ]
  },
  {
   "cell_type": "code",
   "execution_count": null,
   "id": "2b237321",
   "metadata": {},
   "outputs": [],
   "source": []
  },
  {
   "cell_type": "code",
   "execution_count": null,
   "id": "0e6f1892",
   "metadata": {},
   "outputs": [],
   "source": []
  },
  {
   "cell_type": "code",
   "execution_count": null,
   "id": "da98c3da",
   "metadata": {},
   "outputs": [],
   "source": []
  },
  {
   "cell_type": "code",
   "execution_count": null,
   "id": "c96b3b93",
   "metadata": {},
   "outputs": [],
   "source": []
  },
  {
   "cell_type": "markdown",
   "id": "d2e0e3b1",
   "metadata": {},
   "source": [
    "#### Quiz 5\n",
    "```py\n",
    "for i in range(3):\n",
    "    print('*', end='')\n",
    "for i in range(3):\n",
    "    print('*', end='')\n",
    "for i in range(3):\n",
    "    print('*', end='')\n",
    "```"
   ]
  },
  {
   "cell_type": "code",
   "execution_count": null,
   "id": "da0fd6b7",
   "metadata": {},
   "outputs": [],
   "source": []
  },
  {
   "cell_type": "code",
   "execution_count": null,
   "id": "0d839c6d",
   "metadata": {},
   "outputs": [],
   "source": []
  },
  {
   "cell_type": "code",
   "execution_count": null,
   "id": "4c04cebb",
   "metadata": {},
   "outputs": [],
   "source": []
  },
  {
   "cell_type": "code",
   "execution_count": null,
   "id": "8145d834",
   "metadata": {},
   "outputs": [],
   "source": []
  },
  {
   "cell_type": "markdown",
   "id": "43998caf",
   "metadata": {},
   "source": [
    "### Print N*M stars\n",
    "Given integer N, M, print N*M star grid\n",
    "\n",
    "**N = 3, M = 4** \n",
    "```\n",
    "****\n",
    "****\n",
    "****\n",
    "```\n",
    "\n",
    "**N = 5, M = 5**\n",
    "```\n",
    "*****\n",
    "*****\n",
    "*****\n",
    "*****\n",
    "*****\n",
    "```"
   ]
  },
  {
   "cell_type": "code",
   "execution_count": null,
   "id": "8f11cd8f",
   "metadata": {},
   "outputs": [],
   "source": []
  },
  {
   "cell_type": "code",
   "execution_count": null,
   "id": "874ffbf1",
   "metadata": {},
   "outputs": [],
   "source": []
  },
  {
   "cell_type": "code",
   "execution_count": null,
   "id": "ee168eac",
   "metadata": {},
   "outputs": [],
   "source": []
  },
  {
   "cell_type": "code",
   "execution_count": null,
   "id": "39ae6c82",
   "metadata": {},
   "outputs": [],
   "source": []
  },
  {
   "cell_type": "code",
   "execution_count": null,
   "id": "848a0406",
   "metadata": {},
   "outputs": [],
   "source": []
  },
  {
   "cell_type": "markdown",
   "id": "543295bb",
   "metadata": {},
   "source": [
    "#### Quiz 6\n",
    "```py\n",
    "for i in range(2):\n",
    "  for j in range(1):\n",
    "      print('*', end='')\n",
    "  print()\n",
    "```"
   ]
  },
  {
   "cell_type": "code",
   "execution_count": null,
   "id": "cbbc5588",
   "metadata": {},
   "outputs": [],
   "source": []
  },
  {
   "cell_type": "code",
   "execution_count": null,
   "id": "e77580af",
   "metadata": {},
   "outputs": [],
   "source": []
  },
  {
   "cell_type": "code",
   "execution_count": null,
   "id": "2a7f1485",
   "metadata": {},
   "outputs": [],
   "source": []
  },
  {
   "cell_type": "markdown",
   "id": "587d1e99",
   "metadata": {},
   "source": [
    "#### Quiz 7\n",
    "N = 1\n",
    "```py\n",
    "for i in range(N):\n",
    "  for j in range(N):\n",
    "    print('*', end='')\n",
    "  print('')\n",
    "```"
   ]
  },
  {
   "cell_type": "code",
   "execution_count": null,
   "id": "fb53b26d",
   "metadata": {},
   "outputs": [],
   "source": []
  },
  {
   "cell_type": "code",
   "execution_count": null,
   "id": "7cc6be2a",
   "metadata": {},
   "outputs": [],
   "source": []
  },
  {
   "cell_type": "markdown",
   "id": "ca0f9624",
   "metadata": {},
   "source": [
    "### Stair Pattern\n",
    "Given N, print the following pattern stair pattern\n",
    "\n",
    "**N = 5**\n",
    "```\n",
    "*\n",
    "**\n",
    "***\n",
    "****\n",
    "*****\n",
    "```"
   ]
  },
  {
   "cell_type": "code",
   "execution_count": null,
   "id": "6ca92140",
   "metadata": {},
   "outputs": [],
   "source": []
  },
  {
   "cell_type": "code",
   "execution_count": null,
   "id": "7b37691b",
   "metadata": {},
   "outputs": [],
   "source": []
  },
  {
   "cell_type": "code",
   "execution_count": null,
   "id": "189126f6",
   "metadata": {},
   "outputs": [],
   "source": []
  },
  {
   "cell_type": "code",
   "execution_count": null,
   "id": "85a51c1e",
   "metadata": {},
   "outputs": [],
   "source": []
  },
  {
   "cell_type": "markdown",
   "id": "a59edd3c",
   "metadata": {},
   "source": [
    "#### Quiz 9:\n",
    "```py\n",
    "N = 5\n",
    "for i in range(1, N+1):\n",
    "    for j in range(i):\n",
    "        print(j+1, end='')\n",
    "    print()\n",
    "```"
   ]
  },
  {
   "cell_type": "code",
   "execution_count": null,
   "id": "1f48d47f",
   "metadata": {},
   "outputs": [],
   "source": []
  },
  {
   "cell_type": "code",
   "execution_count": null,
   "id": "70e0865d",
   "metadata": {},
   "outputs": [],
   "source": []
  },
  {
   "cell_type": "code",
   "execution_count": null,
   "id": "d3cf152f",
   "metadata": {},
   "outputs": [],
   "source": []
  },
  {
   "cell_type": "code",
   "execution_count": null,
   "id": "144c442b",
   "metadata": {},
   "outputs": [],
   "source": []
  },
  {
   "cell_type": "markdown",
   "id": "a551979e",
   "metadata": {},
   "source": [
    "# Bonus Reading Material\n",
    "- What is Nested For Loop in Python? - https://www.scaler.com/topics/nested-for-loop-in-python/\n",
    "- Pattern Program in Python - https://www.scaler.com/topics/pattern-program-in-python/"
   ]
  },
  {
   "cell_type": "code",
   "execution_count": null,
   "id": "9123259f",
   "metadata": {},
   "outputs": [],
   "source": []
  },
  {
   "cell_type": "code",
   "execution_count": null,
   "id": "26239c65",
   "metadata": {},
   "outputs": [],
   "source": []
  },
  {
   "cell_type": "code",
   "execution_count": null,
   "id": "d2d82ef6",
   "metadata": {},
   "outputs": [],
   "source": []
  },
  {
   "cell_type": "markdown",
   "id": "5eee2727",
   "metadata": {},
   "source": [
    "# Doubts "
   ]
  },
  {
   "cell_type": "code",
   "execution_count": null,
   "id": "e70d6d84",
   "metadata": {},
   "outputs": [],
   "source": []
  },
  {
   "cell_type": "code",
   "execution_count": null,
   "id": "e4267697",
   "metadata": {},
   "outputs": [],
   "source": []
  }
 ],
 "metadata": {
  "kernelspec": {
   "display_name": "Python 3 (ipykernel)",
   "language": "python",
   "name": "python3"
  },
  "language_info": {
   "codemirror_mode": {
    "name": "ipython",
    "version": 3
   },
   "file_extension": ".py",
   "mimetype": "text/x-python",
   "name": "python",
   "nbconvert_exporter": "python",
   "pygments_lexer": "ipython3",
   "version": "3.9.18"
  }
 },
 "nbformat": 4,
 "nbformat_minor": 5
}
