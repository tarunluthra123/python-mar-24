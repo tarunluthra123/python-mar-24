{
 "cells": [
  {
   "cell_type": "markdown",
   "id": "12e3d52d",
   "metadata": {},
   "source": [
    "# Control Statements"
   ]
  },
  {
   "cell_type": "code",
   "execution_count": null,
   "id": "a4521b8f",
   "metadata": {},
   "outputs": [],
   "source": []
  },
  {
   "cell_type": "markdown",
   "id": "ce2a09b6",
   "metadata": {},
   "source": [
    "# Decisions and Control Statements\n",
    "![](https://scaler.com/topics/images/Python-Flow-control-statements.webp)"
   ]
  },
  {
   "cell_type": "code",
   "execution_count": null,
   "id": "2f549d83",
   "metadata": {},
   "outputs": [],
   "source": []
  },
  {
   "cell_type": "code",
   "execution_count": null,
   "id": "b580fff2",
   "metadata": {},
   "outputs": [],
   "source": []
  },
  {
   "cell_type": "code",
   "execution_count": null,
   "id": "71f8bed7",
   "metadata": {},
   "outputs": [],
   "source": []
  },
  {
   "cell_type": "markdown",
   "id": "ea5ec28d",
   "metadata": {},
   "source": [
    "####  Given the temperature as input, decide whether you should wear a jacket or a t-shirt while going outside"
   ]
  },
  {
   "cell_type": "code",
   "execution_count": 3,
   "id": "876a083f",
   "metadata": {},
   "outputs": [],
   "source": [
    "temp = 30\n",
    "\n",
    "if temp < 20:\n",
    "    print(\"Jacket\")"
   ]
  },
  {
   "cell_type": "code",
   "execution_count": 4,
   "id": "fe80b946",
   "metadata": {},
   "outputs": [
    {
     "name": "stdout",
     "output_type": "stream",
     "text": [
      "Jacket\n"
     ]
    }
   ],
   "source": [
    "temp = 10\n",
    "\n",
    "if temp < 20:\n",
    "    print(\"Jacket\")"
   ]
  },
  {
   "cell_type": "code",
   "execution_count": null,
   "id": "d269d8eb",
   "metadata": {},
   "outputs": [],
   "source": [
    "# 10 < 20 => True"
   ]
  },
  {
   "cell_type": "code",
   "execution_count": 10,
   "id": "b53d5075",
   "metadata": {},
   "outputs": [
    {
     "name": "stdout",
     "output_type": "stream",
     "text": [
      "T-Shirt\n"
     ]
    }
   ],
   "source": [
    "temp = 40\n",
    "\n",
    "if temp < 20:\n",
    "    print(\"Jacket\")\n",
    "else:\n",
    "    print(\"T-Shirt\")"
   ]
  },
  {
   "cell_type": "code",
   "execution_count": 20,
   "id": "9db9badc",
   "metadata": {},
   "outputs": [
    {
     "name": "stdout",
     "output_type": "stream",
     "text": [
      "T-Shirt\n",
      "Sunglasses\n",
      "Shorts\n",
      "After the if-else\n"
     ]
    }
   ],
   "source": [
    "temp = 50\n",
    "\n",
    "if temp < 20:\n",
    "    print(\"Jacket\")\n",
    "    print(\"Socks\")\n",
    "    print(\"Scarf\")\n",
    "else:\n",
    "    print(\"T-Shirt\")\n",
    "    print(\"Sunglasses\")\n",
    "    print(\"Shorts\")\n",
    "    \n",
    "print(\"After the if-else\") # Exists outside the if-else"
   ]
  },
  {
   "cell_type": "code",
   "execution_count": null,
   "id": "bfd47a05",
   "metadata": {},
   "outputs": [],
   "source": []
  },
  {
   "cell_type": "code",
   "execution_count": null,
   "id": "d83264e5",
   "metadata": {},
   "outputs": [],
   "source": []
  },
  {
   "cell_type": "markdown",
   "id": "e758560e",
   "metadata": {},
   "source": [
    "#### Password validation system "
   ]
  },
  {
   "cell_type": "code",
   "execution_count": 6,
   "id": "f8db64b7",
   "metadata": {},
   "outputs": [
    {
     "name": "stdout",
     "output_type": "stream",
     "text": [
      "Successfully signed in\n"
     ]
    }
   ],
   "source": [
    "db_password = 'abc123'\n",
    "input_password = 'abc123'\n",
    "\n",
    "if db_password == input_password:\n",
    "    print(\"Successfully signed in\")"
   ]
  },
  {
   "cell_type": "code",
   "execution_count": 12,
   "id": "814cc807",
   "metadata": {},
   "outputs": [
    {
     "name": "stdout",
     "output_type": "stream",
     "text": [
      "Incorrect password entered\n"
     ]
    }
   ],
   "source": [
    "db_password = 'abc123'\n",
    "input_password = 'abcd123'\n",
    "\n",
    "if db_password == input_password:\n",
    "    print(\"Successfully signed in\")\n",
    "else:\n",
    "    print(\"Incorrect password entered\")"
   ]
  },
  {
   "cell_type": "code",
   "execution_count": null,
   "id": "7b89788d",
   "metadata": {},
   "outputs": [],
   "source": []
  },
  {
   "cell_type": "code",
   "execution_count": null,
   "id": "b74ce67d",
   "metadata": {},
   "outputs": [],
   "source": []
  },
  {
   "cell_type": "code",
   "execution_count": null,
   "id": "7e3a350b",
   "metadata": {},
   "outputs": [],
   "source": []
  },
  {
   "cell_type": "markdown",
   "id": "549bd3b5",
   "metadata": {},
   "source": [
    "#### Check if even\n",
    "Read a number from user input, and check if it is even"
   ]
  },
  {
   "cell_type": "code",
   "execution_count": 8,
   "id": "eb365490",
   "metadata": {},
   "outputs": [
    {
     "name": "stdout",
     "output_type": "stream",
     "text": [
      "8\n",
      "Number is even\n"
     ]
    }
   ],
   "source": [
    "n = int(input())\n",
    "\n",
    "# If even print \"Number is even\"\n",
    "# If odd do nothing\n",
    "\n",
    "if n % 2 == 0:\n",
    "    print(\"Number is even\")"
   ]
  },
  {
   "cell_type": "code",
   "execution_count": 14,
   "id": "1ce6c5aa",
   "metadata": {},
   "outputs": [
    {
     "name": "stdout",
     "output_type": "stream",
     "text": [
      "11\n",
      "Number is odd\n"
     ]
    }
   ],
   "source": [
    "n = int(input())\n",
    "\n",
    "if n % 2 == 0:\n",
    "    print(\"Number is even\")\n",
    "else:\n",
    "    print(\"Number is odd\")"
   ]
  },
  {
   "cell_type": "code",
   "execution_count": null,
   "id": "e3539da4",
   "metadata": {},
   "outputs": [],
   "source": []
  },
  {
   "cell_type": "code",
   "execution_count": null,
   "id": "48e3b7a0",
   "metadata": {},
   "outputs": [],
   "source": []
  },
  {
   "cell_type": "code",
   "execution_count": null,
   "id": "b763ed1a",
   "metadata": {},
   "outputs": [],
   "source": []
  },
  {
   "cell_type": "markdown",
   "id": "010bae3a",
   "metadata": {},
   "source": [
    "#### Quiz 1\n",
    "What would be the value of result at the end of this code?\n",
    "```py\n",
    "num1 = 10\n",
    "num2 = 20\n",
    "result = 4000\n",
    "\n",
    "if (num1 > 50 or num2 <= 5):\n",
    "    result = num1 * num2\n",
    "else:\n",
    "    result = num1 + num2\n",
    "```"
   ]
  },
  {
   "cell_type": "code",
   "execution_count": null,
   "id": "c88b9f1a",
   "metadata": {},
   "outputs": [],
   "source": [
    "# Options = 200, 30, 4000"
   ]
  },
  {
   "cell_type": "code",
   "execution_count": null,
   "id": "9f8dbcf5",
   "metadata": {},
   "outputs": [],
   "source": [
    "# 10 > 50 or 20 <= 5\n",
    "# False or False = False\n",
    "\n",
    "# result = 10 + 20"
   ]
  },
  {
   "cell_type": "code",
   "execution_count": 15,
   "id": "9b55dd60",
   "metadata": {},
   "outputs": [
    {
     "name": "stdout",
     "output_type": "stream",
     "text": [
      "30\n"
     ]
    }
   ],
   "source": [
    "num1 = 10\n",
    "num2 = 20\n",
    "result = 4000\n",
    "\n",
    "if (num1 > 50 or num2 <= 5):\n",
    "    result = num1 * num2\n",
    "else:\n",
    "    result = num1 + num2\n",
    "    \n",
    "print(result)"
   ]
  },
  {
   "cell_type": "code",
   "execution_count": null,
   "id": "718a965a",
   "metadata": {},
   "outputs": [],
   "source": []
  },
  {
   "cell_type": "code",
   "execution_count": null,
   "id": "479ef0fd",
   "metadata": {},
   "outputs": [],
   "source": []
  },
  {
   "cell_type": "code",
   "execution_count": null,
   "id": "f3fd8b46",
   "metadata": {},
   "outputs": [],
   "source": []
  },
  {
   "cell_type": "code",
   "execution_count": null,
   "id": "a5d53c20",
   "metadata": {},
   "outputs": [],
   "source": []
  },
  {
   "cell_type": "code",
   "execution_count": null,
   "id": "dc5fcefe",
   "metadata": {},
   "outputs": [],
   "source": []
  },
  {
   "cell_type": "code",
   "execution_count": null,
   "id": "66f767ec",
   "metadata": {},
   "outputs": [],
   "source": []
  },
  {
   "cell_type": "markdown",
   "id": "1f2b16e3",
   "metadata": {},
   "source": [
    "### Check if a person is eligible to vote based on nationality and age"
   ]
  },
  {
   "cell_type": "code",
   "execution_count": 25,
   "id": "a2f39eca",
   "metadata": {},
   "outputs": [
    {
     "name": "stdout",
     "output_type": "stream",
     "text": [
      "Not eligible to vote\n"
     ]
    }
   ],
   "source": [
    "nationality = \"indian\"\n",
    "age = 50\n",
    "\n",
    "if nationality == \"Indian\" and age >= 18:\n",
    "    print(\"Eligible to vote in India\")\n",
    "else:\n",
    "    print(\"Not eligible to vote\")"
   ]
  },
  {
   "cell_type": "code",
   "execution_count": null,
   "id": "dc2df39a",
   "metadata": {},
   "outputs": [],
   "source": []
  },
  {
   "cell_type": "code",
   "execution_count": null,
   "id": "f441243e",
   "metadata": {},
   "outputs": [],
   "source": []
  },
  {
   "cell_type": "markdown",
   "id": "bbf58a1d",
   "metadata": {},
   "source": [
    "#### Quiz 2\n",
    "\n",
    "What is the output of the following code?\n",
    "\n",
    "```py\n",
    "x = 3\n",
    "if x == 3:\n",
    "\tprint(\"x is 3\")\n",
    "if x < 5:\n",
    "\tprint(\"x is less than 5\")\n",
    "if x > 0:\n",
    "\tprint(\"x is positive\")\n",
    "```"
   ]
  },
  {
   "cell_type": "code",
   "execution_count": 26,
   "id": "a2b43686",
   "metadata": {},
   "outputs": [
    {
     "name": "stdout",
     "output_type": "stream",
     "text": [
      "x is 3\n",
      "x is less than 5\n",
      "x is positive\n"
     ]
    }
   ],
   "source": [
    "x = 3\n",
    "if x == 3:\n",
    "    print(\"x is 3\")\n",
    "    \n",
    "if x < 5:\n",
    "    print(\"x is less than 5\")\n",
    "    \n",
    "if x > 0:\n",
    "    print(\"x is positive\")"
   ]
  },
  {
   "cell_type": "code",
   "execution_count": null,
   "id": "9e3b4320",
   "metadata": {},
   "outputs": [],
   "source": [
    "# x is 3\n",
    "# x is less than 5\n",
    "# x is positive"
   ]
  },
  {
   "cell_type": "code",
   "execution_count": null,
   "id": "9fd9ba50",
   "metadata": {},
   "outputs": [],
   "source": []
  },
  {
   "cell_type": "code",
   "execution_count": 27,
   "id": "97aa41f0",
   "metadata": {},
   "outputs": [
    {
     "name": "stdout",
     "output_type": "stream",
     "text": [
      "x is positive\n"
     ]
    }
   ],
   "source": [
    "x = 7\n",
    "if x == 3:\n",
    "    print(\"x is 3\")\n",
    "    \n",
    "if x < 5:\n",
    "    print(\"x is less than 5\")\n",
    "    \n",
    "if x > 0:\n",
    "    print(\"x is positive\")"
   ]
  },
  {
   "cell_type": "code",
   "execution_count": 28,
   "id": "ca8e2455",
   "metadata": {},
   "outputs": [
    {
     "name": "stdout",
     "output_type": "stream",
     "text": [
      "x is less than 5\n",
      "x is positive\n"
     ]
    }
   ],
   "source": [
    "x = 4\n",
    "if x == 3:\n",
    "    print(\"x is 3\")\n",
    "    \n",
    "if x < 5:\n",
    "    print(\"x is less than 5\")\n",
    "    \n",
    "if x > 0:\n",
    "    print(\"x is positive\")"
   ]
  },
  {
   "cell_type": "code",
   "execution_count": null,
   "id": "0f78d442",
   "metadata": {},
   "outputs": [],
   "source": []
  },
  {
   "cell_type": "code",
   "execution_count": null,
   "id": "b36050b4",
   "metadata": {},
   "outputs": [],
   "source": []
  },
  {
   "cell_type": "markdown",
   "id": "bb6da446",
   "metadata": {},
   "source": [
    "#### Quiz 3\n",
    "What is the output of the following code?\n",
    "```py\n",
    "x = 5\n",
    "if x > 10:\n",
    "    print(\"Hello\")\n",
    "else:\n",
    "    print(\"World\")\n",
    "```"
   ]
  },
  {
   "cell_type": "code",
   "execution_count": 29,
   "id": "d77906fe",
   "metadata": {},
   "outputs": [
    {
     "name": "stdout",
     "output_type": "stream",
     "text": [
      "World\n"
     ]
    }
   ],
   "source": [
    "x = 5\n",
    "if x > 10:\n",
    "    print(\"Hello\")\n",
    "else:\n",
    "    print(\"World\")"
   ]
  },
  {
   "cell_type": "code",
   "execution_count": null,
   "id": "552fa91b",
   "metadata": {},
   "outputs": [],
   "source": []
  },
  {
   "cell_type": "code",
   "execution_count": null,
   "id": "9957d822",
   "metadata": {},
   "outputs": [],
   "source": []
  },
  {
   "cell_type": "code",
   "execution_count": null,
   "id": "03c32608",
   "metadata": {},
   "outputs": [],
   "source": []
  },
  {
   "cell_type": "markdown",
   "id": "2e8db3ae",
   "metadata": {},
   "source": [
    "#### Quiz 4\n",
    "What is the output of the following code?\n",
    "```py\n",
    "x = 0\n",
    "if x:\n",
    "    print(\"True\")\n",
    "else:\n",
    "    print(\"False\")\n",
    "```"
   ]
  },
  {
   "cell_type": "code",
   "execution_count": 31,
   "id": "36610369",
   "metadata": {},
   "outputs": [
    {
     "name": "stdout",
     "output_type": "stream",
     "text": [
      "False\n"
     ]
    }
   ],
   "source": [
    "x = 0\n",
    "if x:\n",
    "    print(\"True\")\n",
    "else:\n",
    "    print(\"False\")"
   ]
  },
  {
   "cell_type": "code",
   "execution_count": null,
   "id": "b51d203d",
   "metadata": {},
   "outputs": [],
   "source": []
  },
  {
   "cell_type": "code",
   "execution_count": null,
   "id": "9f2323b7",
   "metadata": {},
   "outputs": [],
   "source": [
    "# When an int value was provided instead of a boolean\n",
    "# Python automatically tries to convert that value to a boolean\n",
    "\n",
    "# 0 is evaluated as False, which leads to the execution of the else block"
   ]
  },
  {
   "cell_type": "code",
   "execution_count": 30,
   "id": "4611c3f2",
   "metadata": {},
   "outputs": [
    {
     "name": "stdout",
     "output_type": "stream",
     "text": [
      "False\n"
     ]
    }
   ],
   "source": [
    "print(bool(0))"
   ]
  },
  {
   "cell_type": "code",
   "execution_count": null,
   "id": "416c5e2f",
   "metadata": {},
   "outputs": [],
   "source": []
  },
  {
   "cell_type": "code",
   "execution_count": null,
   "id": "25b35ad6",
   "metadata": {},
   "outputs": [],
   "source": []
  },
  {
   "cell_type": "markdown",
   "id": "72bd192b",
   "metadata": {},
   "source": [
    "## elif"
   ]
  },
  {
   "cell_type": "markdown",
   "id": "58e9c982",
   "metadata": {},
   "source": [
    "![](https://scaler.com/topics/images/if-elif-else-in-python-768x499.webp)"
   ]
  },
  {
   "cell_type": "code",
   "execution_count": null,
   "id": "285e7604",
   "metadata": {},
   "outputs": [],
   "source": []
  },
  {
   "cell_type": "markdown",
   "id": "255ca2c0",
   "metadata": {},
   "source": [
    "#### Greet the user as per time"
   ]
  },
  {
   "cell_type": "code",
   "execution_count": 38,
   "id": "56271d7a",
   "metadata": {},
   "outputs": [
    {
     "name": "stdout",
     "output_type": "stream",
     "text": [
      "Good night\n"
     ]
    }
   ],
   "source": [
    "time = 2300\n",
    "# time in 24-hr format\n",
    "# 1500 = 3pm\n",
    "\n",
    "if time <= 1200:\n",
    "    print(\"Good morning\")\n",
    "elif time <= 1700:\n",
    "    print(\"Good afternoon\")\n",
    "elif time <= 2200:\n",
    "    print(\"Good evening\")\n",
    "else:\n",
    "    print(\"Good night\")"
   ]
  },
  {
   "cell_type": "code",
   "execution_count": null,
   "id": "89d42dc2",
   "metadata": {},
   "outputs": [],
   "source": [
    "# Till 12 noon = Good morning\n",
    "# Till 5pm = Good afternoon\n",
    "# Till 10pm = Good evening\n",
    "# Good night"
   ]
  },
  {
   "cell_type": "code",
   "execution_count": null,
   "id": "687164ba",
   "metadata": {},
   "outputs": [],
   "source": [
    "# elif = else if"
   ]
  },
  {
   "cell_type": "code",
   "execution_count": null,
   "id": "f0e517de",
   "metadata": {},
   "outputs": [],
   "source": []
  },
  {
   "cell_type": "code",
   "execution_count": 39,
   "id": "b31c1620",
   "metadata": {},
   "outputs": [
    {
     "name": "stdout",
     "output_type": "stream",
     "text": [
      "Good night\n"
     ]
    }
   ],
   "source": [
    "time = 2300\n",
    "# time in 24-hr format\n",
    "# 1500 = 3pm\n",
    "\n",
    "if time >= 0 and time <= 1200:\n",
    "    print(\"Good morning\")\n",
    "elif time <= 1700:\n",
    "    print(\"Good afternoon\")\n",
    "elif time <= 2200:\n",
    "    print(\"Good evening\")\n",
    "elif time <= 2399:\n",
    "    print(\"Good night\")\n",
    "else:\n",
    "    print(\"Invalid input\")"
   ]
  },
  {
   "cell_type": "code",
   "execution_count": null,
   "id": "9e469d6a",
   "metadata": {},
   "outputs": [],
   "source": []
  },
  {
   "cell_type": "code",
   "execution_count": null,
   "id": "9819d1cd",
   "metadata": {},
   "outputs": [],
   "source": []
  },
  {
   "cell_type": "code",
   "execution_count": null,
   "id": "62bf7edc",
   "metadata": {},
   "outputs": [],
   "source": []
  },
  {
   "cell_type": "markdown",
   "id": "6440733e",
   "metadata": {},
   "source": [
    "#### Quiz 5\n",
    "```py\n",
    "age = 15\n",
    "if age < 18:\n",
    "\tprint(\"You are not eligible to vote\")\n",
    "elif age >= 18 and age < 21:\n",
    "\tprint(\"You can vote but can't drink\")\n",
    "else:\n",
    "\tprint(\"You can vote and drink\")\n",
    "```"
   ]
  },
  {
   "cell_type": "code",
   "execution_count": 40,
   "id": "22978461",
   "metadata": {},
   "outputs": [
    {
     "name": "stdout",
     "output_type": "stream",
     "text": [
      "You are not eligible to vote\n"
     ]
    }
   ],
   "source": [
    "age = 15\n",
    "if age < 18:\n",
    "    print(\"You are not eligible to vote\")\n",
    "elif age >= 18 and age < 21:\n",
    "    print(\"You can vote but can't drink\")\n",
    "else:\n",
    "    print(\"You can vote and drink\")"
   ]
  },
  {
   "cell_type": "code",
   "execution_count": null,
   "id": "34a02cb0",
   "metadata": {},
   "outputs": [],
   "source": []
  },
  {
   "cell_type": "code",
   "execution_count": 41,
   "id": "614d0d0c",
   "metadata": {},
   "outputs": [
    {
     "name": "stdout",
     "output_type": "stream",
     "text": [
      "You can vote but can't drink\n"
     ]
    }
   ],
   "source": [
    "age = 20\n",
    "if age < 18: # False\n",
    "    print(\"You are not eligible to vote\")\n",
    "elif age >= 18 and age < 21: # 20 >= 18 and 20 < 21 => True\n",
    "    print(\"You can vote but can't drink\")\n",
    "else:\n",
    "    print(\"You can vote and drink\")"
   ]
  },
  {
   "cell_type": "code",
   "execution_count": 42,
   "id": "8cae3a3b",
   "metadata": {},
   "outputs": [
    {
     "name": "stdout",
     "output_type": "stream",
     "text": [
      "You can vote and drink\n"
     ]
    }
   ],
   "source": [
    "age = 45\n",
    "if age < 18: # False\n",
    "    print(\"You are not eligible to vote\")\n",
    "elif age >= 18 and age < 21: # False\n",
    "    print(\"You can vote but can't drink\")\n",
    "else:\n",
    "    print(\"You can vote and drink\")"
   ]
  },
  {
   "cell_type": "code",
   "execution_count": null,
   "id": "9415aabc",
   "metadata": {},
   "outputs": [],
   "source": []
  },
  {
   "cell_type": "code",
   "execution_count": 43,
   "id": "2badeade",
   "metadata": {},
   "outputs": [],
   "source": [
    "age = 45\n",
    "if age < 18: # False\n",
    "    print(\"You are not eligible to vote\")\n",
    "elif age >= 18 and age < 21: # False\n",
    "    print(\"You can vote but can't drink\")"
   ]
  },
  {
   "cell_type": "code",
   "execution_count": null,
   "id": "8ada788a",
   "metadata": {},
   "outputs": [],
   "source": []
  },
  {
   "cell_type": "code",
   "execution_count": null,
   "id": "72b55341",
   "metadata": {},
   "outputs": [],
   "source": []
  },
  {
   "cell_type": "markdown",
   "id": "639df61a",
   "metadata": {},
   "source": [
    "#### Quiz 6\n",
    "```py\n",
    "a = 1\n",
    "b = 0\n",
    "c = 1\n",
    "if (a and b):\n",
    "    print(\"Scaler is awesome\")\n",
    "elif (a and c):\n",
    "    print(\"ML is fun\")\n",
    "if (a and b and c):\n",
    "    print(\"Python is amazing\")\n",
    "if (a or b or c):\n",
    "    print(\"I love DS\")\n",
    "```"
   ]
  },
  {
   "cell_type": "code",
   "execution_count": 46,
   "id": "6ab2c0e5",
   "metadata": {},
   "outputs": [
    {
     "name": "stdout",
     "output_type": "stream",
     "text": [
      "ML is fun\n",
      "I love DS\n"
     ]
    }
   ],
   "source": [
    "a = 1 # True\n",
    "b = 0 # False\n",
    "c = 1 # True\n",
    "if (a and b): # T and F => F\n",
    "    print(\"Scaler is awesome\")\n",
    "elif (a and c): # T and T => T\n",
    "    print(\"ML is fun\") # will get executed\n",
    "    \n",
    "if (a and b and c): # T and F and T => F\n",
    "    print(\"Python is amazing\")\n",
    "    \n",
    "if (a or b or c): # T or F or T => T\n",
    "    print(\"I love DS\") # will get executed"
   ]
  },
  {
   "cell_type": "code",
   "execution_count": null,
   "id": "18f7e878",
   "metadata": {},
   "outputs": [],
   "source": [
    "# Ml is fun\n",
    "# I love DS"
   ]
  },
  {
   "cell_type": "code",
   "execution_count": null,
   "id": "8bbb4fe5",
   "metadata": {},
   "outputs": [],
   "source": [
    "# 1 = True\n",
    "# 0 = False"
   ]
  },
  {
   "cell_type": "code",
   "execution_count": 44,
   "id": "cb875ba7",
   "metadata": {},
   "outputs": [
    {
     "name": "stdout",
     "output_type": "stream",
     "text": [
      "False\n"
     ]
    }
   ],
   "source": [
    "print(bool(0))"
   ]
  },
  {
   "cell_type": "code",
   "execution_count": 45,
   "id": "a1e896a1",
   "metadata": {},
   "outputs": [
    {
     "name": "stdout",
     "output_type": "stream",
     "text": [
      "True\n"
     ]
    }
   ],
   "source": [
    "print(bool(1))"
   ]
  },
  {
   "cell_type": "code",
   "execution_count": null,
   "id": "36551e3a",
   "metadata": {},
   "outputs": [],
   "source": []
  },
  {
   "cell_type": "code",
   "execution_count": null,
   "id": "e1e624f6",
   "metadata": {},
   "outputs": [],
   "source": []
  },
  {
   "cell_type": "code",
   "execution_count": 47,
   "id": "9b928988",
   "metadata": {},
   "outputs": [
    {
     "name": "stdout",
     "output_type": "stream",
     "text": [
      "ML is fun\n"
     ]
    }
   ],
   "source": [
    "a = 1\n",
    "b = 0\n",
    "c = 1\n",
    "if (a and b): # F\n",
    "    print(\"Scaler is awesome\")\n",
    "elif (a and c): # T\n",
    "    print(\"ML is fun\")\n",
    "elif (a and b and c):\n",
    "    print(\"Python is amazing\")\n",
    "elif (a or b or c):\n",
    "    print(\"I love DS\")"
   ]
  },
  {
   "cell_type": "code",
   "execution_count": null,
   "id": "cc7417ec",
   "metadata": {},
   "outputs": [],
   "source": []
  },
  {
   "cell_type": "code",
   "execution_count": null,
   "id": "b3fe1252",
   "metadata": {},
   "outputs": [],
   "source": []
  },
  {
   "cell_type": "code",
   "execution_count": null,
   "id": "c082a038",
   "metadata": {},
   "outputs": [],
   "source": []
  },
  {
   "cell_type": "code",
   "execution_count": null,
   "id": "9801262a",
   "metadata": {},
   "outputs": [],
   "source": []
  },
  {
   "cell_type": "markdown",
   "id": "479aca03",
   "metadata": {},
   "source": [
    "## Example - Roller Coaster Ride"
   ]
  },
  {
   "cell_type": "code",
   "execution_count": null,
   "id": "e006024c",
   "metadata": {},
   "outputs": [],
   "source": [
    "age = int(input())\n",
    "\n",
    "if age >= 13:\n",
    "    print(\"You can ride the roller coaster!\")\n",
    "else:\n",
    "    print(\"You can't ride the roller coaster.\")"
   ]
  },
  {
   "cell_type": "code",
   "execution_count": null,
   "id": "77af22a1",
   "metadata": {},
   "outputs": [],
   "source": []
  },
  {
   "cell_type": "code",
   "execution_count": null,
   "id": "be08baae",
   "metadata": {},
   "outputs": [],
   "source": []
  },
  {
   "cell_type": "markdown",
   "id": "5364334c",
   "metadata": {},
   "source": [
    "# Bonus Reading Material\n",
    "- What is Assignment Operator in Python? - https://www.scaler.com/topics/assignment-operator-in-python/\n",
    "- What are Logical Operators in Python? - https://www.scaler.com/topics/logical-operators-in-python/\n",
    "- Control Flow Statements in Python - https://www.scaler.com/topics/python/control-flow-statements-in-python/\n",
    "- Python if…else Statement - https://www.scaler.com/topics/python/python-if-else-statement/\n",
    "- Even Odd Program in Python - https://www.scaler.com/topics/even-odd-program-in-python/\n",
    "- FizzBuzz Program in Python - https://www.scaler.com/topics/fizzbuzz-program-in-python/"
   ]
  },
  {
   "cell_type": "code",
   "execution_count": null,
   "id": "17a7693e",
   "metadata": {},
   "outputs": [],
   "source": []
  },
  {
   "cell_type": "code",
   "execution_count": null,
   "id": "b80000d4",
   "metadata": {},
   "outputs": [],
   "source": []
  },
  {
   "cell_type": "markdown",
   "id": "5d855619",
   "metadata": {},
   "source": [
    "# Doubts"
   ]
  },
  {
   "cell_type": "code",
   "execution_count": null,
   "id": "dd70fb49",
   "metadata": {},
   "outputs": [],
   "source": []
  },
  {
   "cell_type": "code",
   "execution_count": 48,
   "id": "d67417e6",
   "metadata": {},
   "outputs": [
    {
     "name": "stdout",
     "output_type": "stream",
     "text": [
      "1234567890\n",
      "True\n"
     ]
    }
   ],
   "source": [
    "varun = 1234880990\n",
    "calling_phone_number = int(input())\n",
    "\n",
    "print(calling_phone_number < 1234880990)"
   ]
  },
  {
   "cell_type": "markdown",
   "id": "e414dda7",
   "metadata": {},
   "source": [
    "Hello Tarun ,\n",
    "I have same Question from perviouos session.\n",
    "As Vamshi mentioned about the integer interning , i think the range is no longer -5 to 256.\n",
    "as I tried almost 20 digit number both -ve and +ve I still got true output for (a is b).\n",
    "Once diff I found if I am running code in VS code or Pycharm IDE I am getting True for (a is b) for any number .\n",
    "if same is run in google colab its giving False.\n",
    "in VS code/Pycharm i am running it through .py file but in google colab it runs directly.\n",
    "I read about REPL vs File in python . is google colab REPL. REPL vs .py File is reason the above diff outputs?\n",
    "also a, b = 1000 , 1000 gives True for (a is b) in google colab\n",
    "but in case of LIST like a = [1,2,3] b = [1,2] (a is b) gives correct output both in IDE and colab."
   ]
  },
  {
   "cell_type": "code",
   "execution_count": null,
   "id": "9a247046",
   "metadata": {},
   "outputs": [],
   "source": []
  }
 ],
 "metadata": {
  "kernelspec": {
   "display_name": "Python 3 (ipykernel)",
   "language": "python",
   "name": "python3"
  },
  "language_info": {
   "codemirror_mode": {
    "name": "ipython",
    "version": 3
   },
   "file_extension": ".py",
   "mimetype": "text/x-python",
   "name": "python",
   "nbconvert_exporter": "python",
   "pygments_lexer": "ipython3",
   "version": "3.9.18"
  }
 },
 "nbformat": 4,
 "nbformat_minor": 5
}
