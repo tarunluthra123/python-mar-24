{
 "cells": [
  {
   "cell_type": "markdown",
   "id": "3c590041",
   "metadata": {},
   "source": [
    "# Recap"
   ]
  },
  {
   "cell_type": "code",
   "execution_count": null,
   "id": "723b12df",
   "metadata": {},
   "outputs": [],
   "source": []
  },
  {
   "cell_type": "markdown",
   "id": "bdca53ab",
   "metadata": {},
   "source": [
    "#### Quiz 1\n",
    "```py\n",
    "i = 0\n",
    "j = 0\n",
    "while i <= 2:\n",
    "    if j%2:\n",
    "        j += 1\n",
    "    print(i, \":\", j, end=\" \")\n",
    "    i+=1\n",
    "    j+=1\n",
    "```"
   ]
  },
  {
   "cell_type": "code",
   "execution_count": null,
   "id": "ee2eb784",
   "metadata": {},
   "outputs": [],
   "source": []
  },
  {
   "cell_type": "code",
   "execution_count": null,
   "id": "f5a1f2ad",
   "metadata": {},
   "outputs": [],
   "source": []
  },
  {
   "cell_type": "markdown",
   "id": "05fa1acf",
   "metadata": {},
   "source": [
    "## Ranges\n",
    "![](https://scaler.com/topics/images/range-function-in-python.webp)"
   ]
  },
  {
   "cell_type": "code",
   "execution_count": null,
   "id": "b69ab4ab",
   "metadata": {},
   "outputs": [],
   "source": []
  },
  {
   "cell_type": "markdown",
   "id": "5cd74765",
   "metadata": {},
   "source": [
    "#### Quiz 2\n",
    "How many numbers are included in the below range?  \n",
    "`range(11)`"
   ]
  },
  {
   "cell_type": "code",
   "execution_count": null,
   "id": "056e019f",
   "metadata": {},
   "outputs": [],
   "source": []
  },
  {
   "cell_type": "code",
   "execution_count": null,
   "id": "06cd7c31",
   "metadata": {},
   "outputs": [],
   "source": []
  },
  {
   "cell_type": "markdown",
   "id": "21b06894",
   "metadata": {},
   "source": [
    "#### Quiz 3\n",
    "```py\n",
    "print(list(range(7, 8)))\n",
    "```"
   ]
  },
  {
   "cell_type": "code",
   "execution_count": null,
   "id": "ab3f3048",
   "metadata": {},
   "outputs": [],
   "source": []
  },
  {
   "cell_type": "code",
   "execution_count": null,
   "id": "06273534",
   "metadata": {},
   "outputs": [],
   "source": []
  },
  {
   "cell_type": "markdown",
   "id": "9994972c",
   "metadata": {},
   "source": [
    "#### Quiz 4\n",
    "```py\n",
    "print(list(range(8, 8)))\n",
    "```"
   ]
  },
  {
   "cell_type": "code",
   "execution_count": null,
   "id": "94fb281e",
   "metadata": {},
   "outputs": [],
   "source": []
  },
  {
   "cell_type": "code",
   "execution_count": null,
   "id": "d8f9b218",
   "metadata": {},
   "outputs": [],
   "source": []
  },
  {
   "cell_type": "markdown",
   "id": "98ff328b",
   "metadata": {},
   "source": [
    "## Third parameter in range()"
   ]
  },
  {
   "cell_type": "code",
   "execution_count": null,
   "id": "144ee6ea",
   "metadata": {},
   "outputs": [],
   "source": []
  },
  {
   "cell_type": "code",
   "execution_count": null,
   "id": "1161e911",
   "metadata": {},
   "outputs": [],
   "source": []
  },
  {
   "cell_type": "markdown",
   "id": "54550d47",
   "metadata": {},
   "source": [
    "#### Quiz 5\n",
    "How many numbers are included in the below range?  \n",
    "```py\n",
    "range(1, 11, 2)\n",
    "```"
   ]
  },
  {
   "cell_type": "code",
   "execution_count": null,
   "id": "4f79f9b0",
   "metadata": {},
   "outputs": [],
   "source": []
  },
  {
   "cell_type": "code",
   "execution_count": null,
   "id": "45d86a6a",
   "metadata": {},
   "outputs": [],
   "source": []
  },
  {
   "cell_type": "markdown",
   "id": "a69c6b10",
   "metadata": {},
   "source": [
    "#### Quiz 6\n",
    "What range can NOT be used to generate these numbers: `[1, 2, 3, 4, 5, 6, 7, 8, 9, 10]`?"
   ]
  },
  {
   "cell_type": "code",
   "execution_count": null,
   "id": "23d4ba35",
   "metadata": {},
   "outputs": [],
   "source": []
  },
  {
   "cell_type": "code",
   "execution_count": null,
   "id": "d0743c4b",
   "metadata": {},
   "outputs": [],
   "source": []
  },
  {
   "cell_type": "code",
   "execution_count": null,
   "id": "b87c8942",
   "metadata": {},
   "outputs": [],
   "source": []
  },
  {
   "cell_type": "code",
   "execution_count": null,
   "id": "60d72440",
   "metadata": {},
   "outputs": [],
   "source": []
  },
  {
   "cell_type": "markdown",
   "id": "9fd8ba95",
   "metadata": {},
   "source": [
    "#### Quiz 7\n",
    "Which of the options is NOT correct for the range:\n",
    "```py\n",
    "range(5, 1)\n",
    "```"
   ]
  },
  {
   "cell_type": "code",
   "execution_count": null,
   "id": "c976de2b",
   "metadata": {},
   "outputs": [],
   "source": []
  },
  {
   "cell_type": "code",
   "execution_count": null,
   "id": "eba354ed",
   "metadata": {},
   "outputs": [],
   "source": []
  },
  {
   "cell_type": "code",
   "execution_count": null,
   "id": "5c9ab7af",
   "metadata": {},
   "outputs": [],
   "source": []
  },
  {
   "cell_type": "code",
   "execution_count": null,
   "id": "d84481f8",
   "metadata": {},
   "outputs": [],
   "source": []
  },
  {
   "cell_type": "code",
   "execution_count": null,
   "id": "7e28ca07",
   "metadata": {},
   "outputs": [],
   "source": []
  },
  {
   "cell_type": "markdown",
   "id": "5b7fa5c9",
   "metadata": {},
   "source": [
    "# For loops\n",
    "![](https://scaler.com/topics/images/for-loop-in-python.webp)"
   ]
  },
  {
   "cell_type": "code",
   "execution_count": null,
   "id": "0848c17d",
   "metadata": {},
   "outputs": [],
   "source": []
  },
  {
   "cell_type": "code",
   "execution_count": null,
   "id": "d67634c1",
   "metadata": {},
   "outputs": [],
   "source": []
  },
  {
   "cell_type": "code",
   "execution_count": null,
   "id": "4a05d113",
   "metadata": {},
   "outputs": [],
   "source": []
  },
  {
   "cell_type": "code",
   "execution_count": null,
   "id": "54675053",
   "metadata": {},
   "outputs": [],
   "source": []
  },
  {
   "cell_type": "code",
   "execution_count": null,
   "id": "240a9786",
   "metadata": {},
   "outputs": [],
   "source": []
  },
  {
   "cell_type": "markdown",
   "id": "ea4ec78a",
   "metadata": {},
   "source": [
    "#### Quiz 8\n",
    "Predict the output given input N = 5.\n",
    "```py\n",
    "N = int(input())\n",
    "\n",
    "for i in range(2, N):\n",
    "    print(i, end=' ')\n",
    "```"
   ]
  },
  {
   "cell_type": "code",
   "execution_count": null,
   "id": "b54c1adb",
   "metadata": {},
   "outputs": [],
   "source": []
  },
  {
   "cell_type": "code",
   "execution_count": null,
   "id": "e8179d16",
   "metadata": {},
   "outputs": [],
   "source": []
  },
  {
   "cell_type": "markdown",
   "id": "1990ad13",
   "metadata": {},
   "source": [
    "### Print numbers 1 to 10"
   ]
  },
  {
   "cell_type": "code",
   "execution_count": null,
   "id": "7443ace1",
   "metadata": {},
   "outputs": [],
   "source": []
  },
  {
   "cell_type": "code",
   "execution_count": null,
   "id": "a16a11fd",
   "metadata": {},
   "outputs": [],
   "source": []
  },
  {
   "cell_type": "markdown",
   "id": "d3932064",
   "metadata": {},
   "source": [
    "### Print numbers 1 to N"
   ]
  },
  {
   "cell_type": "code",
   "execution_count": null,
   "id": "d395e247",
   "metadata": {},
   "outputs": [],
   "source": []
  },
  {
   "cell_type": "code",
   "execution_count": null,
   "id": "db43d6cb",
   "metadata": {},
   "outputs": [],
   "source": []
  },
  {
   "cell_type": "code",
   "execution_count": null,
   "id": "cfe6f96c",
   "metadata": {},
   "outputs": [],
   "source": []
  },
  {
   "cell_type": "markdown",
   "id": "b1122001",
   "metadata": {},
   "source": [
    "### Print perfect squares of numbers from 1 to N"
   ]
  },
  {
   "cell_type": "code",
   "execution_count": null,
   "id": "7a7e09c5",
   "metadata": {},
   "outputs": [],
   "source": []
  },
  {
   "cell_type": "code",
   "execution_count": null,
   "id": "7a4d2acc",
   "metadata": {},
   "outputs": [],
   "source": []
  },
  {
   "cell_type": "code",
   "execution_count": null,
   "id": "76aced56",
   "metadata": {},
   "outputs": [],
   "source": []
  },
  {
   "cell_type": "markdown",
   "id": "cac27bb4",
   "metadata": {},
   "source": [
    "#### Quiz 9\n",
    "Predict the output.\n",
    "```py\n",
    "for i in range(-1, 10, 2):\n",
    "    print(i, end=' ')\n",
    "```"
   ]
  },
  {
   "cell_type": "code",
   "execution_count": null,
   "id": "3e21e3a0",
   "metadata": {},
   "outputs": [],
   "source": []
  },
  {
   "cell_type": "code",
   "execution_count": null,
   "id": "784281de",
   "metadata": {},
   "outputs": [],
   "source": []
  },
  {
   "cell_type": "code",
   "execution_count": null,
   "id": "34bc6296",
   "metadata": {},
   "outputs": [],
   "source": []
  },
  {
   "cell_type": "code",
   "execution_count": null,
   "id": "0c03d873",
   "metadata": {},
   "outputs": [],
   "source": []
  },
  {
   "cell_type": "markdown",
   "id": "cc6cdac6",
   "metadata": {},
   "source": [
    "### Print multiples of 4 till N\n",
    "\n",
    "N = 20 -> 4, 8, 12, 16, 20"
   ]
  },
  {
   "cell_type": "code",
   "execution_count": null,
   "id": "4fc2599b",
   "metadata": {},
   "outputs": [],
   "source": []
  },
  {
   "cell_type": "code",
   "execution_count": null,
   "id": "debaa6fb",
   "metadata": {},
   "outputs": [],
   "source": []
  },
  {
   "cell_type": "code",
   "execution_count": null,
   "id": "6e334ca7",
   "metadata": {},
   "outputs": [],
   "source": []
  },
  {
   "cell_type": "markdown",
   "id": "c553d908",
   "metadata": {},
   "source": [
    "### Print 6 to 1"
   ]
  },
  {
   "cell_type": "code",
   "execution_count": null,
   "id": "21e9e8db",
   "metadata": {},
   "outputs": [],
   "source": []
  },
  {
   "cell_type": "code",
   "execution_count": null,
   "id": "2e867839",
   "metadata": {},
   "outputs": [],
   "source": []
  },
  {
   "cell_type": "code",
   "execution_count": null,
   "id": "66bd51f5",
   "metadata": {},
   "outputs": [],
   "source": []
  },
  {
   "cell_type": "markdown",
   "id": "b2c1878c",
   "metadata": {},
   "source": [
    "#### Quiz 10\n",
    "Predict the output given input N = 7.\n",
    "\n",
    "```py\n",
    "N = int(input())\n",
    "\n",
    "for i in range(N, 1, -1):\n",
    "    print(i, end=' ')\n",
    "```"
   ]
  },
  {
   "cell_type": "code",
   "execution_count": null,
   "id": "3af7365e",
   "metadata": {},
   "outputs": [],
   "source": []
  },
  {
   "cell_type": "code",
   "execution_count": null,
   "id": "4591b7cb",
   "metadata": {},
   "outputs": [],
   "source": []
  },
  {
   "cell_type": "markdown",
   "id": "7dd0a5f9",
   "metadata": {},
   "source": [
    "### Print N to 1"
   ]
  },
  {
   "cell_type": "code",
   "execution_count": null,
   "id": "35a532d8",
   "metadata": {},
   "outputs": [],
   "source": []
  },
  {
   "cell_type": "code",
   "execution_count": null,
   "id": "24890490",
   "metadata": {},
   "outputs": [],
   "source": []
  },
  {
   "cell_type": "code",
   "execution_count": null,
   "id": "c35c38a1",
   "metadata": {},
   "outputs": [],
   "source": []
  },
  {
   "cell_type": "markdown",
   "id": "9e57e925",
   "metadata": {},
   "source": [
    "### Print perfect squares of numbers from N to 1\n",
    "\n",
    "N = 5 \\\n",
    "25 16 9 4 1"
   ]
  },
  {
   "cell_type": "code",
   "execution_count": null,
   "id": "0f579e6a",
   "metadata": {},
   "outputs": [],
   "source": []
  },
  {
   "cell_type": "code",
   "execution_count": null,
   "id": "03d92bfd",
   "metadata": {},
   "outputs": [],
   "source": []
  },
  {
   "cell_type": "code",
   "execution_count": null,
   "id": "55d46d21",
   "metadata": {},
   "outputs": [],
   "source": []
  },
  {
   "cell_type": "code",
   "execution_count": null,
   "id": "b4452686",
   "metadata": {},
   "outputs": [],
   "source": []
  },
  {
   "cell_type": "markdown",
   "id": "aef1d045",
   "metadata": {},
   "source": [
    "#### Quiz 11\n",
    "For the values of `i` below print the values of `N - i + 1` given `N = 6`.\n",
    "\\\n",
    "`i: ` 1, 2, 3, 4, 5, 6"
   ]
  },
  {
   "cell_type": "code",
   "execution_count": null,
   "id": "b0c867f3",
   "metadata": {},
   "outputs": [],
   "source": []
  },
  {
   "cell_type": "markdown",
   "id": "32870ddb",
   "metadata": {},
   "source": [
    "**Challenge**\\\n",
    "Try using the result from above quiz to print numbers from N to 1 but using a increasing loop.\n",
    "\n",
    "Submit the answer in question titled \"From down to top\" in your assignment"
   ]
  },
  {
   "cell_type": "code",
   "execution_count": null,
   "id": "ed4ff7ef",
   "metadata": {},
   "outputs": [],
   "source": []
  },
  {
   "cell_type": "code",
   "execution_count": null,
   "id": "6b961aba",
   "metadata": {},
   "outputs": [],
   "source": []
  },
  {
   "cell_type": "markdown",
   "id": "50ed4b01",
   "metadata": {},
   "source": [
    "### Quiz 12\n",
    "```py\n",
    "N = 7\n",
    "s = 0\n",
    "for i in range(2, N):\n",
    "    s += i\n",
    "print(s)\n",
    "```"
   ]
  },
  {
   "cell_type": "code",
   "execution_count": null,
   "id": "47d97f6a",
   "metadata": {},
   "outputs": [],
   "source": []
  },
  {
   "cell_type": "code",
   "execution_count": null,
   "id": "c3aa3358",
   "metadata": {},
   "outputs": [],
   "source": []
  },
  {
   "cell_type": "code",
   "execution_count": null,
   "id": "e8aca89d",
   "metadata": {},
   "outputs": [],
   "source": []
  },
  {
   "cell_type": "code",
   "execution_count": null,
   "id": "7a1d0186",
   "metadata": {},
   "outputs": [],
   "source": []
  },
  {
   "cell_type": "markdown",
   "id": "6e4d7652",
   "metadata": {},
   "source": [
    "### Sum of even numbers from 1 to N\n",
    "![](https://scaler.com/topics/images/sum-of-first-n-even-numbers-fi.webp)"
   ]
  },
  {
   "cell_type": "code",
   "execution_count": null,
   "id": "e659d4b5",
   "metadata": {},
   "outputs": [],
   "source": []
  },
  {
   "cell_type": "code",
   "execution_count": null,
   "id": "5fdfc886",
   "metadata": {},
   "outputs": [],
   "source": []
  },
  {
   "cell_type": "code",
   "execution_count": null,
   "id": "1642d354",
   "metadata": {},
   "outputs": [],
   "source": []
  },
  {
   "cell_type": "code",
   "execution_count": null,
   "id": "5a01e459",
   "metadata": {},
   "outputs": [],
   "source": []
  },
  {
   "cell_type": "markdown",
   "id": "053d2de9",
   "metadata": {},
   "source": [
    "### Sum of odd numbers from 1 to N"
   ]
  },
  {
   "cell_type": "code",
   "execution_count": null,
   "id": "f10ba8bd",
   "metadata": {},
   "outputs": [],
   "source": []
  },
  {
   "cell_type": "code",
   "execution_count": null,
   "id": "ecfaef7a",
   "metadata": {},
   "outputs": [],
   "source": []
  },
  {
   "cell_type": "code",
   "execution_count": null,
   "id": "48e47cf0",
   "metadata": {},
   "outputs": [],
   "source": []
  },
  {
   "cell_type": "markdown",
   "id": "90f8e20c",
   "metadata": {},
   "source": [
    "# Bonus Reading Material\n",
    "- Range Function in Python - https://www.scaler.com/topics/range-function-in-python/\n",
    "- For Loop in Python - https://www.scaler.com/topics/python/for-loop-in-python/\n",
    "- Sum of First n Even Numbers - https://www.scaler.com/topics/sum-of-first-n-even-numbers/\n",
    "- Sum of Digits of a Number in Python - https://www.scaler.com/topics/sum-of-digits-of-a-number-in-python/\n",
    "- Sum of n Natural Numbers in Python - https://www.scaler.com/topics/sum-of-n-natural-numbers-in-python/\n",
    "- Sum of First N Natural Numbers - https://www.scaler.com/topics/sum-of-n-natural-numbers/"
   ]
  },
  {
   "cell_type": "code",
   "execution_count": null,
   "id": "19bfd822",
   "metadata": {},
   "outputs": [],
   "source": []
  },
  {
   "cell_type": "code",
   "execution_count": null,
   "id": "5482348b",
   "metadata": {},
   "outputs": [],
   "source": []
  },
  {
   "cell_type": "markdown",
   "id": "276bf9a2",
   "metadata": {},
   "source": [
    "# Doubts"
   ]
  },
  {
   "cell_type": "code",
   "execution_count": null,
   "id": "70beaac1",
   "metadata": {},
   "outputs": [],
   "source": []
  },
  {
   "cell_type": "code",
   "execution_count": null,
   "id": "741958cd",
   "metadata": {},
   "outputs": [],
   "source": []
  },
  {
   "cell_type": "code",
   "execution_count": null,
   "id": "8591f6ec",
   "metadata": {},
   "outputs": [],
   "source": []
  },
  {
   "cell_type": "code",
   "execution_count": null,
   "id": "6f0af920",
   "metadata": {},
   "outputs": [],
   "source": []
  }
 ],
 "metadata": {
  "kernelspec": {
   "display_name": "Python 3 (ipykernel)",
   "language": "python",
   "name": "python3"
  },
  "language_info": {
   "codemirror_mode": {
    "name": "ipython",
    "version": 3
   },
   "file_extension": ".py",
   "mimetype": "text/x-python",
   "name": "python",
   "nbconvert_exporter": "python",
   "pygments_lexer": "ipython3",
   "version": "3.9.18"
  }
 },
 "nbformat": 4,
 "nbformat_minor": 5
}
