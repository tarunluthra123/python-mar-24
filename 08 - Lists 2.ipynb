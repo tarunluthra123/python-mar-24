{
 "cells": [
  {
   "cell_type": "markdown",
   "id": "79a32487",
   "metadata": {},
   "source": [
    "# Lists 2"
   ]
  },
  {
   "cell_type": "code",
   "execution_count": null,
   "id": "e28c63cb",
   "metadata": {},
   "outputs": [],
   "source": []
  },
  {
   "cell_type": "code",
   "execution_count": null,
   "id": "0de26ce1",
   "metadata": {},
   "outputs": [],
   "source": []
  },
  {
   "cell_type": "code",
   "execution_count": null,
   "id": "8bbf2b5b",
   "metadata": {},
   "outputs": [],
   "source": []
  },
  {
   "cell_type": "code",
   "execution_count": null,
   "id": "e98fb2e9",
   "metadata": {},
   "outputs": [],
   "source": []
  },
  {
   "cell_type": "markdown",
   "id": "26939270",
   "metadata": {},
   "source": [
    "# List Slicing\n",
    "![](https://scaler.com/topics/images/list-slicing-in-python.webp)"
   ]
  },
  {
   "cell_type": "code",
   "execution_count": null,
   "id": "47c8c782",
   "metadata": {},
   "outputs": [],
   "source": []
  },
  {
   "cell_type": "markdown",
   "id": "60a265ac",
   "metadata": {},
   "source": [
    "Given the runs made by Sachin in a list, find the runs made in:\n",
    "- odd indexed matches (1st, 3rd, 5th, 7th, ...)\n",
    "- even indexed matches (2nd, 4th, 6th ...)\n",
    "- first 5 matches\n",
    "- last 5 matches"
   ]
  },
  {
   "cell_type": "code",
   "execution_count": 2,
   "id": "5e3807df",
   "metadata": {},
   "outputs": [],
   "source": [
    "runs = [100, 89, 0, 70, 23, 56, 121, 43, 58, 90]"
   ]
  },
  {
   "cell_type": "code",
   "execution_count": null,
   "id": "a83f0a60",
   "metadata": {},
   "outputs": [],
   "source": []
  },
  {
   "cell_type": "code",
   "execution_count": 3,
   "id": "c09df06b",
   "metadata": {},
   "outputs": [
    {
     "name": "stdout",
     "output_type": "stream",
     "text": [
      "[89, 70, 56, 43, 90]\n"
     ]
    }
   ],
   "source": [
    "ans = []\n",
    "for i in range(len(runs)):\n",
    "    if i % 2 == 1:\n",
    "        ans.append(runs[i])\n",
    "        \n",
    "print(ans)"
   ]
  },
  {
   "cell_type": "code",
   "execution_count": null,
   "id": "1fa2c26a",
   "metadata": {},
   "outputs": [],
   "source": []
  },
  {
   "cell_type": "code",
   "execution_count": null,
   "id": "f6b89f54",
   "metadata": {},
   "outputs": [],
   "source": []
  },
  {
   "cell_type": "code",
   "execution_count": 4,
   "id": "6e15a939",
   "metadata": {},
   "outputs": [],
   "source": [
    "runs = [100, 89, 0, 70, 23, 56, 121, 43, 58, 90]"
   ]
  },
  {
   "cell_type": "code",
   "execution_count": 5,
   "id": "6b2ba7ad",
   "metadata": {},
   "outputs": [
    {
     "name": "stdout",
     "output_type": "stream",
     "text": [
      "0\n"
     ]
    }
   ],
   "source": [
    "print(runs[2]) # access a single element in a list"
   ]
  },
  {
   "cell_type": "code",
   "execution_count": 6,
   "id": "40e99189",
   "metadata": {},
   "outputs": [
    {
     "name": "stdout",
     "output_type": "stream",
     "text": [
      "[89, 0, 70, 23]\n"
     ]
    }
   ],
   "source": [
    "print(runs[1:5]) # Slicing\n",
    "# Go to index 1\n",
    "# Pick all elements from there till index 5 (end is excluded)\n",
    "# Start = 1\n",
    "# End = 5"
   ]
  },
  {
   "cell_type": "code",
   "execution_count": 7,
   "id": "ffe286f8",
   "metadata": {},
   "outputs": [
    {
     "name": "stdout",
     "output_type": "stream",
     "text": [
      "[0, 70, 23, 56, 121]\n"
     ]
    }
   ],
   "source": [
    "print(runs[2:7])\n",
    "# Start = 2\n",
    "# End = 7 (end is excluded)"
   ]
  },
  {
   "cell_type": "code",
   "execution_count": 8,
   "id": "e6f8e39f",
   "metadata": {},
   "outputs": [
    {
     "name": "stdout",
     "output_type": "stream",
     "text": [
      "[100, 89, 0, 70]\n"
     ]
    }
   ],
   "source": [
    "runs = [100, 89, 0, 70, 23, 56, 121, 43, 58, 90]\n",
    "print(runs[0:4])\n",
    "# start = 0\n",
    "# end = 4"
   ]
  },
  {
   "cell_type": "code",
   "execution_count": 9,
   "id": "352393a6",
   "metadata": {},
   "outputs": [
    {
     "name": "stdout",
     "output_type": "stream",
     "text": [
      "[100, 0]\n"
     ]
    }
   ],
   "source": [
    "print(runs[0:4:2])\n",
    "# start = 0\n",
    "# end = 4\n",
    "# jump = 2"
   ]
  },
  {
   "cell_type": "code",
   "execution_count": null,
   "id": "a66790a4",
   "metadata": {},
   "outputs": [],
   "source": []
  },
  {
   "cell_type": "code",
   "execution_count": 10,
   "id": "787e93f3",
   "metadata": {},
   "outputs": [
    {
     "name": "stdout",
     "output_type": "stream",
     "text": [
      "[20, 40]\n"
     ]
    }
   ],
   "source": [
    "a = [10, 20, 30, 40, 50, 60]\n",
    "\n",
    "print(a[1:5:2])"
   ]
  },
  {
   "cell_type": "code",
   "execution_count": null,
   "id": "8a099daa",
   "metadata": {},
   "outputs": [],
   "source": []
  },
  {
   "cell_type": "code",
   "execution_count": 11,
   "id": "560918b6",
   "metadata": {},
   "outputs": [
    {
     "name": "stdout",
     "output_type": "stream",
     "text": [
      "[40, 50, 60]\n"
     ]
    }
   ],
   "source": [
    "print(a[3:])\n",
    "# When no end value is provided, python will traverse till the end of the list"
   ]
  },
  {
   "cell_type": "code",
   "execution_count": null,
   "id": "a010b4b0",
   "metadata": {},
   "outputs": [],
   "source": [
    "a = [10, 20, 30, 40, 50, 60]"
   ]
  },
  {
   "cell_type": "code",
   "execution_count": 13,
   "id": "aaefd3bb",
   "metadata": {},
   "outputs": [
    {
     "name": "stdout",
     "output_type": "stream",
     "text": [
      "[10, 20, 30]\n"
     ]
    }
   ],
   "source": [
    "print(a[:3])\n",
    "# When no start value is provided, it is going to start from the very beginning"
   ]
  },
  {
   "cell_type": "code",
   "execution_count": null,
   "id": "72aeb92c",
   "metadata": {},
   "outputs": [],
   "source": []
  },
  {
   "cell_type": "code",
   "execution_count": 14,
   "id": "080f844b",
   "metadata": {},
   "outputs": [
    {
     "name": "stdout",
     "output_type": "stream",
     "text": [
      "[10, 30, 50]\n"
     ]
    }
   ],
   "source": [
    "a = [10, 20, 30, 40, 50, 60]\n",
    "print(a[::2])"
   ]
  },
  {
   "cell_type": "code",
   "execution_count": null,
   "id": "5909b6d3",
   "metadata": {},
   "outputs": [],
   "source": []
  },
  {
   "cell_type": "code",
   "execution_count": null,
   "id": "fef57cfb",
   "metadata": {},
   "outputs": [],
   "source": []
  },
  {
   "cell_type": "markdown",
   "id": "defbd687",
   "metadata": {},
   "source": [
    "### Negative list slicing"
   ]
  },
  {
   "cell_type": "code",
   "execution_count": 15,
   "id": "531b5d7d",
   "metadata": {},
   "outputs": [
    {
     "name": "stdout",
     "output_type": "stream",
     "text": [
      "[60, 50, 40, 30, 20]\n"
     ]
    }
   ],
   "source": [
    "a = [10, 20, 30, 40, 50, 60]\n",
    "print(a[5:0:-1])"
   ]
  },
  {
   "cell_type": "code",
   "execution_count": null,
   "id": "5df299df",
   "metadata": {},
   "outputs": [],
   "source": []
  },
  {
   "cell_type": "code",
   "execution_count": 16,
   "id": "6ba1c4e8",
   "metadata": {},
   "outputs": [
    {
     "name": "stdout",
     "output_type": "stream",
     "text": [
      "[50, 40, 30]\n"
     ]
    }
   ],
   "source": [
    "a = [10, 20, 30, 40, 50, 60]\n",
    "print(a[-2:-5:-1])"
   ]
  },
  {
   "cell_type": "code",
   "execution_count": null,
   "id": "65ccd4b8",
   "metadata": {},
   "outputs": [],
   "source": []
  },
  {
   "cell_type": "code",
   "execution_count": null,
   "id": "fac87a1e",
   "metadata": {},
   "outputs": [],
   "source": []
  },
  {
   "cell_type": "code",
   "execution_count": 17,
   "id": "99e2963f",
   "metadata": {},
   "outputs": [
    {
     "name": "stdout",
     "output_type": "stream",
     "text": [
      "[50, 40, 30, 20, 10]\n"
     ]
    }
   ],
   "source": [
    "a = [10, 20, 30, 40, 50, 60]\n",
    "print(a[-2::-1])"
   ]
  },
  {
   "cell_type": "code",
   "execution_count": null,
   "id": "340182b3",
   "metadata": {},
   "outputs": [],
   "source": []
  },
  {
   "cell_type": "code",
   "execution_count": null,
   "id": "bf77e859",
   "metadata": {},
   "outputs": [],
   "source": []
  },
  {
   "cell_type": "code",
   "execution_count": null,
   "id": "7844a9b1",
   "metadata": {},
   "outputs": [],
   "source": []
  },
  {
   "cell_type": "code",
   "execution_count": null,
   "id": "c24f3e02",
   "metadata": {},
   "outputs": [],
   "source": []
  },
  {
   "cell_type": "markdown",
   "id": "e7bb4ea6",
   "metadata": {},
   "source": [
    "### **Question**\n",
    "\n",
    "Given a python list `a = [10, 20, 30, 40, 50, 60, 70, 80, 90, 100]`\n",
    "\n",
    "What will be the output of the followings?\n",
    "1. ```a[3:5]```\n",
    "1. ```a[:]```\n",
    "1. ```a[-2:-5:-1]```\n",
    "1. ```a[-2:-7]```\n",
    "1. ```a[-2:]```\n",
    "1. ```a[-8:5:-1]```"
   ]
  },
  {
   "cell_type": "code",
   "execution_count": 18,
   "id": "02b712a5",
   "metadata": {},
   "outputs": [
    {
     "name": "stdout",
     "output_type": "stream",
     "text": [
      "[40, 50]\n"
     ]
    }
   ],
   "source": [
    "a = [10, 20, 30, 40, 50, 60, 70, 80, 90, 100]\n",
    "print(a[3:5])"
   ]
  },
  {
   "cell_type": "code",
   "execution_count": 19,
   "id": "93e915a7",
   "metadata": {},
   "outputs": [
    {
     "name": "stdout",
     "output_type": "stream",
     "text": [
      "[10, 20, 30, 40, 50, 60, 70, 80, 90, 100]\n"
     ]
    }
   ],
   "source": [
    "print(a[:])"
   ]
  },
  {
   "cell_type": "code",
   "execution_count": 20,
   "id": "797ce42e",
   "metadata": {},
   "outputs": [
    {
     "name": "stdout",
     "output_type": "stream",
     "text": [
      "[90, 80, 70]\n"
     ]
    }
   ],
   "source": [
    "print(a[-2:-5:-1])"
   ]
  },
  {
   "cell_type": "code",
   "execution_count": 21,
   "id": "85903343",
   "metadata": {},
   "outputs": [
    {
     "name": "stdout",
     "output_type": "stream",
     "text": [
      "[]\n"
     ]
    }
   ],
   "source": [
    "print(a[-2:-7])\n",
    "# default jump = 1"
   ]
  },
  {
   "cell_type": "code",
   "execution_count": 23,
   "id": "400c94ff",
   "metadata": {},
   "outputs": [
    {
     "name": "stdout",
     "output_type": "stream",
     "text": [
      "[90, 100]\n"
     ]
    }
   ],
   "source": [
    "print(a[-2:])"
   ]
  },
  {
   "cell_type": "code",
   "execution_count": 24,
   "id": "791742b6",
   "metadata": {},
   "outputs": [
    {
     "name": "stdout",
     "output_type": "stream",
     "text": [
      "[]\n"
     ]
    }
   ],
   "source": [
    "print(a[-8:5:-1])"
   ]
  },
  {
   "cell_type": "code",
   "execution_count": null,
   "id": "fb232728",
   "metadata": {},
   "outputs": [],
   "source": []
  },
  {
   "cell_type": "code",
   "execution_count": null,
   "id": "99263dc4",
   "metadata": {},
   "outputs": [],
   "source": []
  },
  {
   "cell_type": "code",
   "execution_count": null,
   "id": "931830f5",
   "metadata": {},
   "outputs": [],
   "source": []
  },
  {
   "cell_type": "code",
   "execution_count": 22,
   "id": "1b1f1799",
   "metadata": {},
   "outputs": [
    {
     "name": "stdout",
     "output_type": "stream",
     "text": [
      "[90, 80, 70, 60, 50]\n"
     ]
    }
   ],
   "source": [
    "print(a[-2:-7:-1])"
   ]
  },
  {
   "cell_type": "code",
   "execution_count": null,
   "id": "6115f8b6",
   "metadata": {},
   "outputs": [],
   "source": []
  },
  {
   "cell_type": "code",
   "execution_count": null,
   "id": "43fb8166",
   "metadata": {},
   "outputs": [],
   "source": []
  },
  {
   "cell_type": "code",
   "execution_count": null,
   "id": "1278a560",
   "metadata": {},
   "outputs": [],
   "source": []
  },
  {
   "cell_type": "code",
   "execution_count": null,
   "id": "571e53b0",
   "metadata": {},
   "outputs": [],
   "source": []
  },
  {
   "cell_type": "markdown",
   "id": "5087b559",
   "metadata": {},
   "source": [
    "#### **Rotate an array**\n",
    "![](https://scaler.com/topics/images/rotate-array.webp)"
   ]
  },
  {
   "cell_type": "code",
   "execution_count": 27,
   "id": "903c7d7f",
   "metadata": {},
   "outputs": [
    {
     "name": "stdout",
     "output_type": "stream",
     "text": [
      "[20, 30, 40, 50, 10]\n"
     ]
    }
   ],
   "source": [
    "a = [10, 20, 30, 40, 50]\n",
    "\n",
    "b = a[1:] + [a[0]]\n",
    "\n",
    "print(b)"
   ]
  },
  {
   "cell_type": "code",
   "execution_count": null,
   "id": "0970c323",
   "metadata": {},
   "outputs": [],
   "source": []
  },
  {
   "cell_type": "code",
   "execution_count": null,
   "id": "29544e67",
   "metadata": {},
   "outputs": [],
   "source": []
  },
  {
   "cell_type": "code",
   "execution_count": null,
   "id": "90e7ecea",
   "metadata": {},
   "outputs": [],
   "source": []
  },
  {
   "cell_type": "code",
   "execution_count": null,
   "id": "d07591ac",
   "metadata": {},
   "outputs": [],
   "source": []
  },
  {
   "cell_type": "markdown",
   "id": "dec0e071",
   "metadata": {},
   "source": [
    "## Reverse of a list\n",
    "![](https://scaler.com/topics/images/reversed-in-python.webp)"
   ]
  },
  {
   "cell_type": "code",
   "execution_count": null,
   "id": "dbac0bc3",
   "metadata": {},
   "outputs": [],
   "source": [
    "a = [10, 20, 30, 40, 50]"
   ]
  },
  {
   "cell_type": "code",
   "execution_count": 28,
   "id": "e83a78ed",
   "metadata": {},
   "outputs": [
    {
     "name": "stdout",
     "output_type": "stream",
     "text": [
      "[50, 40, 30, 20, 10]\n"
     ]
    }
   ],
   "source": [
    "# Method 1\n",
    "a = [10, 20, 30, 40, 50]\n",
    "\n",
    "a.reverse()\n",
    "print(a)"
   ]
  },
  {
   "cell_type": "code",
   "execution_count": 29,
   "id": "e68e8267",
   "metadata": {},
   "outputs": [
    {
     "name": "stdout",
     "output_type": "stream",
     "text": [
      "[50, 40, 30, 20, 10]\n"
     ]
    }
   ],
   "source": [
    "# Method 2 - List slicing\n",
    "a = [10, 20, 30, 40, 50]\n",
    "b = a[::-1]\n",
    "\n",
    "print(b)\n",
    "\n",
    "# It does not modify the original array. It creates a new reversed copy."
   ]
  },
  {
   "cell_type": "code",
   "execution_count": 30,
   "id": "18747eec",
   "metadata": {},
   "outputs": [
    {
     "name": "stdout",
     "output_type": "stream",
     "text": [
      "[50, 40, 30, 20, 10]\n"
     ]
    }
   ],
   "source": [
    "# Method 3 - reversed()\n",
    "a = [10, 20, 30, 40, 50]\n",
    "b = list(reversed(a))\n",
    "\n",
    "print(b)"
   ]
  },
  {
   "cell_type": "code",
   "execution_count": null,
   "id": "644f2371",
   "metadata": {},
   "outputs": [],
   "source": []
  },
  {
   "cell_type": "markdown",
   "id": "9a265985",
   "metadata": {},
   "source": [
    "![](https://i.redd.it/dsaxlw8t5qd41.jpg)"
   ]
  },
  {
   "cell_type": "code",
   "execution_count": null,
   "id": "73c38d88",
   "metadata": {},
   "outputs": [],
   "source": []
  },
  {
   "cell_type": "code",
   "execution_count": null,
   "id": "e016c0b4",
   "metadata": {},
   "outputs": [],
   "source": []
  },
  {
   "cell_type": "code",
   "execution_count": null,
   "id": "66664126",
   "metadata": {},
   "outputs": [],
   "source": []
  },
  {
   "cell_type": "code",
   "execution_count": null,
   "id": "bd4a2f30",
   "metadata": {},
   "outputs": [],
   "source": []
  },
  {
   "cell_type": "markdown",
   "id": "2b5a6664",
   "metadata": {},
   "source": [
    "# 2D Lists\n",
    "\n",
    "![](https://scaler.com/topics/images/2d-array-python.webp)"
   ]
  },
  {
   "cell_type": "code",
   "execution_count": 32,
   "id": "d414fe08",
   "metadata": {},
   "outputs": [],
   "source": [
    "l = [5, 'hello', True, None, [2, 3]]"
   ]
  },
  {
   "cell_type": "code",
   "execution_count": 33,
   "id": "b5729348",
   "metadata": {},
   "outputs": [
    {
     "name": "stdout",
     "output_type": "stream",
     "text": [
      "[2, 3]\n"
     ]
    }
   ],
   "source": [
    "print(l[4])"
   ]
  },
  {
   "cell_type": "code",
   "execution_count": 34,
   "id": "3ff63b32",
   "metadata": {},
   "outputs": [
    {
     "name": "stdout",
     "output_type": "stream",
     "text": [
      "2\n"
     ]
    }
   ],
   "source": [
    "print(l[4][0])"
   ]
  },
  {
   "cell_type": "code",
   "execution_count": 35,
   "id": "c7c67bfb",
   "metadata": {},
   "outputs": [
    {
     "name": "stdout",
     "output_type": "stream",
     "text": [
      "3\n"
     ]
    }
   ],
   "source": [
    "print(l[4][1])"
   ]
  },
  {
   "cell_type": "code",
   "execution_count": null,
   "id": "778be1e4",
   "metadata": {},
   "outputs": [],
   "source": [
    "# 2D list"
   ]
  },
  {
   "cell_type": "code",
   "execution_count": 36,
   "id": "dd63ae5a",
   "metadata": {},
   "outputs": [
    {
     "name": "stdout",
     "output_type": "stream",
     "text": [
      "[[1, 2, 3], [4, 5, 6], [7, 8, 9]]\n"
     ]
    }
   ],
   "source": [
    "a = [\n",
    "    [1, 2, 3],\n",
    "    [4, 5, 6],\n",
    "    [7, 8, 9]\n",
    "]\n",
    "print(a)"
   ]
  },
  {
   "cell_type": "code",
   "execution_count": 38,
   "id": "11212111",
   "metadata": {},
   "outputs": [
    {
     "name": "stdout",
     "output_type": "stream",
     "text": [
      "[1, 2, 3]\n",
      "[4, 5, 6]\n",
      "[7, 8, 9]\n"
     ]
    }
   ],
   "source": [
    "print(a[0])\n",
    "print(a[1])\n",
    "print(a[2])"
   ]
  },
  {
   "cell_type": "code",
   "execution_count": 39,
   "id": "ea3f79b0",
   "metadata": {},
   "outputs": [
    {
     "name": "stdout",
     "output_type": "stream",
     "text": [
      "4\n"
     ]
    }
   ],
   "source": [
    "print(a[1][0])"
   ]
  },
  {
   "cell_type": "code",
   "execution_count": 40,
   "id": "4c5c9b90",
   "metadata": {},
   "outputs": [
    {
     "name": "stdout",
     "output_type": "stream",
     "text": [
      "8\n"
     ]
    }
   ],
   "source": [
    "print(a[2][1])"
   ]
  },
  {
   "cell_type": "code",
   "execution_count": null,
   "id": "c4c7079c",
   "metadata": {},
   "outputs": [],
   "source": []
  },
  {
   "cell_type": "code",
   "execution_count": null,
   "id": "e86d1015",
   "metadata": {},
   "outputs": [],
   "source": []
  },
  {
   "cell_type": "code",
   "execution_count": 46,
   "id": "76bb3977",
   "metadata": {},
   "outputs": [
    {
     "name": "stdout",
     "output_type": "stream",
     "text": [
      "[[1, 2, 3, 4], [5, 6, 7, 8, 9, 10], [11, 12]]\n"
     ]
    }
   ],
   "source": [
    "a = [\n",
    "    [1, 2, 3, 4],\n",
    "    [5, 6, 7, 8, 9, 10],\n",
    "    [11, 12]\n",
    "]\n",
    "print(a)\n",
    "# Jagged array"
   ]
  },
  {
   "cell_type": "code",
   "execution_count": null,
   "id": "35c3c1c1",
   "metadata": {},
   "outputs": [],
   "source": []
  },
  {
   "cell_type": "code",
   "execution_count": null,
   "id": "b3bc08bd",
   "metadata": {},
   "outputs": [],
   "source": []
  },
  {
   "cell_type": "code",
   "execution_count": 50,
   "id": "523dca31",
   "metadata": {},
   "outputs": [
    {
     "name": "stdout",
     "output_type": "stream",
     "text": [
      "[[1, 2, 3, 4], [5, 6, 7, 8], [9, 10, 11, 12]]\n"
     ]
    }
   ],
   "source": [
    "a = [\n",
    "    [1, 2, 3, 4],\n",
    "    [5, 6, 7, 8],\n",
    "    [9, 10, 11, 12]\n",
    "]\n",
    "print(a)"
   ]
  },
  {
   "cell_type": "code",
   "execution_count": 51,
   "id": "15f8d68c",
   "metadata": {},
   "outputs": [
    {
     "name": "stdout",
     "output_type": "stream",
     "text": [
      "3\n"
     ]
    }
   ],
   "source": [
    "# no of rows\n",
    "rows = len(a)\n",
    "print(rows)"
   ]
  },
  {
   "cell_type": "code",
   "execution_count": 52,
   "id": "e6e8038b",
   "metadata": {},
   "outputs": [
    {
     "name": "stdout",
     "output_type": "stream",
     "text": [
      "4\n"
     ]
    }
   ],
   "source": [
    "# no of cols\n",
    "cols = len(a[0])\n",
    "print(cols)"
   ]
  },
  {
   "cell_type": "code",
   "execution_count": 53,
   "id": "19943f14",
   "metadata": {},
   "outputs": [],
   "source": [
    "# Iterate over 2-D List"
   ]
  },
  {
   "cell_type": "code",
   "execution_count": 54,
   "id": "5336e645",
   "metadata": {},
   "outputs": [],
   "source": [
    "# Iterate over the rows\n",
    "# range of row indexes ? "
   ]
  },
  {
   "cell_type": "code",
   "execution_count": 59,
   "id": "e4b40b9e",
   "metadata": {},
   "outputs": [
    {
     "name": "stdout",
     "output_type": "stream",
     "text": [
      "Row 0 : [1, 2, 3, 4]\n",
      "Row 1 : [5, 6, 7, 8]\n",
      "Row 2 : [9, 10, 11, 12]\n"
     ]
    }
   ],
   "source": [
    "for i in range(rows):\n",
    "    print(\"Row\", i, \":\", a[i])"
   ]
  },
  {
   "cell_type": "code",
   "execution_count": null,
   "id": "1d8ac29f",
   "metadata": {},
   "outputs": [],
   "source": []
  },
  {
   "cell_type": "code",
   "execution_count": 62,
   "id": "44e54a3c",
   "metadata": {},
   "outputs": [
    {
     "name": "stdout",
     "output_type": "stream",
     "text": [
      "1 2 3 4 \n",
      "5 6 7 8 \n",
      "9 10 11 12 \n"
     ]
    }
   ],
   "source": [
    "for i in range(rows):\n",
    "    # a[i] = row (list)\n",
    "    # Run another nested loop to iterate over the elements of my row (a[i])\n",
    "    for j in range(cols):\n",
    "        print(a[i][j], end=' ')\n",
    "    \n",
    "    # After printing every row, print a new line\n",
    "    print()"
   ]
  },
  {
   "cell_type": "code",
   "execution_count": null,
   "id": "fc86126b",
   "metadata": {},
   "outputs": [],
   "source": []
  },
  {
   "cell_type": "code",
   "execution_count": 64,
   "id": "fe2e430c",
   "metadata": {},
   "outputs": [
    {
     "name": "stdout",
     "output_type": "stream",
     "text": [
      "1 2 3 4 \n",
      "5 6 7 8 \n",
      "9 10 11 12 \n"
     ]
    }
   ],
   "source": [
    "for i in range(len(a)):\n",
    "    for j in range(len(a[i])):\n",
    "        print(a[i][j], end=' ')\n",
    "    \n",
    "    print()"
   ]
  },
  {
   "cell_type": "code",
   "execution_count": null,
   "id": "eaee3b53",
   "metadata": {},
   "outputs": [],
   "source": []
  },
  {
   "cell_type": "code",
   "execution_count": null,
   "id": "bede5772",
   "metadata": {},
   "outputs": [],
   "source": []
  },
  {
   "cell_type": "code",
   "execution_count": 67,
   "id": "c324095f",
   "metadata": {},
   "outputs": [
    {
     "name": "stdout",
     "output_type": "stream",
     "text": [
      "i= 0    j= 0  element= 1\n",
      "i= 0    j= 1  element= 2\n",
      "i= 0    j= 2  element= 3\n",
      "i= 0    j= 3  element= 4\n",
      "\n",
      "i= 1    j= 0  element= 5\n",
      "i= 1    j= 1  element= 6\n",
      "i= 1    j= 2  element= 7\n",
      "i= 1    j= 3  element= 8\n",
      "\n",
      "i= 2    j= 0  element= 9\n",
      "i= 2    j= 1  element= 10\n",
      "i= 2    j= 2  element= 11\n",
      "i= 2    j= 3  element= 12\n",
      "\n"
     ]
    }
   ],
   "source": [
    "for i in range(len(a)):\n",
    "    for j in range(len(a[i])):\n",
    "        print(\"i=\", i, \"   j=\",j , \" element=\", a[i][j])\n",
    "    \n",
    "    print()"
   ]
  },
  {
   "cell_type": "code",
   "execution_count": null,
   "id": "cb42adae",
   "metadata": {},
   "outputs": [],
   "source": []
  },
  {
   "cell_type": "code",
   "execution_count": null,
   "id": "c9fca935",
   "metadata": {},
   "outputs": [],
   "source": []
  },
  {
   "cell_type": "code",
   "execution_count": null,
   "id": "9a576868",
   "metadata": {},
   "outputs": [],
   "source": []
  },
  {
   "cell_type": "code",
   "execution_count": null,
   "id": "46b11f9f",
   "metadata": {},
   "outputs": [],
   "source": []
  },
  {
   "cell_type": "markdown",
   "id": "57c7f25c",
   "metadata": {},
   "source": [
    "#### Quiz\n",
    "Given the list nums = [[10, 20, 30], [98, 99]], what does nums[1][1] evaluate to?\n"
   ]
  },
  {
   "cell_type": "code",
   "execution_count": 69,
   "id": "2ad168f2",
   "metadata": {},
   "outputs": [
    {
     "name": "stdout",
     "output_type": "stream",
     "text": [
      "99\n"
     ]
    }
   ],
   "source": [
    "nums = [[10, 20, 30], [98, 99]]\n",
    "print(nums[1][1])"
   ]
  },
  {
   "cell_type": "code",
   "execution_count": 68,
   "id": "7a6c898e",
   "metadata": {},
   "outputs": [
    {
     "name": "stdout",
     "output_type": "stream",
     "text": [
      "[98, 99]\n"
     ]
    }
   ],
   "source": [
    "nums = [\n",
    "    [10, 20, 30],\n",
    "    [98, 99]\n",
    "]\n",
    "print(nums[1])"
   ]
  },
  {
   "cell_type": "code",
   "execution_count": null,
   "id": "8c82e65a",
   "metadata": {},
   "outputs": [],
   "source": []
  },
  {
   "cell_type": "code",
   "execution_count": null,
   "id": "4fda6b29",
   "metadata": {},
   "outputs": [],
   "source": []
  },
  {
   "cell_type": "code",
   "execution_count": null,
   "id": "d48ce4a3",
   "metadata": {},
   "outputs": [],
   "source": []
  },
  {
   "cell_type": "code",
   "execution_count": 72,
   "id": "79d5434a",
   "metadata": {},
   "outputs": [],
   "source": [
    "# Print the maximum element of each row\n",
    "\n",
    "a = [\n",
    "    [1, 4, 3, 2],\n",
    "    [5, 6, 8, 7],\n",
    "    [12, 10, 11, 9]\n",
    "]"
   ]
  },
  {
   "cell_type": "code",
   "execution_count": 75,
   "id": "d4b9f82e",
   "metadata": {},
   "outputs": [
    {
     "name": "stdout",
     "output_type": "stream",
     "text": [
      "4\n",
      "8\n",
      "12\n"
     ]
    }
   ],
   "source": [
    "for i in range(len(a)):\n",
    "    # print(a[i]) # a[i] = row\n",
    "    print(max(a[i])) # max of each row"
   ]
  },
  {
   "cell_type": "code",
   "execution_count": null,
   "id": "9fe958f6",
   "metadata": {},
   "outputs": [],
   "source": []
  },
  {
   "cell_type": "code",
   "execution_count": null,
   "id": "99056a88",
   "metadata": {},
   "outputs": [],
   "source": []
  },
  {
   "cell_type": "code",
   "execution_count": 71,
   "id": "c9646dd4",
   "metadata": {},
   "outputs": [
    {
     "name": "stdout",
     "output_type": "stream",
     "text": [
      "4\n"
     ]
    }
   ],
   "source": [
    "b = [1, 4, 3, 2]\n",
    "\n",
    "print(max(b))"
   ]
  },
  {
   "cell_type": "code",
   "execution_count": 81,
   "id": "0adac4aa",
   "metadata": {},
   "outputs": [],
   "source": [
    "def max_of_array(b):\n",
    "    max_value = b[0]\n",
    "    \n",
    "    for j in range(len(b)):\n",
    "        if b[j] > max_value:\n",
    "            max_value = b[j]\n",
    "            \n",
    "    return max_value"
   ]
  },
  {
   "cell_type": "code",
   "execution_count": 82,
   "id": "54c5bdbe",
   "metadata": {},
   "outputs": [
    {
     "name": "stdout",
     "output_type": "stream",
     "text": [
      "4\n",
      "8\n",
      "12\n"
     ]
    }
   ],
   "source": [
    "a = [\n",
    "    [1, 4, 3, 2],\n",
    "    [5, 6, 8, 7],\n",
    "    [12, 10, 11, 9]\n",
    "]\n",
    "\n",
    "for i in range(len(a)):\n",
    "    print(max_of_array(a[i])) # max of each row"
   ]
  },
  {
   "cell_type": "code",
   "execution_count": null,
   "id": "a39fdeb3",
   "metadata": {},
   "outputs": [],
   "source": []
  },
  {
   "cell_type": "code",
   "execution_count": null,
   "id": "452a2c6e",
   "metadata": {},
   "outputs": [],
   "source": []
  },
  {
   "cell_type": "code",
   "execution_count": null,
   "id": "dd6489d2",
   "metadata": {},
   "outputs": [],
   "source": []
  },
  {
   "cell_type": "code",
   "execution_count": null,
   "id": "2f043917",
   "metadata": {},
   "outputs": [],
   "source": []
  },
  {
   "cell_type": "markdown",
   "id": "d86fac62",
   "metadata": {},
   "source": [
    "### Sum of two matrices\n",
    "![](https://scaler.com/topics/images/sum-in-python.webp)"
   ]
  },
  {
   "cell_type": "code",
   "execution_count": 90,
   "id": "30ad462d",
   "metadata": {},
   "outputs": [],
   "source": [
    "a = [\n",
    "    [1, 2],\n",
    "    [3, 4]\n",
    "]\n",
    "\n",
    "b = [\n",
    "    [5, 6],\n",
    "    [7, 8]\n",
    "]"
   ]
  },
  {
   "cell_type": "code",
   "execution_count": 91,
   "id": "ebd9ba0a",
   "metadata": {},
   "outputs": [
    {
     "name": "stdout",
     "output_type": "stream",
     "text": [
      "6  =  1  +  5\n",
      "8  =  2  +  6\n",
      "10  =  3  +  7\n",
      "12  =  4  +  8\n"
     ]
    }
   ],
   "source": [
    "rows = 2 # len(a) or len(b)\n",
    "cols = 2 # len(a[0]) or len(b[0])\n",
    "\n",
    "for i in range(rows):\n",
    "    for j in range(cols):\n",
    "        c = a[i][j] + b[i][j]\n",
    "        print(c, ' = ', a[i][j], ' + ', b[i][j])"
   ]
  },
  {
   "cell_type": "code",
   "execution_count": 86,
   "id": "22db7e73",
   "metadata": {},
   "outputs": [
    {
     "name": "stdout",
     "output_type": "stream",
     "text": [
      "6 8 \n",
      "10 12 \n"
     ]
    }
   ],
   "source": [
    "for i in range(rows):\n",
    "    for j in range(cols):\n",
    "        c = a[i][j] + b[i][j]\n",
    "        print(c, end=' ')\n",
    "    print()"
   ]
  },
  {
   "cell_type": "code",
   "execution_count": null,
   "id": "04499c0d",
   "metadata": {},
   "outputs": [],
   "source": []
  },
  {
   "cell_type": "code",
   "execution_count": null,
   "id": "3403bc02",
   "metadata": {},
   "outputs": [],
   "source": []
  },
  {
   "cell_type": "code",
   "execution_count": null,
   "id": "0f7bd282",
   "metadata": {},
   "outputs": [],
   "source": []
  },
  {
   "cell_type": "code",
   "execution_count": 93,
   "id": "4210e7cd",
   "metadata": {},
   "outputs": [
    {
     "name": "stdout",
     "output_type": "stream",
     "text": [
      "[3, 4]\n",
      "[[1, 2]]\n"
     ]
    }
   ],
   "source": [
    "a = [\n",
    "    [1, 2],\n",
    "    [3, 4]\n",
    "]\n",
    "print(a[-1])\n",
    "print(a[:1])"
   ]
  },
  {
   "cell_type": "code",
   "execution_count": null,
   "id": "8c753531",
   "metadata": {},
   "outputs": [],
   "source": []
  },
  {
   "cell_type": "code",
   "execution_count": null,
   "id": "f6151ca3",
   "metadata": {},
   "outputs": [],
   "source": []
  },
  {
   "cell_type": "code",
   "execution_count": null,
   "id": "1294177c",
   "metadata": {},
   "outputs": [],
   "source": []
  },
  {
   "cell_type": "code",
   "execution_count": null,
   "id": "0c3df6af",
   "metadata": {},
   "outputs": [],
   "source": []
  },
  {
   "cell_type": "markdown",
   "id": "95790403",
   "metadata": {},
   "source": [
    "# Bonus Reading Material\n",
    "- What is List Slicing in Python? - https://www.scaler.com/topics/list-slicing-in-python/\n",
    "- Python List Comparison - https://www.scaler.com/topics/python-list-comparison/\n",
    "- Python reversed() Function - https://www.scaler.com/topics/reversed-in-python/\n",
    "- How to Reverse a List in Python? - https://www.scaler.com/topics/how-to-reverse-a-list-in-python/\n",
    "- map() in Python - https://www.scaler.com/topics/map-function-in-python/\n",
    "- What is Nested List in Python? - https://www.scaler.com/topics/nested-list-in-python/\n",
    "- 2D Array in Python- https://www.scaler.com/topics/2d-array-in-python/\n",
    "- Transpose of a Matrix in Python - https://www.scaler.com/topics/transpose-of-a-matrix-in-python/\n",
    "- Sum() in Python - https://www.scaler.com/topics/sum-in-python/\n",
    "- Wtf Python: A tic-tac-toe where X wins in the first attempt! - https://github.com/satwikkansal/wtfpython#-a-tic-tac-toe-where-x-wins-in-the-first-attempt\n",
    "- Swapping of Two Numbers in Python - https://www.scaler.com/topics/swapping-of-two-numbers-in-python/\n",
    "- Transpose of a Matrix in Python - https://www.scaler.com/topics/transpose-of-a-matrix-in-python/\n",
    "- Matrix Multiplication in Python - https://www.scaler.com/topics/matrix-multiplication-in-python/\n",
    "- What is List Comprehension in Python? - https://www.scaler.com/topics/list-comprehension-in-python/\n"
   ]
  },
  {
   "cell_type": "code",
   "execution_count": null,
   "id": "62f3eaa8",
   "metadata": {},
   "outputs": [],
   "source": []
  },
  {
   "cell_type": "markdown",
   "id": "1bc057c1",
   "metadata": {},
   "source": [
    "### Some cool websites to practice extra Python problems\n",
    "1. https://pynative.com/python-functions-exercise-with-solutions/\n",
    "2. https://exercism.org/tracks/python\n",
    "3. https://www.practicepython.org/"
   ]
  },
  {
   "cell_type": "code",
   "execution_count": null,
   "id": "8049980e",
   "metadata": {},
   "outputs": [],
   "source": []
  },
  {
   "cell_type": "code",
   "execution_count": null,
   "id": "af1d0c32",
   "metadata": {},
   "outputs": [],
   "source": []
  },
  {
   "cell_type": "code",
   "execution_count": null,
   "id": "271df28f",
   "metadata": {},
   "outputs": [],
   "source": []
  },
  {
   "cell_type": "markdown",
   "id": "1a6af3c1",
   "metadata": {},
   "source": [
    "# Doubts"
   ]
  },
  {
   "cell_type": "code",
   "execution_count": 94,
   "id": "34acf0e4",
   "metadata": {},
   "outputs": [
    {
     "name": "stdout",
     "output_type": "stream",
     "text": [
      "lenrekypi\n"
     ]
    }
   ],
   "source": [
    "xyz = \"ipykernel\"\n",
    "print(xyz[::-1])"
   ]
  },
  {
   "cell_type": "code",
   "execution_count": null,
   "id": "827053cc",
   "metadata": {},
   "outputs": [],
   "source": [
    "# Slicing works on strings in the exact same way as lists"
   ]
  },
  {
   "cell_type": "code",
   "execution_count": null,
   "id": "bb75aec6",
   "metadata": {},
   "outputs": [],
   "source": []
  },
  {
   "cell_type": "code",
   "execution_count": null,
   "id": "d62b5303",
   "metadata": {},
   "outputs": [],
   "source": []
  },
  {
   "cell_type": "code",
   "execution_count": null,
   "id": "f8978f90",
   "metadata": {},
   "outputs": [],
   "source": []
  }
 ],
 "metadata": {
  "kernelspec": {
   "display_name": "Python 3 (ipykernel)",
   "language": "python",
   "name": "python3"
  },
  "language_info": {
   "codemirror_mode": {
    "name": "ipython",
    "version": 3
   },
   "file_extension": ".py",
   "mimetype": "text/x-python",
   "name": "python",
   "nbconvert_exporter": "python",
   "pygments_lexer": "ipython3",
   "version": "3.9.18"
  }
 },
 "nbformat": 4,
 "nbformat_minor": 5
}
