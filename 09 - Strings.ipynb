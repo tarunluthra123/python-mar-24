{
 "cells": [
  {
   "cell_type": "markdown",
   "id": "0b460c5c",
   "metadata": {},
   "source": [
    "# Strings\n",
    "![](https://scaler.com/topics/images/characters-of-a-string-in-python-1024x483.webp)"
   ]
  },
  {
   "cell_type": "code",
   "execution_count": 1,
   "id": "5babe6ab",
   "metadata": {},
   "outputs": [],
   "source": [
    "s = \"hello world\"\n",
    "s2 = 'hello hi there'\n",
    "\n",
    "# A string is a sequence of characters"
   ]
  },
  {
   "cell_type": "code",
   "execution_count": 2,
   "id": "ec2bb5af",
   "metadata": {},
   "outputs": [
    {
     "ename": "SyntaxError",
     "evalue": "EOL while scanning string literal (4186552501.py, line 1)",
     "output_type": "error",
     "traceback": [
      "\u001b[0;36m  File \u001b[0;32m\"/var/folders/jn/1bsrct314hv5xmfm7vrcdrzc0000gn/T/ipykernel_1818/4186552501.py\"\u001b[0;36m, line \u001b[0;32m1\u001b[0m\n\u001b[0;31m    s3 = 'a mix is not allowed\"\u001b[0m\n\u001b[0m                               ^\u001b[0m\n\u001b[0;31mSyntaxError\u001b[0m\u001b[0;31m:\u001b[0m EOL while scanning string literal\n"
     ]
    }
   ],
   "source": [
    "s3 = 'a mix is not allowed\""
   ]
  },
  {
   "cell_type": "code",
   "execution_count": null,
   "id": "09e05998",
   "metadata": {},
   "outputs": [],
   "source": []
  },
  {
   "cell_type": "code",
   "execution_count": null,
   "id": "8cac27b4",
   "metadata": {},
   "outputs": [],
   "source": []
  },
  {
   "cell_type": "code",
   "execution_count": null,
   "id": "5f443b44",
   "metadata": {},
   "outputs": [],
   "source": []
  },
  {
   "cell_type": "markdown",
   "id": "448bd38f",
   "metadata": {},
   "source": [
    "### Multiline String\n",
    "![](https://scaler.com/topics/images/python-multiline-string.webp)"
   ]
  },
  {
   "cell_type": "code",
   "execution_count": 3,
   "id": "420ca29d",
   "metadata": {},
   "outputs": [
    {
     "name": "stdout",
     "output_type": "stream",
     "text": [
      "\n",
      "a very very\n",
      "very long\n",
      "paragraph\n",
      "\n"
     ]
    }
   ],
   "source": [
    "para = \"\"\"\n",
    "a very very\n",
    "very long\n",
    "paragraph\n",
    "\"\"\"\n",
    "\n",
    "print(para)"
   ]
  },
  {
   "cell_type": "code",
   "execution_count": null,
   "id": "c577db71",
   "metadata": {},
   "outputs": [],
   "source": []
  },
  {
   "cell_type": "code",
   "execution_count": null,
   "id": "fc10c85f",
   "metadata": {},
   "outputs": [],
   "source": []
  },
  {
   "cell_type": "markdown",
   "id": "a47cbed0",
   "metadata": {},
   "source": [
    "We used multiline strings as docstrings"
   ]
  },
  {
   "cell_type": "code",
   "execution_count": null,
   "id": "5d398cd7",
   "metadata": {},
   "outputs": [],
   "source": []
  },
  {
   "cell_type": "code",
   "execution_count": null,
   "id": "c8cb23a8",
   "metadata": {},
   "outputs": [],
   "source": []
  },
  {
   "cell_type": "markdown",
   "id": "706c6b74",
   "metadata": {},
   "source": [
    "### Length\n",
    "<img src=\"https://scaler.com/topics/images/length-of-an-array-in-c_thumbnail.webp\" width=\"350px\" />"
   ]
  },
  {
   "cell_type": "code",
   "execution_count": 4,
   "id": "2de69cd7",
   "metadata": {},
   "outputs": [
    {
     "name": "stdout",
     "output_type": "stream",
     "text": [
      "11\n"
     ]
    }
   ],
   "source": [
    "s = 'hello world'\n",
    "print(len(s))"
   ]
  },
  {
   "cell_type": "code",
   "execution_count": null,
   "id": "db1e634d",
   "metadata": {},
   "outputs": [],
   "source": []
  },
  {
   "cell_type": "code",
   "execution_count": null,
   "id": "5527d762",
   "metadata": {},
   "outputs": [],
   "source": []
  },
  {
   "cell_type": "markdown",
   "id": "7ec0d8fd",
   "metadata": {},
   "source": [
    "## Indexing"
   ]
  },
  {
   "cell_type": "code",
   "execution_count": 5,
   "id": "44c282eb",
   "metadata": {},
   "outputs": [
    {
     "name": "stdout",
     "output_type": "stream",
     "text": [
      "h\n"
     ]
    }
   ],
   "source": [
    "s = 'hello world'\n",
    "\n",
    "print(s[0])"
   ]
  },
  {
   "cell_type": "code",
   "execution_count": 6,
   "id": "1efd152e",
   "metadata": {},
   "outputs": [
    {
     "name": "stdout",
     "output_type": "stream",
     "text": [
      "o\n"
     ]
    }
   ],
   "source": [
    "print(s[4])"
   ]
  },
  {
   "cell_type": "code",
   "execution_count": 7,
   "id": "66c35b24",
   "metadata": {},
   "outputs": [
    {
     "name": "stdout",
     "output_type": "stream",
     "text": [
      "d\n"
     ]
    }
   ],
   "source": [
    "print(s[-1])"
   ]
  },
  {
   "cell_type": "code",
   "execution_count": null,
   "id": "ac4f5b2d",
   "metadata": {},
   "outputs": [],
   "source": []
  },
  {
   "cell_type": "code",
   "execution_count": null,
   "id": "ba0f7e74",
   "metadata": {},
   "outputs": [],
   "source": []
  },
  {
   "cell_type": "markdown",
   "id": "aee51ff9",
   "metadata": {},
   "source": [
    "## Working with ASCII Values\n",
    "<img src=\"https://scaler.com/topics/images/ascii-values-in-c-thumbnail.webp\" width=\"400px\" />"
   ]
  },
  {
   "cell_type": "code",
   "execution_count": null,
   "id": "3d20ebca",
   "metadata": {},
   "outputs": [],
   "source": []
  },
  {
   "cell_type": "code",
   "execution_count": null,
   "id": "bb9fdcd6",
   "metadata": {},
   "outputs": [],
   "source": []
  },
  {
   "cell_type": "markdown",
   "id": "cccc7869",
   "metadata": {},
   "source": [
    "\n",
    "### ord()\n",
    "![](https://scaler.com/topics/images/ord-in-python.webp)"
   ]
  },
  {
   "cell_type": "code",
   "execution_count": 8,
   "id": "df0547c6",
   "metadata": {},
   "outputs": [
    {
     "name": "stdout",
     "output_type": "stream",
     "text": [
      "65\n"
     ]
    }
   ],
   "source": [
    "print(ord('A'))"
   ]
  },
  {
   "cell_type": "code",
   "execution_count": 9,
   "id": "48f48d63",
   "metadata": {},
   "outputs": [
    {
     "name": "stdout",
     "output_type": "stream",
     "text": [
      "98\n"
     ]
    }
   ],
   "source": [
    "print(ord('b'))"
   ]
  },
  {
   "cell_type": "code",
   "execution_count": 10,
   "id": "13b91535",
   "metadata": {},
   "outputs": [
    {
     "name": "stdout",
     "output_type": "stream",
     "text": [
      "37\n"
     ]
    }
   ],
   "source": [
    "print(ord('%'))"
   ]
  },
  {
   "cell_type": "code",
   "execution_count": null,
   "id": "643462ec",
   "metadata": {},
   "outputs": [],
   "source": []
  },
  {
   "cell_type": "markdown",
   "id": "4750ca11",
   "metadata": {},
   "source": [
    "### chr()\n",
    "![](https://scaler.com/topics/images/chr-in-python.webp)"
   ]
  },
  {
   "cell_type": "code",
   "execution_count": 12,
   "id": "1d31a379",
   "metadata": {},
   "outputs": [
    {
     "name": "stdout",
     "output_type": "stream",
     "text": [
      "a\n"
     ]
    }
   ],
   "source": [
    " print(chr(97))"
   ]
  },
  {
   "cell_type": "code",
   "execution_count": 13,
   "id": "176be550",
   "metadata": {},
   "outputs": [
    {
     "name": "stdout",
     "output_type": "stream",
     "text": [
      "B\n"
     ]
    }
   ],
   "source": [
    "print(chr(66))"
   ]
  },
  {
   "cell_type": "code",
   "execution_count": 14,
   "id": "82376e06",
   "metadata": {},
   "outputs": [
    {
     "name": "stdout",
     "output_type": "stream",
     "text": [
      "弁\n"
     ]
    }
   ],
   "source": [
    "print(chr(24321))"
   ]
  },
  {
   "cell_type": "code",
   "execution_count": null,
   "id": "90343bee",
   "metadata": {},
   "outputs": [],
   "source": []
  },
  {
   "cell_type": "code",
   "execution_count": null,
   "id": "a5d7bc67",
   "metadata": {},
   "outputs": [],
   "source": []
  },
  {
   "cell_type": "code",
   "execution_count": null,
   "id": "2e50e8be",
   "metadata": {},
   "outputs": [],
   "source": []
  },
  {
   "cell_type": "markdown",
   "id": "c023d07e",
   "metadata": {},
   "source": [
    "### Iterating over a string"
   ]
  },
  {
   "cell_type": "code",
   "execution_count": 15,
   "id": "a3cf22cb",
   "metadata": {},
   "outputs": [
    {
     "name": "stdout",
     "output_type": "stream",
     "text": [
      "h\n",
      "e\n",
      "l\n",
      "l\n",
      "o\n"
     ]
    }
   ],
   "source": [
    "s = \"hello\"\n",
    "\n",
    "for c in s:\n",
    "    print(c)"
   ]
  },
  {
   "cell_type": "code",
   "execution_count": null,
   "id": "f05ecc16",
   "metadata": {},
   "outputs": [],
   "source": [
    "c = 'h'  # first iteration\n",
    "c = 'e'  # secone iteration"
   ]
  },
  {
   "cell_type": "code",
   "execution_count": null,
   "id": "0c682135",
   "metadata": {},
   "outputs": [],
   "source": []
  },
  {
   "cell_type": "code",
   "execution_count": null,
   "id": "e050c376",
   "metadata": {},
   "outputs": [],
   "source": []
  },
  {
   "cell_type": "code",
   "execution_count": null,
   "id": "308e8627",
   "metadata": {},
   "outputs": [],
   "source": []
  },
  {
   "cell_type": "markdown",
   "id": "b506f94c",
   "metadata": {},
   "source": [
    "#### Quiz\n",
    "What will be the output of the following code?\n",
    "```py\n",
    "message = \"Hello World!\"\n",
    "i = 0\n",
    "while i < len(message):\n",
    "  if i % 2 == 0:\n",
    "    print(message[i], end = \"\")\n",
    "  i += 1\n",
    "```"
   ]
  },
  {
   "cell_type": "code",
   "execution_count": 18,
   "id": "168f3640",
   "metadata": {},
   "outputs": [
    {
     "name": "stdout",
     "output_type": "stream",
     "text": [
      "HloWrd"
     ]
    }
   ],
   "source": [
    "message = \"Hello World!\"\n",
    "i = 0\n",
    "while i < len(message):\n",
    "    if i % 2 == 0:\n",
    "        # if the index is even or not\n",
    "        print(message[i], end = \"\")\n",
    "    i += 1"
   ]
  },
  {
   "cell_type": "code",
   "execution_count": null,
   "id": "77cbfbf5",
   "metadata": {},
   "outputs": [],
   "source": []
  },
  {
   "cell_type": "code",
   "execution_count": 16,
   "id": "3962a062",
   "metadata": {},
   "outputs": [
    {
     "data": {
      "text/plain": [
       "12"
      ]
     },
     "execution_count": 16,
     "metadata": {},
     "output_type": "execute_result"
    }
   ],
   "source": [
    "len(\"Hello World!\")"
   ]
  },
  {
   "cell_type": "code",
   "execution_count": 17,
   "id": "21654cc3",
   "metadata": {},
   "outputs": [
    {
     "name": "stdout",
     "output_type": "stream",
     "text": [
      "0\n",
      "1\n",
      "2\n",
      "3\n",
      "4\n",
      "5\n",
      "6\n",
      "7\n",
      "8\n",
      "9\n",
      "10\n",
      "11\n"
     ]
    }
   ],
   "source": [
    "message = \"Hello World!\"\n",
    "i = 0\n",
    "while i < len(message):\n",
    "    print(i)\n",
    "    i += 1"
   ]
  },
  {
   "cell_type": "code",
   "execution_count": null,
   "id": "c9b2cd2d",
   "metadata": {},
   "outputs": [],
   "source": []
  },
  {
   "cell_type": "code",
   "execution_count": null,
   "id": "d3c81252",
   "metadata": {},
   "outputs": [],
   "source": []
  },
  {
   "cell_type": "code",
   "execution_count": null,
   "id": "14b50e68",
   "metadata": {},
   "outputs": [],
   "source": []
  },
  {
   "cell_type": "markdown",
   "id": "b2627929",
   "metadata": {},
   "source": [
    "## String Concatenation\n",
    "![](https://scaler.com/topics/images/string-concatenation-in-python.webp)"
   ]
  },
  {
   "cell_type": "code",
   "execution_count": 19,
   "id": "eef9fe7d",
   "metadata": {},
   "outputs": [
    {
     "name": "stdout",
     "output_type": "stream",
     "text": [
      "helloworld\n"
     ]
    }
   ],
   "source": [
    "s = \"hello\"\n",
    "t = \"world\"\n",
    "\n",
    "print(s + t)"
   ]
  },
  {
   "cell_type": "code",
   "execution_count": 20,
   "id": "5a16f511",
   "metadata": {},
   "outputs": [
    {
     "name": "stdout",
     "output_type": "stream",
     "text": [
      "hello world\n"
     ]
    }
   ],
   "source": [
    "print(s + ' ' + t)"
   ]
  },
  {
   "cell_type": "code",
   "execution_count": null,
   "id": "0f23047b",
   "metadata": {},
   "outputs": [],
   "source": []
  },
  {
   "cell_type": "code",
   "execution_count": 21,
   "id": "0bca42c9",
   "metadata": {},
   "outputs": [
    {
     "name": "stdout",
     "output_type": "stream",
     "text": [
      "hellohellohello\n"
     ]
    }
   ],
   "source": [
    "s = \"hello\"\n",
    "print(s * 3)"
   ]
  },
  {
   "cell_type": "code",
   "execution_count": 24,
   "id": "ae35f1f5",
   "metadata": {},
   "outputs": [
    {
     "name": "stdout",
     "output_type": "stream",
     "text": [
      "hellohellohellohellohello\n"
     ]
    }
   ],
   "source": [
    "s = \"hello\"\n",
    "print(s * 5)"
   ]
  },
  {
   "cell_type": "code",
   "execution_count": null,
   "id": "3a79c71a",
   "metadata": {},
   "outputs": [],
   "source": []
  },
  {
   "cell_type": "code",
   "execution_count": null,
   "id": "4fc8a63b",
   "metadata": {},
   "outputs": [],
   "source": []
  },
  {
   "cell_type": "code",
   "execution_count": null,
   "id": "25a1920e",
   "metadata": {},
   "outputs": [],
   "source": []
  },
  {
   "cell_type": "markdown",
   "id": "54690569",
   "metadata": {},
   "source": [
    "### Stair Pattern\n",
    "\n",
    "N =4\n",
    "```\n",
    "*\n",
    "* *\n",
    "* * *\n",
    "* * * *\n",
    "```"
   ]
  },
  {
   "cell_type": "code",
   "execution_count": 28,
   "id": "31c9bd2d",
   "metadata": {},
   "outputs": [
    {
     "name": "stdout",
     "output_type": "stream",
     "text": [
      "* \n",
      "* * \n",
      "* * * \n",
      "* * * * \n"
     ]
    }
   ],
   "source": [
    "N = 4\n",
    "\n",
    "for i in range(1, N+1):\n",
    "    # One iteration for every row\n",
    "    # Every row, print i stars\n",
    "    print('* ' * i)"
   ]
  },
  {
   "cell_type": "code",
   "execution_count": null,
   "id": "14c0a421",
   "metadata": {},
   "outputs": [],
   "source": [
    "# * \n",
    "# * *\n",
    "# * * *\n",
    "# * * * *"
   ]
  },
  {
   "cell_type": "code",
   "execution_count": null,
   "id": "123e7472",
   "metadata": {},
   "outputs": [],
   "source": []
  },
  {
   "cell_type": "code",
   "execution_count": null,
   "id": "92468fe8",
   "metadata": {},
   "outputs": [],
   "source": []
  },
  {
   "cell_type": "code",
   "execution_count": null,
   "id": "f05de71b",
   "metadata": {},
   "outputs": [],
   "source": []
  },
  {
   "cell_type": "code",
   "execution_count": 29,
   "id": "18f25fc9",
   "metadata": {},
   "outputs": [
    {
     "ename": "SyntaxError",
     "evalue": "invalid syntax (2931296651.py, line 1)",
     "output_type": "error",
     "traceback": [
      "\u001b[0;36m  File \u001b[0;32m\"/var/folders/jn/1bsrct314hv5xmfm7vrcdrzc0000gn/T/ipykernel_1818/2931296651.py\"\u001b[0;36m, line \u001b[0;32m1\u001b[0m\n\u001b[0;31m    print(\"Hello \"world!\"\")\u001b[0m\n\u001b[0m                  ^\u001b[0m\n\u001b[0;31mSyntaxError\u001b[0m\u001b[0;31m:\u001b[0m invalid syntax\n"
     ]
    }
   ],
   "source": [
    "print(\"Hello \"world!\"\")"
   ]
  },
  {
   "cell_type": "code",
   "execution_count": 30,
   "id": "6dc8f7e6",
   "metadata": {},
   "outputs": [
    {
     "name": "stdout",
     "output_type": "stream",
     "text": [
      "Hello \"world!\"\n"
     ]
    }
   ],
   "source": [
    "print('Hello \"world!\"')"
   ]
  },
  {
   "cell_type": "code",
   "execution_count": 31,
   "id": "29836662",
   "metadata": {},
   "outputs": [
    {
     "name": "stdout",
     "output_type": "stream",
     "text": [
      "Hello \"world!\"\n"
     ]
    }
   ],
   "source": [
    "print(\"Hello \\\"world!\\\"\")"
   ]
  },
  {
   "cell_type": "code",
   "execution_count": null,
   "id": "ce189a09",
   "metadata": {},
   "outputs": [],
   "source": [
    "\\ = escape character"
   ]
  },
  {
   "cell_type": "code",
   "execution_count": null,
   "id": "e56b3f92",
   "metadata": {},
   "outputs": [],
   "source": []
  },
  {
   "cell_type": "code",
   "execution_count": null,
   "id": "5420bf5c",
   "metadata": {},
   "outputs": [],
   "source": []
  },
  {
   "cell_type": "code",
   "execution_count": null,
   "id": "5ea1afb2",
   "metadata": {},
   "outputs": [],
   "source": []
  },
  {
   "cell_type": "code",
   "execution_count": null,
   "id": "52700360",
   "metadata": {},
   "outputs": [],
   "source": []
  },
  {
   "cell_type": "markdown",
   "id": "0365addf",
   "metadata": {},
   "source": [
    "## String slicing\n"
   ]
  },
  {
   "cell_type": "markdown",
   "id": "f73ad2db",
   "metadata": {},
   "source": [
    "The exact same rules of list slicing applies to strings as well. "
   ]
  },
  {
   "cell_type": "code",
   "execution_count": 32,
   "id": "c96a175f",
   "metadata": {},
   "outputs": [
    {
     "name": "stdout",
     "output_type": "stream",
     "text": [
      "abcd\n"
     ]
    }
   ],
   "source": [
    "s = 'abcdef'\n",
    "\n",
    "print(s[0:4])"
   ]
  },
  {
   "cell_type": "code",
   "execution_count": 33,
   "id": "69d023b9",
   "metadata": {},
   "outputs": [
    {
     "name": "stdout",
     "output_type": "stream",
     "text": [
      "ace\n"
     ]
    }
   ],
   "source": [
    "print(s[::2])"
   ]
  },
  {
   "cell_type": "code",
   "execution_count": null,
   "id": "48b412db",
   "metadata": {},
   "outputs": [],
   "source": []
  },
  {
   "cell_type": "code",
   "execution_count": null,
   "id": "58024a4c",
   "metadata": {},
   "outputs": [],
   "source": []
  },
  {
   "cell_type": "code",
   "execution_count": null,
   "id": "949345f7",
   "metadata": {},
   "outputs": [],
   "source": []
  },
  {
   "cell_type": "code",
   "execution_count": null,
   "id": "01c9e176",
   "metadata": {},
   "outputs": [],
   "source": []
  },
  {
   "cell_type": "markdown",
   "id": "1c580a4e",
   "metadata": {},
   "source": [
    "#### Quiz\n",
    "What is the return value of the function call `mystery(\"abracadabra\")`?  \n",
    "  \n",
    "\n",
    "```py\n",
    "def mystery(s):\n",
    "  i = len(s)//2\n",
    "  a = s[:i]\n",
    "  b = s[i:]\n",
    "  return a+ b\n",
    "```"
   ]
  },
  {
   "cell_type": "code",
   "execution_count": 35,
   "id": "4a79bf0b",
   "metadata": {},
   "outputs": [
    {
     "name": "stdout",
     "output_type": "stream",
     "text": [
      "abracadabra\n"
     ]
    }
   ],
   "source": [
    "def mystery(s):\n",
    "    i = len(s)//2 # i = 11//2 = 5\n",
    "    a = s[:i] # a = s[:5] = 'abrac'\n",
    "    b = s[i:] # b = s[5:] = 'adabra'\n",
    "    return a + b # 'abrac' + 'adabra' = 'abracadabra'\n",
    "\n",
    "print(mystery(\"abracadabra\"))"
   ]
  },
  {
   "cell_type": "code",
   "execution_count": 34,
   "id": "afa13762",
   "metadata": {},
   "outputs": [
    {
     "data": {
      "text/plain": [
       "11"
      ]
     },
     "execution_count": 34,
     "metadata": {},
     "output_type": "execute_result"
    }
   ],
   "source": [
    "len(\"abracadabra\")"
   ]
  },
  {
   "cell_type": "code",
   "execution_count": null,
   "id": "93275b8b",
   "metadata": {},
   "outputs": [],
   "source": []
  },
  {
   "cell_type": "code",
   "execution_count": null,
   "id": "032ea3bf",
   "metadata": {},
   "outputs": [],
   "source": []
  },
  {
   "cell_type": "code",
   "execution_count": null,
   "id": "6966e467",
   "metadata": {},
   "outputs": [],
   "source": []
  },
  {
   "cell_type": "markdown",
   "id": "328212ff",
   "metadata": {},
   "source": [
    "### Check Palindrome\n",
    "Given a string, check if it is Palindromic"
   ]
  },
  {
   "cell_type": "code",
   "execution_count": 36,
   "id": "14aafe2f",
   "metadata": {},
   "outputs": [],
   "source": [
    "def check_palindrome(s):\n",
    "    \"\"\"\n",
    "    Function takes a string argument and checks whether it is palindrome or not.\n",
    "    Returns a boolean output\n",
    "    \n",
    "    Comparing if string is equal to its reverse\n",
    "    \"\"\"\n",
    "    return s == s[::-1]"
   ]
  },
  {
   "cell_type": "code",
   "execution_count": 37,
   "id": "63a3d4ed",
   "metadata": {},
   "outputs": [
    {
     "name": "stdout",
     "output_type": "stream",
     "text": [
      "True\n"
     ]
    }
   ],
   "source": [
    "print(check_palindrome(\"madam\"))"
   ]
  },
  {
   "cell_type": "code",
   "execution_count": 38,
   "id": "5693be58",
   "metadata": {},
   "outputs": [
    {
     "name": "stdout",
     "output_type": "stream",
     "text": [
      "True\n"
     ]
    }
   ],
   "source": [
    "print(check_palindrome(\"dad\"))"
   ]
  },
  {
   "cell_type": "code",
   "execution_count": 39,
   "id": "1886694c",
   "metadata": {},
   "outputs": [
    {
     "name": "stdout",
     "output_type": "stream",
     "text": [
      "False\n"
     ]
    }
   ],
   "source": [
    "print(check_palindrome(\"Naman\"))"
   ]
  },
  {
   "cell_type": "code",
   "execution_count": null,
   "id": "65cd191d",
   "metadata": {},
   "outputs": [],
   "source": [
    "# Naman != namaN"
   ]
  },
  {
   "cell_type": "code",
   "execution_count": null,
   "id": "fb8d8d2f",
   "metadata": {},
   "outputs": [],
   "source": []
  },
  {
   "cell_type": "code",
   "execution_count": null,
   "id": "36227640",
   "metadata": {},
   "outputs": [],
   "source": []
  },
  {
   "cell_type": "markdown",
   "id": "a280a43e",
   "metadata": {},
   "source": [
    "### Changing cases\n",
    "![](https://scaler.com/topics/images/upper-in-python-featured-image.webp)\n",
    "- upper()\n",
    "- lower()\n",
    "- title()\n",
    "- isupper()\n",
    "- islower()"
   ]
  },
  {
   "cell_type": "code",
   "execution_count": 42,
   "id": "08c06fed",
   "metadata": {},
   "outputs": [
    {
     "name": "stdout",
     "output_type": "stream",
     "text": [
      "HELLO\n",
      "hello\n"
     ]
    }
   ],
   "source": [
    "s = 'hello'\n",
    "t = s.upper()\n",
    "\n",
    "print(t)\n",
    "# Note that it does not modify the original string. It returns a new one\n",
    "\n",
    "print(s)"
   ]
  },
  {
   "cell_type": "code",
   "execution_count": null,
   "id": "7095a634",
   "metadata": {},
   "outputs": [],
   "source": []
  },
  {
   "cell_type": "code",
   "execution_count": 43,
   "id": "4dec8e90",
   "metadata": {},
   "outputs": [
    {
     "name": "stdout",
     "output_type": "stream",
     "text": [
      "hello world\n",
      "HELLO WORLD\n"
     ]
    }
   ],
   "source": [
    "s = 'HELLO WORLD'\n",
    "t = s.lower()\n",
    "\n",
    "print(t)\n",
    "print(s) # original string remains as it is"
   ]
  },
  {
   "cell_type": "code",
   "execution_count": null,
   "id": "65263172",
   "metadata": {},
   "outputs": [],
   "source": []
  },
  {
   "cell_type": "code",
   "execution_count": 44,
   "id": "904db739",
   "metadata": {},
   "outputs": [
    {
     "name": "stdout",
     "output_type": "stream",
     "text": [
      "Tarun Luthra\n"
     ]
    }
   ],
   "source": [
    "name = 'tarun luthra'\n",
    "\n",
    "print(name.title())"
   ]
  },
  {
   "cell_type": "code",
   "execution_count": null,
   "id": "713f9d95",
   "metadata": {},
   "outputs": [],
   "source": []
  },
  {
   "cell_type": "code",
   "execution_count": 45,
   "id": "12bd02fc",
   "metadata": {},
   "outputs": [
    {
     "name": "stdout",
     "output_type": "stream",
     "text": [
      "Hello world\n"
     ]
    }
   ],
   "source": [
    "s = 'hello world'\n",
    "\n",
    "print(s.capitalize())\n",
    "# capitalizes the first letter"
   ]
  },
  {
   "cell_type": "code",
   "execution_count": null,
   "id": "73c545b6",
   "metadata": {},
   "outputs": [],
   "source": []
  },
  {
   "cell_type": "code",
   "execution_count": null,
   "id": "07078c1f",
   "metadata": {},
   "outputs": [],
   "source": []
  },
  {
   "cell_type": "code",
   "execution_count": 46,
   "id": "1d071b81",
   "metadata": {},
   "outputs": [
    {
     "name": "stdout",
     "output_type": "stream",
     "text": [
      "False\n"
     ]
    }
   ],
   "source": [
    "print('hi there'.isupper())\n",
    "# the characters in this string are not all uppercase"
   ]
  },
  {
   "cell_type": "code",
   "execution_count": 47,
   "id": "c15b3a01",
   "metadata": {},
   "outputs": [
    {
     "name": "stdout",
     "output_type": "stream",
     "text": [
      "True\n"
     ]
    }
   ],
   "source": [
    "print('PYTHON'.isupper())"
   ]
  },
  {
   "cell_type": "code",
   "execution_count": 48,
   "id": "cffee73f",
   "metadata": {},
   "outputs": [
    {
     "name": "stdout",
     "output_type": "stream",
     "text": [
      "False\n"
     ]
    }
   ],
   "source": [
    "print('PYTHON is'.isupper())"
   ]
  },
  {
   "cell_type": "code",
   "execution_count": null,
   "id": "e8fa12ec",
   "metadata": {},
   "outputs": [],
   "source": []
  },
  {
   "cell_type": "code",
   "execution_count": 50,
   "id": "189fc501",
   "metadata": {},
   "outputs": [
    {
     "name": "stdout",
     "output_type": "stream",
     "text": [
      "True\n"
     ]
    }
   ],
   "source": [
    "print('hi there'.islower())\n",
    "# the characters in this string are not all lowercase"
   ]
  },
  {
   "cell_type": "code",
   "execution_count": 51,
   "id": "0f4b7c5f",
   "metadata": {},
   "outputs": [
    {
     "name": "stdout",
     "output_type": "stream",
     "text": [
      "False\n"
     ]
    }
   ],
   "source": [
    "print('PYTHON'.islower())"
   ]
  },
  {
   "cell_type": "code",
   "execution_count": 52,
   "id": "3458fb4b",
   "metadata": {},
   "outputs": [
    {
     "name": "stdout",
     "output_type": "stream",
     "text": [
      "False\n"
     ]
    }
   ],
   "source": [
    "print('PYTHON is'.islower())"
   ]
  },
  {
   "cell_type": "code",
   "execution_count": null,
   "id": "cf458ccb",
   "metadata": {},
   "outputs": [],
   "source": []
  },
  {
   "cell_type": "markdown",
   "id": "70f67c60",
   "metadata": {},
   "source": [
    "### Given a string, count the number of capital characters in it.\n",
    "s = \"Hello World\"\n",
    "\n",
    "Ans = 2\n"
   ]
  },
  {
   "cell_type": "code",
   "execution_count": 56,
   "id": "80f21690",
   "metadata": {},
   "outputs": [
    {
     "name": "stdout",
     "output_type": "stream",
     "text": [
      "6\n"
     ]
    }
   ],
   "source": [
    "s = \"HeLLo WoRLd\"\n",
    "\n",
    "ans = 0\n",
    "\n",
    "\n",
    "# iterating character by character\n",
    "for c in s:\n",
    "    # c is one character\n",
    "    if c.isupper():\n",
    "        ans += 1\n",
    "        \n",
    "        \n",
    "print(ans)"
   ]
  },
  {
   "cell_type": "code",
   "execution_count": null,
   "id": "a58b541b",
   "metadata": {},
   "outputs": [],
   "source": []
  },
  {
   "cell_type": "code",
   "execution_count": null,
   "id": "08ee4131",
   "metadata": {},
   "outputs": [],
   "source": []
  },
  {
   "cell_type": "code",
   "execution_count": null,
   "id": "b18ae426",
   "metadata": {},
   "outputs": [],
   "source": []
  },
  {
   "cell_type": "code",
   "execution_count": null,
   "id": "2c49c7a6",
   "metadata": {},
   "outputs": [],
   "source": []
  },
  {
   "cell_type": "markdown",
   "id": "7574c034",
   "metadata": {},
   "source": [
    "## Formatting"
   ]
  },
  {
   "cell_type": "code",
   "execution_count": 57,
   "id": "edf83a38",
   "metadata": {},
   "outputs": [],
   "source": [
    "l = 5\n",
    "b = 2\n",
    "a = l * b"
   ]
  },
  {
   "cell_type": "code",
   "execution_count": 58,
   "id": "7ec7a4ab",
   "metadata": {},
   "outputs": [
    {
     "name": "stdout",
     "output_type": "stream",
     "text": [
      "Length =  5   Breadth =  2    Area =  10\n"
     ]
    }
   ],
   "source": [
    "# 1.\n",
    "print(\"Length = \", l, \"  Breadth = \", b, \"   Area = \", a)"
   ]
  },
  {
   "cell_type": "code",
   "execution_count": 59,
   "id": "c46f6779",
   "metadata": {},
   "outputs": [
    {
     "name": "stdout",
     "output_type": "stream",
     "text": [
      "Length = 5  Breadth = 2  Area = 10\n"
     ]
    }
   ],
   "source": [
    "# 2.\n",
    "print(\"Length = {}  Breadth = {}  Area = {}\".format(l, b, a))"
   ]
  },
  {
   "cell_type": "code",
   "execution_count": 60,
   "id": "bb75896c",
   "metadata": {},
   "outputs": [
    {
     "name": "stdout",
     "output_type": "stream",
     "text": [
      "Length = 5  Breadth = 2  Area = 10\n"
     ]
    }
   ],
   "source": [
    "# 3. f-string (Only available in Python 3.5 or above)\n",
    "print(f\"Length = {l}  Breadth = {b}  Area = {a}\")"
   ]
  },
  {
   "cell_type": "code",
   "execution_count": null,
   "id": "030201da",
   "metadata": {},
   "outputs": [],
   "source": []
  },
  {
   "cell_type": "code",
   "execution_count": null,
   "id": "84bab8f1",
   "metadata": {},
   "outputs": [],
   "source": []
  },
  {
   "cell_type": "code",
   "execution_count": null,
   "id": "2faa768d",
   "metadata": {},
   "outputs": [],
   "source": []
  },
  {
   "cell_type": "code",
   "execution_count": null,
   "id": "0bbed27e",
   "metadata": {},
   "outputs": [],
   "source": []
  },
  {
   "cell_type": "code",
   "execution_count": null,
   "id": "c7dd7b19",
   "metadata": {},
   "outputs": [],
   "source": []
  },
  {
   "cell_type": "code",
   "execution_count": null,
   "id": "242be45d",
   "metadata": {},
   "outputs": [],
   "source": []
  },
  {
   "cell_type": "code",
   "execution_count": null,
   "id": "80b80cf8",
   "metadata": {},
   "outputs": [],
   "source": []
  },
  {
   "cell_type": "markdown",
   "id": "22847073",
   "metadata": {},
   "source": [
    "### String Formatting\n",
    "![](https://scaler.com/topics/images/fstring_python.webp)"
   ]
  },
  {
   "cell_type": "code",
   "execution_count": null,
   "id": "65c355db",
   "metadata": {},
   "outputs": [],
   "source": []
  },
  {
   "cell_type": "code",
   "execution_count": null,
   "id": "a69d2f40",
   "metadata": {},
   "outputs": [],
   "source": []
  },
  {
   "cell_type": "code",
   "execution_count": null,
   "id": "a931a492",
   "metadata": {},
   "outputs": [],
   "source": []
  },
  {
   "cell_type": "markdown",
   "id": "7d7222fd",
   "metadata": {},
   "source": [
    "#### 2 ways to string formatting\n",
    "1. f-string\n",
    "2. .format()"
   ]
  },
  {
   "cell_type": "code",
   "execution_count": null,
   "id": "a136971f",
   "metadata": {},
   "outputs": [],
   "source": []
  },
  {
   "cell_type": "code",
   "execution_count": null,
   "id": "7ef88207",
   "metadata": {},
   "outputs": [],
   "source": []
  },
  {
   "cell_type": "code",
   "execution_count": null,
   "id": "62a1c441",
   "metadata": {},
   "outputs": [],
   "source": []
  },
  {
   "cell_type": "code",
   "execution_count": null,
   "id": "e612d679",
   "metadata": {},
   "outputs": [],
   "source": []
  },
  {
   "cell_type": "markdown",
   "id": "6cb72885",
   "metadata": {},
   "source": [
    "#### f-string\n",
    "It only works for Python 3.5 or above"
   ]
  },
  {
   "cell_type": "code",
   "execution_count": null,
   "id": "c9cee47e",
   "metadata": {},
   "outputs": [],
   "source": []
  },
  {
   "cell_type": "code",
   "execution_count": null,
   "id": "3f54149f",
   "metadata": {},
   "outputs": [],
   "source": []
  },
  {
   "cell_type": "code",
   "execution_count": null,
   "id": "bcbb7086",
   "metadata": {},
   "outputs": [],
   "source": []
  },
  {
   "cell_type": "code",
   "execution_count": null,
   "id": "8f950783",
   "metadata": {},
   "outputs": [],
   "source": []
  },
  {
   "cell_type": "code",
   "execution_count": null,
   "id": "f931ded6",
   "metadata": {},
   "outputs": [],
   "source": []
  },
  {
   "cell_type": "code",
   "execution_count": null,
   "id": "95bddef6",
   "metadata": {},
   "outputs": [],
   "source": []
  },
  {
   "cell_type": "code",
   "execution_count": null,
   "id": "52931027",
   "metadata": {},
   "outputs": [],
   "source": []
  },
  {
   "cell_type": "markdown",
   "id": "e59c9a62",
   "metadata": {},
   "source": [
    "#### String Methods\n",
    "- split()\n",
    "- join()\n",
    "- find()\n",
    "- replace()\n",
    "- count()\n",
    "- isdigit()\n",
    "- isalpha()"
   ]
  },
  {
   "cell_type": "code",
   "execution_count": null,
   "id": "86f3452c",
   "metadata": {},
   "outputs": [],
   "source": []
  },
  {
   "cell_type": "code",
   "execution_count": 62,
   "id": "bfea00ea",
   "metadata": {},
   "outputs": [],
   "source": [
    "# split()\n",
    "# splits your string into a list"
   ]
  },
  {
   "cell_type": "code",
   "execution_count": 63,
   "id": "b5a4c073",
   "metadata": {},
   "outputs": [
    {
     "name": "stdout",
     "output_type": "stream",
     "text": [
      "['4', '5', '6', '7', '8']\n"
     ]
    }
   ],
   "source": [
    "s = \"4 5 6 7 8\"\n",
    "l = s.split() # split s into a list of string\n",
    "print(l)"
   ]
  },
  {
   "cell_type": "code",
   "execution_count": 64,
   "id": "971e2f80",
   "metadata": {},
   "outputs": [
    {
     "name": "stdout",
     "output_type": "stream",
     "text": [
      "['I', 'love', 'python']\n"
     ]
    }
   ],
   "source": [
    "s = 'I love python'\n",
    "l = s.split() # split s into a list of string\n",
    "print(l)"
   ]
  },
  {
   "cell_type": "code",
   "execution_count": null,
   "id": "2c5fd234",
   "metadata": {},
   "outputs": [],
   "source": []
  },
  {
   "cell_type": "code",
   "execution_count": 66,
   "id": "e2d58f57",
   "metadata": {},
   "outputs": [
    {
     "name": "stdout",
     "output_type": "stream",
     "text": [
      "['This', 'is', 'a', 'underscore', 'seperated', 'string']\n"
     ]
    }
   ],
   "source": [
    "s = 'This_is_a_underscore_seperated_string'\n",
    "l = s.split('_')\n",
    "print(l)"
   ]
  },
  {
   "cell_type": "code",
   "execution_count": 72,
   "id": "ab2dd8c3",
   "metadata": {},
   "outputs": [
    {
     "ename": "ValueError",
     "evalue": "empty separator",
     "output_type": "error",
     "traceback": [
      "\u001b[0;31m---------------------------------------------------------------------------\u001b[0m",
      "\u001b[0;31mValueError\u001b[0m                                Traceback (most recent call last)",
      "\u001b[0;32m/var/folders/jn/1bsrct314hv5xmfm7vrcdrzc0000gn/T/ipykernel_1818/2964941022.py\u001b[0m in \u001b[0;36m<module>\u001b[0;34m\u001b[0m\n\u001b[1;32m      1\u001b[0m \u001b[0ms\u001b[0m \u001b[0;34m=\u001b[0m \u001b[0;34m'This_is_a_underscore_seperated_string'\u001b[0m\u001b[0;34m\u001b[0m\u001b[0;34m\u001b[0m\u001b[0m\n\u001b[0;32m----> 2\u001b[0;31m \u001b[0ml\u001b[0m \u001b[0;34m=\u001b[0m \u001b[0ms\u001b[0m\u001b[0;34m.\u001b[0m\u001b[0msplit\u001b[0m\u001b[0;34m(\u001b[0m\u001b[0;34m''\u001b[0m\u001b[0;34m)\u001b[0m\u001b[0;34m\u001b[0m\u001b[0;34m\u001b[0m\u001b[0m\n\u001b[0m\u001b[1;32m      3\u001b[0m \u001b[0mprint\u001b[0m\u001b[0;34m(\u001b[0m\u001b[0ml\u001b[0m\u001b[0;34m)\u001b[0m\u001b[0;34m\u001b[0m\u001b[0;34m\u001b[0m\u001b[0m\n",
      "\u001b[0;31mValueError\u001b[0m: empty separator"
     ]
    }
   ],
   "source": [
    "s = 'This_is_a_underscore_seperated_string'\n",
    "l = s.split('')\n",
    "print(l)"
   ]
  },
  {
   "cell_type": "code",
   "execution_count": null,
   "id": "e95743f7",
   "metadata": {},
   "outputs": [],
   "source": []
  },
  {
   "cell_type": "code",
   "execution_count": null,
   "id": "bed54abd",
   "metadata": {},
   "outputs": [],
   "source": [
    "# join()\n",
    "# joins a list of strings"
   ]
  },
  {
   "cell_type": "code",
   "execution_count": 67,
   "id": "306d4e9f",
   "metadata": {},
   "outputs": [],
   "source": [
    "a = ['hi', 'how', 'are', 'you'] # list of strings"
   ]
  },
  {
   "cell_type": "code",
   "execution_count": 70,
   "id": "3d39912b",
   "metadata": {},
   "outputs": [
    {
     "name": "stdout",
     "output_type": "stream",
     "text": [
      "hi.how.are.you\n"
     ]
    }
   ],
   "source": [
    "s = '.'.join(a) \n",
    "# Join the strings in list a, seperated by \".\"\n",
    "print(s)"
   ]
  },
  {
   "cell_type": "code",
   "execution_count": null,
   "id": "d92d638d",
   "metadata": {},
   "outputs": [],
   "source": []
  },
  {
   "cell_type": "code",
   "execution_count": 71,
   "id": "4681e7f3",
   "metadata": {},
   "outputs": [
    {
     "name": "stdout",
     "output_type": "stream",
     "text": [
      "hihowareyou\n"
     ]
    }
   ],
   "source": [
    "s = ''.join(a) \n",
    "# Join the strings in list a, seperated by \"\"\n",
    "print(s)"
   ]
  },
  {
   "cell_type": "code",
   "execution_count": null,
   "id": "ab154c27",
   "metadata": {},
   "outputs": [],
   "source": []
  },
  {
   "cell_type": "code",
   "execution_count": null,
   "id": "c6eed89d",
   "metadata": {},
   "outputs": [],
   "source": []
  },
  {
   "cell_type": "code",
   "execution_count": 73,
   "id": "c9386130",
   "metadata": {},
   "outputs": [],
   "source": [
    "# find()\n",
    "# The find() can be used to find a substring\n",
    "# starting index of the first occurence"
   ]
  },
  {
   "cell_type": "code",
   "execution_count": 74,
   "id": "fcd25bb9",
   "metadata": {},
   "outputs": [
    {
     "name": "stdout",
     "output_type": "stream",
     "text": [
      "7\n"
     ]
    }
   ],
   "source": [
    "s = 'Python is amazing'\n",
    "idx = s.find('is')\n",
    "print(idx)"
   ]
  },
  {
   "cell_type": "code",
   "execution_count": 75,
   "id": "6470b19b",
   "metadata": {},
   "outputs": [
    {
     "name": "stdout",
     "output_type": "stream",
     "text": [
      "-1\n"
     ]
    }
   ],
   "source": [
    "s = 'Python is amazing'\n",
    "idx2 = s.find('Java')\n",
    "print(idx2) # -1 if substring is not present"
   ]
  },
  {
   "cell_type": "code",
   "execution_count": null,
   "id": "3660d73b",
   "metadata": {},
   "outputs": [],
   "source": []
  },
  {
   "cell_type": "code",
   "execution_count": null,
   "id": "79f10242",
   "metadata": {},
   "outputs": [],
   "source": []
  },
  {
   "cell_type": "code",
   "execution_count": 78,
   "id": "ef9df53b",
   "metadata": {},
   "outputs": [],
   "source": [
    "s = 'Python is amazing'"
   ]
  },
  {
   "cell_type": "code",
   "execution_count": 79,
   "id": "3d3a65a3",
   "metadata": {},
   "outputs": [
    {
     "name": "stdout",
     "output_type": "stream",
     "text": [
      "True\n"
     ]
    }
   ],
   "source": [
    "# membership operator\n",
    "print('is' in s)"
   ]
  },
  {
   "cell_type": "code",
   "execution_count": 80,
   "id": "038c6594",
   "metadata": {},
   "outputs": [
    {
     "name": "stdout",
     "output_type": "stream",
     "text": [
      "False\n"
     ]
    }
   ],
   "source": [
    "print('Java' in s)"
   ]
  },
  {
   "cell_type": "code",
   "execution_count": null,
   "id": "7eb79a65",
   "metadata": {},
   "outputs": [],
   "source": []
  },
  {
   "cell_type": "code",
   "execution_count": null,
   "id": "5c6fda7b",
   "metadata": {},
   "outputs": [],
   "source": []
  },
  {
   "cell_type": "code",
   "execution_count": 81,
   "id": "1e67655a",
   "metadata": {},
   "outputs": [],
   "source": [
    "# replace()"
   ]
  },
  {
   "cell_type": "code",
   "execution_count": 84,
   "id": "c1ce2374",
   "metadata": {},
   "outputs": [
    {
     "name": "stdout",
     "output_type": "stream",
     "text": [
      "Python is awesome. Java is also awesome.\n",
      "Python is amazing. Java is also amazing.\n"
     ]
    }
   ],
   "source": [
    "s = 'Python is awesome. Java is also awesome.'\n",
    "t = s.replace('awesome', 'amazing')\n",
    "\n",
    "print(s) # Does not change the original string\n",
    "print(t)"
   ]
  },
  {
   "cell_type": "code",
   "execution_count": null,
   "id": "c4991f76",
   "metadata": {},
   "outputs": [],
   "source": [
    "# Homework: You can pass a third argument to replace() as well. Explore it."
   ]
  },
  {
   "cell_type": "code",
   "execution_count": null,
   "id": "c547c843",
   "metadata": {},
   "outputs": [],
   "source": []
  },
  {
   "cell_type": "code",
   "execution_count": null,
   "id": "d583e064",
   "metadata": {},
   "outputs": [],
   "source": []
  },
  {
   "cell_type": "code",
   "execution_count": 85,
   "id": "ccc7dd21",
   "metadata": {},
   "outputs": [],
   "source": [
    "# count()"
   ]
  },
  {
   "cell_type": "code",
   "execution_count": 89,
   "id": "b33a24c7",
   "metadata": {},
   "outputs": [
    {
     "name": "stdout",
     "output_type": "stream",
     "text": [
      "2\n",
      "0\n",
      "1\n",
      "5\n"
     ]
    }
   ],
   "source": [
    "s = 'Python is awesome. Java is also awesome.'\n",
    "\n",
    "print(s.count('awesome'))\n",
    "print(s.count('C++'))\n",
    "print(s.count('Java'))\n",
    "print(s.count('a'))"
   ]
  },
  {
   "cell_type": "code",
   "execution_count": null,
   "id": "a96970bc",
   "metadata": {},
   "outputs": [],
   "source": []
  },
  {
   "cell_type": "code",
   "execution_count": null,
   "id": "eb6ca622",
   "metadata": {},
   "outputs": [],
   "source": []
  },
  {
   "cell_type": "code",
   "execution_count": null,
   "id": "adc0fff0",
   "metadata": {},
   "outputs": [],
   "source": [
    "# isdigit()"
   ]
  },
  {
   "cell_type": "code",
   "execution_count": 90,
   "id": "67ce58e9",
   "metadata": {},
   "outputs": [
    {
     "name": "stdout",
     "output_type": "stream",
     "text": [
      "True\n"
     ]
    }
   ],
   "source": [
    "s = '46456'\n",
    "print(s.isdigit())"
   ]
  },
  {
   "cell_type": "code",
   "execution_count": 91,
   "id": "f1b5594d",
   "metadata": {},
   "outputs": [
    {
     "name": "stdout",
     "output_type": "stream",
     "text": [
      "False\n"
     ]
    }
   ],
   "source": [
    "s = '46456abc'\n",
    "print(s.isdigit())"
   ]
  },
  {
   "cell_type": "code",
   "execution_count": 92,
   "id": "966065b7",
   "metadata": {},
   "outputs": [
    {
     "name": "stdout",
     "output_type": "stream",
     "text": [
      "False\n"
     ]
    }
   ],
   "source": [
    "s = '46456,'\n",
    "print(s.isdigit())"
   ]
  },
  {
   "cell_type": "code",
   "execution_count": null,
   "id": "8a975ad6",
   "metadata": {},
   "outputs": [],
   "source": []
  },
  {
   "cell_type": "code",
   "execution_count": null,
   "id": "496fcba0",
   "metadata": {},
   "outputs": [],
   "source": []
  },
  {
   "cell_type": "code",
   "execution_count": null,
   "id": "9204c9b5",
   "metadata": {},
   "outputs": [],
   "source": [
    "# isalpha()"
   ]
  },
  {
   "cell_type": "code",
   "execution_count": 93,
   "id": "f158958b",
   "metadata": {},
   "outputs": [
    {
     "name": "stdout",
     "output_type": "stream",
     "text": [
      "True\n"
     ]
    }
   ],
   "source": [
    "s = 'abc'\n",
    "print(s.isalpha())"
   ]
  },
  {
   "cell_type": "code",
   "execution_count": 94,
   "id": "f4a2554e",
   "metadata": {},
   "outputs": [
    {
     "name": "stdout",
     "output_type": "stream",
     "text": [
      "False\n"
     ]
    }
   ],
   "source": [
    "s = 'abc 123'\n",
    "print(s.isalpha())"
   ]
  },
  {
   "cell_type": "code",
   "execution_count": null,
   "id": "1c1aefdf",
   "metadata": {},
   "outputs": [],
   "source": []
  },
  {
   "cell_type": "code",
   "execution_count": null,
   "id": "a3ce6fb3",
   "metadata": {},
   "outputs": [],
   "source": []
  },
  {
   "cell_type": "markdown",
   "id": "a684ecaf",
   "metadata": {},
   "source": [
    "#### Quiz \n",
    "What will be the output of the following code?\n",
    "```py\n",
    "message = \"Hello World!\"\n",
    "print(message.replace(\"o\", \"e\"))\n",
    "```"
   ]
  },
  {
   "cell_type": "code",
   "execution_count": 95,
   "id": "f6a6ee28",
   "metadata": {},
   "outputs": [
    {
     "name": "stdout",
     "output_type": "stream",
     "text": [
      "Helle Werld!\n"
     ]
    }
   ],
   "source": [
    "message = \"Hello World!\"\n",
    "print(message.replace(\"o\", \"e\"))"
   ]
  },
  {
   "cell_type": "code",
   "execution_count": null,
   "id": "b9ffb68c",
   "metadata": {},
   "outputs": [],
   "source": []
  },
  {
   "cell_type": "code",
   "execution_count": null,
   "id": "5fc14e14",
   "metadata": {},
   "outputs": [],
   "source": []
  },
  {
   "cell_type": "markdown",
   "id": "4e821b7b",
   "metadata": {},
   "source": [
    "#### Quiz\n",
    "What will be the output of the following code?\n",
    "```py\n",
    "message = \"Hello World!\"\n",
    "print(message.find(\"o\"))\n",
    "```"
   ]
  },
  {
   "cell_type": "code",
   "execution_count": 96,
   "id": "48242093",
   "metadata": {},
   "outputs": [
    {
     "name": "stdout",
     "output_type": "stream",
     "text": [
      "4\n"
     ]
    }
   ],
   "source": [
    "message = \"Hello World!\"\n",
    "print(message.find(\"o\"))"
   ]
  },
  {
   "cell_type": "code",
   "execution_count": null,
   "id": "e09eeb35",
   "metadata": {},
   "outputs": [],
   "source": []
  },
  {
   "cell_type": "code",
   "execution_count": null,
   "id": "264120f0",
   "metadata": {},
   "outputs": [],
   "source": []
  },
  {
   "cell_type": "code",
   "execution_count": null,
   "id": "f4587bc5",
   "metadata": {},
   "outputs": [],
   "source": []
  },
  {
   "cell_type": "code",
   "execution_count": null,
   "id": "4e2cd96c",
   "metadata": {},
   "outputs": [],
   "source": []
  },
  {
   "cell_type": "markdown",
   "id": "c0dd03b6",
   "metadata": {},
   "source": [
    "### Mutability and Immutability"
   ]
  },
  {
   "cell_type": "code",
   "execution_count": null,
   "id": "32c45e7b",
   "metadata": {},
   "outputs": [],
   "source": [
    "# Mutable: Whose value can be changed\n",
    "# Immutable: Whose value cannot be changed"
   ]
  },
  {
   "cell_type": "code",
   "execution_count": null,
   "id": "5e147652",
   "metadata": {},
   "outputs": [],
   "source": []
  },
  {
   "cell_type": "code",
   "execution_count": 97,
   "id": "bc1f133b",
   "metadata": {},
   "outputs": [
    {
     "name": "stdout",
     "output_type": "stream",
     "text": [
      "[1, 2, 3, 4]\n"
     ]
    }
   ],
   "source": [
    "a = [1,2,3]\n",
    "a.append(4)\n",
    "print(a)\n",
    "# Lists are mutable"
   ]
  },
  {
   "cell_type": "code",
   "execution_count": null,
   "id": "3ebb6ffe",
   "metadata": {},
   "outputs": [],
   "source": []
  },
  {
   "cell_type": "code",
   "execution_count": 99,
   "id": "df521cf4",
   "metadata": {},
   "outputs": [
    {
     "name": "stdout",
     "output_type": "stream",
     "text": [
      "4351777776\n",
      "4375131184\n",
      "helloworld\n"
     ]
    }
   ],
   "source": [
    "a = \"hello\"\n",
    "\n",
    "print(id(a)) # id = address of the memory where a is being stored\n",
    "\n",
    "a = a + 'world'\n",
    "\n",
    "print(id(a))\n",
    "\n",
    "print(a)"
   ]
  },
  {
   "cell_type": "code",
   "execution_count": null,
   "id": "9aff7c9a",
   "metadata": {},
   "outputs": [],
   "source": []
  },
  {
   "cell_type": "code",
   "execution_count": null,
   "id": "d791e3a6",
   "metadata": {},
   "outputs": [],
   "source": []
  },
  {
   "cell_type": "code",
   "execution_count": null,
   "id": "00a906f6",
   "metadata": {},
   "outputs": [],
   "source": []
  },
  {
   "cell_type": "code",
   "execution_count": 100,
   "id": "972ceb5a",
   "metadata": {},
   "outputs": [
    {
     "name": "stdout",
     "output_type": "stream",
     "text": [
      "4305443696\n"
     ]
    }
   ],
   "source": [
    "s = 'hi'\n",
    "print(id(s))"
   ]
  },
  {
   "cell_type": "code",
   "execution_count": 101,
   "id": "55ba0090",
   "metadata": {},
   "outputs": [
    {
     "name": "stdout",
     "output_type": "stream",
     "text": [
      "4378581616\n",
      "hihello\n"
     ]
    }
   ],
   "source": [
    "s += 'hello'\n",
    "\n",
    "# a new string object was created and assigned to the variable s\n",
    "print(id(s))\n",
    "\n",
    "print(s)"
   ]
  },
  {
   "cell_type": "code",
   "execution_count": null,
   "id": "181ccfff",
   "metadata": {},
   "outputs": [],
   "source": []
  },
  {
   "cell_type": "code",
   "execution_count": null,
   "id": "0f8782bf",
   "metadata": {},
   "outputs": [],
   "source": []
  },
  {
   "cell_type": "code",
   "execution_count": 102,
   "id": "45e8ab34",
   "metadata": {},
   "outputs": [
    {
     "name": "stdout",
     "output_type": "stream",
     "text": [
      "4379928768\n"
     ]
    }
   ],
   "source": [
    "a = [1,2,3]\n",
    "print(id(a))"
   ]
  },
  {
   "cell_type": "code",
   "execution_count": 103,
   "id": "2a15e957",
   "metadata": {},
   "outputs": [
    {
     "name": "stdout",
     "output_type": "stream",
     "text": [
      "[1, 2, 3, 4]\n",
      "4379928768\n"
     ]
    }
   ],
   "source": [
    "a.append(4)\n",
    "print(a)\n",
    "print(id(a))\n",
    "# Lists are mutable"
   ]
  },
  {
   "cell_type": "code",
   "execution_count": null,
   "id": "518128ac",
   "metadata": {},
   "outputs": [],
   "source": []
  },
  {
   "cell_type": "code",
   "execution_count": null,
   "id": "f21d9a8f",
   "metadata": {},
   "outputs": [],
   "source": []
  },
  {
   "cell_type": "code",
   "execution_count": null,
   "id": "fdfda9b1",
   "metadata": {},
   "outputs": [],
   "source": []
  },
  {
   "cell_type": "code",
   "execution_count": 105,
   "id": "666f3903",
   "metadata": {},
   "outputs": [
    {
     "name": "stdout",
     "output_type": "stream",
     "text": [
      "4303038896\n",
      "4303038928\n",
      "6\n"
     ]
    }
   ],
   "source": [
    "x = 5\n",
    "\n",
    "print(id(x))\n",
    "\n",
    "x += 1\n",
    "\n",
    "print(id(x))\n",
    "print(x)"
   ]
  },
  {
   "cell_type": "code",
   "execution_count": null,
   "id": "b714f6de",
   "metadata": {},
   "outputs": [],
   "source": []
  },
  {
   "cell_type": "code",
   "execution_count": null,
   "id": "c4c28ff3",
   "metadata": {},
   "outputs": [],
   "source": []
  },
  {
   "cell_type": "code",
   "execution_count": null,
   "id": "85adc119",
   "metadata": {},
   "outputs": [],
   "source": []
  },
  {
   "cell_type": "code",
   "execution_count": null,
   "id": "d89902af",
   "metadata": {},
   "outputs": [],
   "source": []
  },
  {
   "cell_type": "markdown",
   "id": "ddc18cb1",
   "metadata": {},
   "source": [
    "# Bonus Reading Material\n",
    "- Strings in Python - https://www.scaler.com/topics/python/strings-in-python/\n",
    "- What is String in Python? - https://www.scaler.com/topics/what-is-string-in-python/\n",
    "- Python Multiline String - https://www.scaler.com/topics/python-multiline-string/\n",
    "- str() in Python - https://www.scaler.com/topics/str-in-python/\n",
    "- String Concatenation in Python - https://www.scaler.com/topics/string-concatenation-in-python/\n",
    "- String Slicing in Python - https://www.scaler.com/topics/python/string-slicing-in-python/\n",
    "- What are Mutable Data Types in Python? - https://www.scaler.com/topics/mutable-data-typesg-in-python/\n",
    "- Mutable and Immutable in Python - https://www.scaler.com/topics/mutable-and-immutable-in-python/\n",
    "- String Comparison in Python - https://www.scaler.com/topics/string-comparison-in-python/\n",
    "- chr() in Python - https://www.scaler.com/topics/chr-in-python/\n",
    "- ord in Python - https://www.scaler.com/topics/ord-in-python/\n",
    "- Difference Between UNICODE and ASCII - https://www.scaler.com/topics/cpp/difference-between-unicode-and-ascii/\n",
    "- Join in Python - https://www.scaler.com/topics/join-in-python/\n",
    "- Convert List to String in Python - https://www.scaler.com/topics/convert-list-to-string-in-python/\n",
    "- String Methods Python - https://www.scaler.com/topics/python/string-methods-python/\n",
    "- upper() in Python - https://www.scaler.com/topics/upper-in-python/\n",
    "- https://www.scaler.com/topics/title-in-python/\n",
    "- isupper() in Python - https://www.scaler.com/topics/python-string-isupper-method/\n",
    "- isalnum() in Python - https://www.scaler.com/topics/isalnum-in-python/\n",
    "- isnumeric() Python Method - https://www.scaler.com/topics/isnumeric-python/\n",
    "- String reverse in Python - https://www.scaler.com/topics/reverse-string-in-python/\n",
    "- String Formatting in Python - https://www.scaler.com/topics/python/string-formatting-in-python/\n",
    "- F String in Python - https://www.scaler.com/topics/f-string-in-python/\n",
    "- Difference between Mutable and Immutable in Python - https://www.scaler.com/topics/mutable-and-immutable-in-python/\n",
    "- What are Mutable Data Types in Python? - https://www.scaler.com/topics/mutable-data-types-in-python/"
   ]
  },
  {
   "cell_type": "code",
   "execution_count": null,
   "id": "9b2c466b",
   "metadata": {},
   "outputs": [],
   "source": []
  },
  {
   "cell_type": "code",
   "execution_count": null,
   "id": "f2eff060",
   "metadata": {},
   "outputs": [],
   "source": []
  },
  {
   "cell_type": "code",
   "execution_count": null,
   "id": "ee494f1e",
   "metadata": {},
   "outputs": [],
   "source": []
  },
  {
   "cell_type": "code",
   "execution_count": null,
   "id": "46da9a4f",
   "metadata": {},
   "outputs": [],
   "source": []
  },
  {
   "cell_type": "code",
   "execution_count": null,
   "id": "b03ad86b",
   "metadata": {},
   "outputs": [],
   "source": []
  },
  {
   "cell_type": "code",
   "execution_count": 107,
   "id": "dba26a41",
   "metadata": {},
   "outputs": [
    {
     "name": "stdout",
     "output_type": "stream",
     "text": [
      "[[1, 6], [2, 7], [3, 8]]\n"
     ]
    }
   ],
   "source": [
    "A=[\n",
    "    [1,2,3],\n",
    "    [6,7,8]\n",
    "]\n",
    "n=len(A)\n",
    "m=len(A[0])\n",
    "\n",
    "B=[]\n",
    "for i in range(m):\n",
    "    D=[]\n",
    "    for j in range(n):\n",
    "        D.append(0)\n",
    "    B.append(D)\n",
    "    \n",
    "for i in range(n):\n",
    "    for j in range(m):\n",
    "        B[j][i]=A[i][j]\n",
    "\n",
    "print(B)\n",
    "\n"
   ]
  },
  {
   "cell_type": "code",
   "execution_count": 108,
   "id": "f6b72669",
   "metadata": {},
   "outputs": [
    {
     "name": "stdout",
     "output_type": "stream",
     "text": [
      "[[0, 0], [0, 0], [0, 0]]\n",
      "[[3, 8], [3, 8], [3, 8]]\n"
     ]
    }
   ],
   "source": [
    "A=[\n",
    "    [1,2,3],\n",
    "    [6,7,8]\n",
    "]\n",
    "n=len(A)\n",
    "m=len(A[0])\n",
    "B=[[0]*n]*m\n",
    "\n",
    "print(B)\n",
    "for i in range(n):\n",
    "    for j in range(m):\n",
    "        B[j][i]=A[i][j]\n",
    "print(B)"
   ]
  },
  {
   "cell_type": "code",
   "execution_count": null,
   "id": "c3e1d43a",
   "metadata": {},
   "outputs": [],
   "source": []
  },
  {
   "cell_type": "code",
   "execution_count": null,
   "id": "d66a2eec",
   "metadata": {},
   "outputs": [],
   "source": []
  },
  {
   "cell_type": "code",
   "execution_count": null,
   "id": "c9d13d53",
   "metadata": {},
   "outputs": [],
   "source": []
  },
  {
   "cell_type": "code",
   "execution_count": null,
   "id": "7984fed3",
   "metadata": {},
   "outputs": [],
   "source": []
  },
  {
   "cell_type": "code",
   "execution_count": 109,
   "id": "754361e6",
   "metadata": {},
   "outputs": [
    {
     "name": "stdout",
     "output_type": "stream",
     "text": [
      "[1, 2, 3, 4]\n"
     ]
    }
   ],
   "source": [
    "l = [1,2,3,4]\n",
    "\n",
    "print(l)"
   ]
  },
  {
   "cell_type": "code",
   "execution_count": 110,
   "id": "e7b65c2d",
   "metadata": {},
   "outputs": [
    {
     "name": "stdout",
     "output_type": "stream",
     "text": [
      "1 2 3 4 "
     ]
    }
   ],
   "source": [
    "for x in l:\n",
    "    print(x, end=' ')"
   ]
  },
  {
   "cell_type": "code",
   "execution_count": 111,
   "id": "35a134ce",
   "metadata": {},
   "outputs": [
    {
     "name": "stdout",
     "output_type": "stream",
     "text": [
      "1 2 3 4\n"
     ]
    }
   ],
   "source": [
    "print(*l)"
   ]
  },
  {
   "cell_type": "code",
   "execution_count": null,
   "id": "fcc45b73",
   "metadata": {},
   "outputs": [],
   "source": []
  },
  {
   "cell_type": "code",
   "execution_count": null,
   "id": "3abb76a5",
   "metadata": {},
   "outputs": [],
   "source": []
  },
  {
   "cell_type": "code",
   "execution_count": null,
   "id": "40d751c0",
   "metadata": {},
   "outputs": [],
   "source": []
  },
  {
   "cell_type": "code",
   "execution_count": null,
   "id": "41bb829b",
   "metadata": {},
   "outputs": [],
   "source": []
  },
  {
   "cell_type": "code",
   "execution_count": 112,
   "id": "75a9184b",
   "metadata": {},
   "outputs": [
    {
     "name": "stdout",
     "output_type": "stream",
     "text": [
      "how,are,you\n"
     ]
    }
   ],
   "source": [
    "a = ['how', 'are', 'you'] # list of strings\n",
    "\n",
    "print(\",\".join(a))"
   ]
  },
  {
   "cell_type": "code",
   "execution_count": 113,
   "id": "73145a62",
   "metadata": {},
   "outputs": [
    {
     "name": "stdout",
     "output_type": "stream",
     "text": [
      "how+are+you\n"
     ]
    }
   ],
   "source": [
    "print(\"+\".join(a))"
   ]
  },
  {
   "cell_type": "code",
   "execution_count": 114,
   "id": "40c64d71",
   "metadata": {},
   "outputs": [
    {
     "name": "stdout",
     "output_type": "stream",
     "text": [
      "how are you\n"
     ]
    }
   ],
   "source": [
    "print(' '.join(a))"
   ]
  },
  {
   "cell_type": "code",
   "execution_count": null,
   "id": "df481873",
   "metadata": {},
   "outputs": [],
   "source": []
  },
  {
   "cell_type": "code",
   "execution_count": null,
   "id": "839c04de",
   "metadata": {},
   "outputs": [],
   "source": []
  },
  {
   "cell_type": "code",
   "execution_count": 116,
   "id": "74e8a665",
   "metadata": {},
   "outputs": [
    {
     "name": "stdout",
     "output_type": "stream",
     "text": [
      "h,e,l,l,o\n"
     ]
    }
   ],
   "source": [
    "print(','.join('hello'))"
   ]
  },
  {
   "cell_type": "code",
   "execution_count": 117,
   "id": "f2839cc0",
   "metadata": {},
   "outputs": [
    {
     "name": "stdout",
     "output_type": "stream",
     "text": [
      "h_e_l_l_o\n"
     ]
    }
   ],
   "source": [
    "print('_'.join('hello'))"
   ]
  },
  {
   "cell_type": "code",
   "execution_count": 118,
   "id": "04c5cd13",
   "metadata": {},
   "outputs": [
    {
     "name": "stdout",
     "output_type": "stream",
     "text": [
      "h+e+l+l+o\n"
     ]
    }
   ],
   "source": [
    "print('+'.join('hello'))"
   ]
  },
  {
   "cell_type": "code",
   "execution_count": null,
   "id": "82dc816e",
   "metadata": {},
   "outputs": [],
   "source": []
  }
 ],
 "metadata": {
  "kernelspec": {
   "display_name": "Python 3 (ipykernel)",
   "language": "python",
   "name": "python3"
  },
  "language_info": {
   "codemirror_mode": {
    "name": "ipython",
    "version": 3
   },
   "file_extension": ".py",
   "mimetype": "text/x-python",
   "name": "python",
   "nbconvert_exporter": "python",
   "pygments_lexer": "ipython3",
   "version": "3.9.18"
  }
 },
 "nbformat": 4,
 "nbformat_minor": 5
}
