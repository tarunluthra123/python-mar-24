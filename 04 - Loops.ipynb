{
 "cells": [
  {
   "cell_type": "markdown",
   "id": "2c5e0804",
   "metadata": {},
   "source": [
    "# Print - end"
   ]
  },
  {
   "cell_type": "markdown",
   "id": "645ad6d5",
   "metadata": {},
   "source": [
    "![](https://scaler.com/topics/images/print-in-python.webp)"
   ]
  },
  {
   "cell_type": "code",
   "execution_count": 1,
   "id": "70d4b9f5",
   "metadata": {},
   "outputs": [
    {
     "name": "stdout",
     "output_type": "stream",
     "text": [
      "Hello world\n",
      "Hi how are you\n",
      "Python is awesome\n"
     ]
    }
   ],
   "source": [
    "print(\"Hello world\")\n",
    "print(\"Hi how are you\")\n",
    "print(\"Python is awesome\")"
   ]
  },
  {
   "cell_type": "code",
   "execution_count": 5,
   "id": "889acadd",
   "metadata": {},
   "outputs": [
    {
     "name": "stdout",
     "output_type": "stream",
     "text": [
      "Hello world+_+123789,./Hi how are you\n",
      "Python is awesome\n"
     ]
    }
   ],
   "source": [
    "print(\"Hello world\", end='+_+123789,./')\n",
    "print(\"Hi how are you\") # end = '\\n' (newline char)\n",
    "print(\"Python is awesome\")"
   ]
  },
  {
   "cell_type": "code",
   "execution_count": null,
   "id": "73037965",
   "metadata": {},
   "outputs": [],
   "source": [
    "# By default, end='\\n' (newline character)"
   ]
  },
  {
   "cell_type": "code",
   "execution_count": 2,
   "id": "c150e319",
   "metadata": {},
   "outputs": [
    {
     "name": "stdout",
     "output_type": "stream",
     "text": [
      "a \n",
      " b \n",
      " c\n"
     ]
    }
   ],
   "source": [
    "print(\"a \\n b \\n c\")"
   ]
  },
  {
   "cell_type": "code",
   "execution_count": null,
   "id": "70c853b5",
   "metadata": {},
   "outputs": [],
   "source": []
  },
  {
   "cell_type": "code",
   "execution_count": null,
   "id": "c7c172d7",
   "metadata": {},
   "outputs": [],
   "source": []
  },
  {
   "cell_type": "markdown",
   "id": "b2ff2e13",
   "metadata": {},
   "source": [
    "#### Quiz 1\n",
    "```py\n",
    "print(\"a\",end=\"b\")\n",
    "print(\"b\", end=\"c\")\n",
    "```"
   ]
  },
  {
   "cell_type": "code",
   "execution_count": 6,
   "id": "b7b82bfd",
   "metadata": {},
   "outputs": [
    {
     "name": "stdout",
     "output_type": "stream",
     "text": [
      "abbc"
     ]
    }
   ],
   "source": [
    "print(\"a\",end=\"b\")\n",
    "print(\"b\", end=\"c\")"
   ]
  },
  {
   "cell_type": "code",
   "execution_count": null,
   "id": "3fc486aa",
   "metadata": {},
   "outputs": [],
   "source": []
  },
  {
   "cell_type": "code",
   "execution_count": null,
   "id": "3f5616b5",
   "metadata": {},
   "outputs": [],
   "source": []
  },
  {
   "cell_type": "code",
   "execution_count": null,
   "id": "1a041fac",
   "metadata": {},
   "outputs": [],
   "source": []
  },
  {
   "cell_type": "code",
   "execution_count": null,
   "id": "41cafcbb",
   "metadata": {},
   "outputs": [],
   "source": []
  },
  {
   "cell_type": "code",
   "execution_count": null,
   "id": "87164508",
   "metadata": {},
   "outputs": [],
   "source": []
  },
  {
   "cell_type": "code",
   "execution_count": null,
   "id": "b932c62f",
   "metadata": {},
   "outputs": [],
   "source": []
  },
  {
   "cell_type": "markdown",
   "id": "72863677",
   "metadata": {},
   "source": [
    "# While Loops\n",
    "![](https://scaler.com/topics/images/while-loop-in-python.webp)"
   ]
  },
  {
   "cell_type": "code",
   "execution_count": null,
   "id": "f40b214c",
   "metadata": {},
   "outputs": [],
   "source": []
  },
  {
   "cell_type": "code",
   "execution_count": null,
   "id": "7062c19b",
   "metadata": {},
   "outputs": [],
   "source": []
  },
  {
   "cell_type": "code",
   "execution_count": null,
   "id": "46e4f2e3",
   "metadata": {},
   "outputs": [],
   "source": []
  },
  {
   "cell_type": "markdown",
   "id": "2951dbac",
   "metadata": {},
   "source": [
    "### Print 1 to 10"
   ]
  },
  {
   "cell_type": "code",
   "execution_count": 8,
   "id": "7d02f721",
   "metadata": {},
   "outputs": [
    {
     "name": "stdout",
     "output_type": "stream",
     "text": [
      "1\n",
      "2\n",
      "3\n",
      "4\n",
      "5\n",
      "6\n",
      "7\n",
      "8\n",
      "9\n",
      "10\n"
     ]
    }
   ],
   "source": [
    "# Initialisation\n",
    "i = 1\n",
    "\n",
    "# condition\n",
    "while i <= 10:\n",
    "    print(i)\n",
    "    \n",
    "    i += 1 # Update"
   ]
  },
  {
   "cell_type": "code",
   "execution_count": null,
   "id": "7a3ad2cc",
   "metadata": {},
   "outputs": [],
   "source": [
    "# Condition that satisfied for all numbers from 1 till 10\n",
    "# i <= 10 \n",
    "# i < 11"
   ]
  },
  {
   "cell_type": "code",
   "execution_count": null,
   "id": "1d899eec",
   "metadata": {},
   "outputs": [],
   "source": [
    "# 1 2 3 4 5 ... 10\n",
    "# Gap ? = 1"
   ]
  },
  {
   "cell_type": "code",
   "execution_count": null,
   "id": "2c68a766",
   "metadata": {},
   "outputs": [],
   "source": []
  },
  {
   "cell_type": "code",
   "execution_count": 9,
   "id": "5a7f0873",
   "metadata": {},
   "outputs": [],
   "source": [
    "# Initialisation\n",
    "i = 1\n",
    "\n",
    "# condition\n",
    "while i > 11:\n",
    "    print(i)\n",
    "    \n",
    "    i += 1 # Update"
   ]
  },
  {
   "cell_type": "code",
   "execution_count": null,
   "id": "bd20e9ec",
   "metadata": {},
   "outputs": [],
   "source": [
    "# Loop did not even execute once"
   ]
  },
  {
   "cell_type": "code",
   "execution_count": null,
   "id": "f3a02045",
   "metadata": {},
   "outputs": [],
   "source": []
  },
  {
   "cell_type": "code",
   "execution_count": null,
   "id": "7baeda8f",
   "metadata": {},
   "outputs": [],
   "source": []
  },
  {
   "cell_type": "code",
   "execution_count": 10,
   "id": "fcd57891",
   "metadata": {},
   "outputs": [
    {
     "name": "stdout",
     "output_type": "stream",
     "text": [
      "1\n",
      "2\n",
      "3\n"
     ]
    }
   ],
   "source": [
    "# Initialisation\n",
    "i = 1\n",
    "\n",
    "# condition\n",
    "while i <= 3:\n",
    "    print(i)\n",
    "    \n",
    "    i += 1 # Update"
   ]
  },
  {
   "cell_type": "code",
   "execution_count": null,
   "id": "acdf185d",
   "metadata": {},
   "outputs": [],
   "source": []
  },
  {
   "cell_type": "code",
   "execution_count": null,
   "id": "cc6d0c95",
   "metadata": {},
   "outputs": [],
   "source": []
  },
  {
   "cell_type": "code",
   "execution_count": null,
   "id": "324417f9",
   "metadata": {},
   "outputs": [],
   "source": []
  },
  {
   "cell_type": "code",
   "execution_count": null,
   "id": "a00c4757",
   "metadata": {},
   "outputs": [],
   "source": []
  },
  {
   "cell_type": "markdown",
   "id": "54ba2a0a",
   "metadata": {},
   "source": [
    "### Print 1 to N"
   ]
  },
  {
   "cell_type": "code",
   "execution_count": 13,
   "id": "d92dbf51",
   "metadata": {},
   "outputs": [
    {
     "name": "stdout",
     "output_type": "stream",
     "text": [
      "20\n",
      "1 2 3 4 5 6 7 8 9 10 11 12 13 14 15 16 17 18 19 20 "
     ]
    }
   ],
   "source": [
    "# N = user input\n",
    "N = int(input())\n",
    "\n",
    "# Initialisation\n",
    "i = 1\n",
    "\n",
    "# condition\n",
    "while i <= N:\n",
    "    print(i, end=' ')\n",
    "    \n",
    "    i += 1 # Update"
   ]
  },
  {
   "cell_type": "code",
   "execution_count": null,
   "id": "eccf6123",
   "metadata": {},
   "outputs": [],
   "source": []
  },
  {
   "cell_type": "code",
   "execution_count": null,
   "id": "b551bf3b",
   "metadata": {},
   "outputs": [],
   "source": []
  },
  {
   "cell_type": "markdown",
   "id": "36edbeea",
   "metadata": {},
   "source": [
    "### Print Odd Numbers from 1 to 20"
   ]
  },
  {
   "cell_type": "code",
   "execution_count": 15,
   "id": "a876e84d",
   "metadata": {},
   "outputs": [
    {
     "name": "stdout",
     "output_type": "stream",
     "text": [
      "1 3 5 7 9 11 13 15 17 19 "
     ]
    }
   ],
   "source": [
    "# Initialisation\n",
    "i = 1\n",
    "\n",
    "# condition\n",
    "while i <= 20:\n",
    "    print(i, end=' ')\n",
    "    \n",
    "    i += 2 # Update"
   ]
  },
  {
   "cell_type": "code",
   "execution_count": null,
   "id": "62d4c934",
   "metadata": {},
   "outputs": [],
   "source": []
  },
  {
   "cell_type": "markdown",
   "id": "7e5c1bfc",
   "metadata": {},
   "source": [
    "### Print Odd Numbers from 1 to N"
   ]
  },
  {
   "cell_type": "code",
   "execution_count": 16,
   "id": "149c4e33",
   "metadata": {},
   "outputs": [
    {
     "name": "stdout",
     "output_type": "stream",
     "text": [
      "30\n",
      "1 3 5 7 9 11 13 15 17 19 21 23 25 27 29 "
     ]
    }
   ],
   "source": [
    "# N = user input\n",
    "N = int(input())\n",
    "\n",
    "# Initialisation\n",
    "i = 1\n",
    "\n",
    "# condition\n",
    "while i <= N:\n",
    "    print(i, end=' ')\n",
    "    \n",
    "    i += 2 # Update"
   ]
  },
  {
   "cell_type": "code",
   "execution_count": null,
   "id": "d7a5d430",
   "metadata": {},
   "outputs": [],
   "source": []
  },
  {
   "cell_type": "code",
   "execution_count": null,
   "id": "3cd2b1c8",
   "metadata": {},
   "outputs": [],
   "source": []
  },
  {
   "cell_type": "code",
   "execution_count": null,
   "id": "6ee4d4c1",
   "metadata": {},
   "outputs": [],
   "source": []
  },
  {
   "cell_type": "code",
   "execution_count": null,
   "id": "3f81f146",
   "metadata": {},
   "outputs": [],
   "source": []
  },
  {
   "cell_type": "code",
   "execution_count": null,
   "id": "1c4323a3",
   "metadata": {},
   "outputs": [],
   "source": []
  },
  {
   "cell_type": "markdown",
   "id": "be01a3f2",
   "metadata": {},
   "source": [
    "### Print all numbers from N to 1"
   ]
  },
  {
   "cell_type": "code",
   "execution_count": 17,
   "id": "2fd59582",
   "metadata": {},
   "outputs": [
    {
     "name": "stdout",
     "output_type": "stream",
     "text": [
      "8\n",
      "8 7 6 5 4 3 2 1 "
     ]
    }
   ],
   "source": [
    "# N = user input\n",
    "N = int(input())\n",
    "\n",
    "# Initialisation\n",
    "i = N\n",
    "\n",
    "# condition\n",
    "while i > 0:\n",
    "    print(i, end=' ')\n",
    "    \n",
    "    i = i - 1 # Update"
   ]
  },
  {
   "cell_type": "code",
   "execution_count": null,
   "id": "e6c4a1c2",
   "metadata": {},
   "outputs": [],
   "source": []
  },
  {
   "cell_type": "code",
   "execution_count": 2,
   "id": "72bf1a7c",
   "metadata": {},
   "outputs": [],
   "source": [
    "i = 1\n",
    "\n",
    "while i < 5:\n",
    "    print(i)\n",
    "    \n",
    "    # forgot the update"
   ]
  },
  {
   "cell_type": "code",
   "execution_count": null,
   "id": "ea56b1b7",
   "metadata": {},
   "outputs": [],
   "source": [
    "# Infinite loop"
   ]
  },
  {
   "cell_type": "code",
   "execution_count": 1,
   "id": "5ca117c1",
   "metadata": {},
   "outputs": [
    {
     "name": "stdout",
     "output_type": "stream",
     "text": [
      "5\n"
     ]
    }
   ],
   "source": [
    "print(5)"
   ]
  },
  {
   "cell_type": "code",
   "execution_count": null,
   "id": "112f4cd3",
   "metadata": {},
   "outputs": [],
   "source": [
    "# Simple way to write infinite loop\n",
    "\n",
    "while True:\n",
    "    print(\"Hello\")"
   ]
  },
  {
   "cell_type": "code",
   "execution_count": null,
   "id": "568687b5",
   "metadata": {},
   "outputs": [],
   "source": []
  },
  {
   "cell_type": "code",
   "execution_count": null,
   "id": "26998068",
   "metadata": {},
   "outputs": [],
   "source": []
  },
  {
   "cell_type": "code",
   "execution_count": null,
   "id": "5d7e6185",
   "metadata": {},
   "outputs": [],
   "source": []
  },
  {
   "cell_type": "code",
   "execution_count": null,
   "id": "4f78627a",
   "metadata": {},
   "outputs": [],
   "source": []
  },
  {
   "cell_type": "code",
   "execution_count": null,
   "id": "a4650bd9",
   "metadata": {},
   "outputs": [],
   "source": []
  },
  {
   "cell_type": "markdown",
   "id": "4789ab92",
   "metadata": {},
   "source": [
    "## Ranges\n",
    "![](https://scaler.com/topics/images/range-function-in-python.webp)"
   ]
  },
  {
   "cell_type": "code",
   "execution_count": 5,
   "id": "1daefd1f",
   "metadata": {},
   "outputs": [
    {
     "name": "stdout",
     "output_type": "stream",
     "text": [
      "range(0, 5)\n"
     ]
    }
   ],
   "source": [
    "print(range(5))"
   ]
  },
  {
   "cell_type": "code",
   "execution_count": 4,
   "id": "5e94386d",
   "metadata": {},
   "outputs": [
    {
     "name": "stdout",
     "output_type": "stream",
     "text": [
      "0 1 2 3 4\n"
     ]
    }
   ],
   "source": [
    "print(*range(5))\n",
    "# * = spread operator"
   ]
  },
  {
   "cell_type": "code",
   "execution_count": 6,
   "id": "37a1b2b2",
   "metadata": {},
   "outputs": [
    {
     "name": "stdout",
     "output_type": "stream",
     "text": [
      "0 1 2\n"
     ]
    }
   ],
   "source": [
    "print(*range(3))"
   ]
  },
  {
   "cell_type": "code",
   "execution_count": null,
   "id": "8bc754af",
   "metadata": {},
   "outputs": [],
   "source": []
  },
  {
   "cell_type": "code",
   "execution_count": 7,
   "id": "cb2369ef",
   "metadata": {},
   "outputs": [
    {
     "ename": "TypeError",
     "evalue": "'float' object cannot be interpreted as an integer",
     "output_type": "error",
     "traceback": [
      "\u001b[0;31m---------------------------------------------------------------------------\u001b[0m",
      "\u001b[0;31mTypeError\u001b[0m                                 Traceback (most recent call last)",
      "\u001b[0;32m/var/folders/jn/1bsrct314hv5xmfm7vrcdrzc0000gn/T/ipykernel_4612/1473064590.py\u001b[0m in \u001b[0;36m<module>\u001b[0;34m\u001b[0m\n\u001b[0;32m----> 1\u001b[0;31m \u001b[0mprint\u001b[0m\u001b[0;34m(\u001b[0m\u001b[0mrange\u001b[0m\u001b[0;34m(\u001b[0m\u001b[0;36m5.5\u001b[0m\u001b[0;34m)\u001b[0m\u001b[0;34m)\u001b[0m\u001b[0;34m\u001b[0m\u001b[0;34m\u001b[0m\u001b[0m\n\u001b[0m",
      "\u001b[0;31mTypeError\u001b[0m: 'float' object cannot be interpreted as an integer"
     ]
    }
   ],
   "source": [
    "print(range(5.5))"
   ]
  },
  {
   "cell_type": "code",
   "execution_count": null,
   "id": "3bcb929d",
   "metadata": {},
   "outputs": [],
   "source": []
  },
  {
   "cell_type": "code",
   "execution_count": 8,
   "id": "fbf1c99e",
   "metadata": {},
   "outputs": [
    {
     "name": "stdout",
     "output_type": "stream",
     "text": [
      "3 4 5 6 7\n"
     ]
    }
   ],
   "source": [
    "print(*range(3,8))"
   ]
  },
  {
   "cell_type": "code",
   "execution_count": 9,
   "id": "3e4e35a1",
   "metadata": {},
   "outputs": [
    {
     "name": "stdout",
     "output_type": "stream",
     "text": [
      "-5 -4 -3 -2 -1\n"
     ]
    }
   ],
   "source": [
    "print(*range(-5, 0))"
   ]
  },
  {
   "cell_type": "code",
   "execution_count": null,
   "id": "7497748a",
   "metadata": {},
   "outputs": [],
   "source": []
  },
  {
   "cell_type": "code",
   "execution_count": null,
   "id": "d874f4a2",
   "metadata": {},
   "outputs": [],
   "source": []
  },
  {
   "cell_type": "code",
   "execution_count": 10,
   "id": "e5c1a5d7",
   "metadata": {},
   "outputs": [
    {
     "name": "stdout",
     "output_type": "stream",
     "text": [
      "range(-5, 0)\n"
     ]
    }
   ],
   "source": [
    "print(range(-5, 0))"
   ]
  },
  {
   "cell_type": "code",
   "execution_count": 12,
   "id": "ebaae06e",
   "metadata": {},
   "outputs": [
    {
     "name": "stdout",
     "output_type": "stream",
     "text": [
      "-5 -4 -3 -2 -1\n"
     ]
    }
   ],
   "source": [
    "print(*range(-5, 0))\n",
    "# Spread operator"
   ]
  },
  {
   "cell_type": "code",
   "execution_count": 13,
   "id": "9abf52c8",
   "metadata": {},
   "outputs": [
    {
     "name": "stdout",
     "output_type": "stream",
     "text": [
      "[-5, -4, -3, -2, -1]\n"
     ]
    }
   ],
   "source": [
    "print(list(range(-5, 0)))\n",
    "# list function\n",
    "# List topic is covered 1 week from now"
   ]
  },
  {
   "cell_type": "code",
   "execution_count": null,
   "id": "35f1cbc5",
   "metadata": {},
   "outputs": [],
   "source": []
  },
  {
   "cell_type": "code",
   "execution_count": null,
   "id": "2375f06e",
   "metadata": {},
   "outputs": [],
   "source": []
  },
  {
   "cell_type": "markdown",
   "id": "2dba23ab",
   "metadata": {},
   "source": [
    "#### Quiz\n",
    "```py\n",
    "print(list(range(8, 8)))\n",
    "```"
   ]
  },
  {
   "cell_type": "code",
   "execution_count": 14,
   "id": "7536e5bf",
   "metadata": {},
   "outputs": [
    {
     "name": "stdout",
     "output_type": "stream",
     "text": [
      "[]\n"
     ]
    }
   ],
   "source": [
    "print(list(range(8, 8)))"
   ]
  },
  {
   "cell_type": "code",
   "execution_count": null,
   "id": "8252d799",
   "metadata": {},
   "outputs": [],
   "source": []
  },
  {
   "cell_type": "code",
   "execution_count": null,
   "id": "6679b473",
   "metadata": {},
   "outputs": [],
   "source": []
  },
  {
   "cell_type": "code",
   "execution_count": null,
   "id": "623f8aa9",
   "metadata": {},
   "outputs": [],
   "source": []
  },
  {
   "cell_type": "code",
   "execution_count": 15,
   "id": "bd8369dd",
   "metadata": {},
   "outputs": [
    {
     "name": "stdout",
     "output_type": "stream",
     "text": [
      "1 3 5 7 9\n"
     ]
    }
   ],
   "source": [
    "print(*range(1, 10, 2))"
   ]
  },
  {
   "cell_type": "code",
   "execution_count": 16,
   "id": "3e8dadf2",
   "metadata": {},
   "outputs": [
    {
     "name": "stdout",
     "output_type": "stream",
     "text": [
      "-5 -1 3 7 11\n"
     ]
    }
   ],
   "source": [
    "print(*range(-5, 15, 4))"
   ]
  },
  {
   "cell_type": "code",
   "execution_count": null,
   "id": "fa9a84ff",
   "metadata": {},
   "outputs": [],
   "source": []
  },
  {
   "cell_type": "code",
   "execution_count": null,
   "id": "b366a339",
   "metadata": {},
   "outputs": [],
   "source": []
  },
  {
   "cell_type": "markdown",
   "id": "260ecf72",
   "metadata": {},
   "source": [
    "#### Quiz\n",
    "How many numbers are included in the below range?\n",
    "\n",
    "\n",
    "`range(1, 11, 2)`"
   ]
  },
  {
   "cell_type": "code",
   "execution_count": 17,
   "id": "afadbf9a",
   "metadata": {},
   "outputs": [
    {
     "name": "stdout",
     "output_type": "stream",
     "text": [
      "1 3 5 7 9\n"
     ]
    }
   ],
   "source": [
    "print(*range(1, 11, 2))"
   ]
  },
  {
   "cell_type": "code",
   "execution_count": null,
   "id": "f2b42e7c",
   "metadata": {},
   "outputs": [],
   "source": [
    "# 5 numbers"
   ]
  },
  {
   "cell_type": "code",
   "execution_count": null,
   "id": "77dcc934",
   "metadata": {},
   "outputs": [],
   "source": []
  },
  {
   "cell_type": "code",
   "execution_count": null,
   "id": "65aba600",
   "metadata": {},
   "outputs": [],
   "source": []
  },
  {
   "cell_type": "code",
   "execution_count": 19,
   "id": "6cb2d96d",
   "metadata": {},
   "outputs": [
    {
     "name": "stdout",
     "output_type": "stream",
     "text": [
      "8 7 6 5 4 3\n"
     ]
    }
   ],
   "source": [
    "print(*range(8, 2, -1))"
   ]
  },
  {
   "cell_type": "code",
   "execution_count": 18,
   "id": "ab1c66fc",
   "metadata": {},
   "outputs": [
    {
     "name": "stdout",
     "output_type": "stream",
     "text": [
      "10 4 -2 -8 -14\n"
     ]
    }
   ],
   "source": [
    "print(*range(10, -20, -6))"
   ]
  },
  {
   "cell_type": "code",
   "execution_count": null,
   "id": "2c6c88af",
   "metadata": {},
   "outputs": [],
   "source": []
  },
  {
   "cell_type": "code",
   "execution_count": null,
   "id": "684b9602",
   "metadata": {},
   "outputs": [],
   "source": []
  },
  {
   "cell_type": "code",
   "execution_count": null,
   "id": "dcda17f2",
   "metadata": {},
   "outputs": [],
   "source": []
  },
  {
   "cell_type": "code",
   "execution_count": null,
   "id": "10e5c501",
   "metadata": {},
   "outputs": [],
   "source": []
  },
  {
   "cell_type": "markdown",
   "id": "a1ac9cd3",
   "metadata": {},
   "source": [
    "# For loops\n",
    "![](https://scaler.com/topics/images/for-loop-in-python.webp)"
   ]
  },
  {
   "cell_type": "code",
   "execution_count": null,
   "id": "0e2a8470",
   "metadata": {},
   "outputs": [],
   "source": [
    "# Iterate = Run a loop\n",
    "# Iterations = Cycles of a loop"
   ]
  },
  {
   "cell_type": "code",
   "execution_count": 20,
   "id": "ceaf1a0b",
   "metadata": {},
   "outputs": [
    {
     "name": "stdout",
     "output_type": "stream",
     "text": [
      "3 4 5 6 7\n"
     ]
    }
   ],
   "source": [
    "print(*range(3,8))"
   ]
  },
  {
   "cell_type": "code",
   "execution_count": 21,
   "id": "ac0fa1b4",
   "metadata": {},
   "outputs": [
    {
     "name": "stdout",
     "output_type": "stream",
     "text": [
      "3\n",
      "4\n",
      "5\n",
      "6\n",
      "7\n"
     ]
    }
   ],
   "source": [
    "for i in range(3, 8):\n",
    "    print(i)"
   ]
  },
  {
   "cell_type": "code",
   "execution_count": null,
   "id": "bcf1873c",
   "metadata": {},
   "outputs": [],
   "source": [
    "# i is going to over the range(3, 8) and it is going to pick up the values \n",
    "# in that range one-by-one"
   ]
  },
  {
   "cell_type": "code",
   "execution_count": 22,
   "id": "faa745e5",
   "metadata": {},
   "outputs": [
    {
     "name": "stdout",
     "output_type": "stream",
     "text": [
      "9\n",
      "16\n",
      "25\n",
      "36\n",
      "49\n"
     ]
    }
   ],
   "source": [
    "for i in range(3, 8):\n",
    "    print(i * i)"
   ]
  },
  {
   "cell_type": "code",
   "execution_count": null,
   "id": "4524171f",
   "metadata": {},
   "outputs": [],
   "source": []
  },
  {
   "cell_type": "code",
   "execution_count": null,
   "id": "02ce49f0",
   "metadata": {},
   "outputs": [],
   "source": []
  },
  {
   "cell_type": "code",
   "execution_count": 27,
   "id": "6f39fdb7",
   "metadata": {},
   "outputs": [
    {
     "name": "stdout",
     "output_type": "stream",
     "text": [
      "10\n",
      "2 4 6 8 10 "
     ]
    }
   ],
   "source": [
    "# Print all even numbers from 1 to N (using a for loop)\n",
    "\n",
    "N = int(input())\n",
    "\n",
    "for i in range(2, N+1, 2):\n",
    "    print(i, end=' ')"
   ]
  },
  {
   "cell_type": "code",
   "execution_count": null,
   "id": "dacbf606",
   "metadata": {},
   "outputs": [],
   "source": [
    "# End will be excluded"
   ]
  },
  {
   "cell_type": "code",
   "execution_count": null,
   "id": "2486abbb",
   "metadata": {},
   "outputs": [],
   "source": []
  },
  {
   "cell_type": "code",
   "execution_count": null,
   "id": "0e4ef2ca",
   "metadata": {},
   "outputs": [],
   "source": []
  },
  {
   "cell_type": "code",
   "execution_count": 28,
   "id": "68b0581a",
   "metadata": {},
   "outputs": [
    {
     "name": "stdout",
     "output_type": "stream",
     "text": [
      "5\n",
      "1\n",
      "2\n",
      "3\n",
      "4\n",
      "5\n"
     ]
    }
   ],
   "source": [
    "# Print all numbers from 1 to N\n",
    "\n",
    "N = int(input())\n",
    "\n",
    "for i in range(1, N+1):\n",
    "    print(i)"
   ]
  },
  {
   "cell_type": "code",
   "execution_count": null,
   "id": "3858eafd",
   "metadata": {},
   "outputs": [],
   "source": []
  },
  {
   "cell_type": "code",
   "execution_count": 31,
   "id": "e49392e4",
   "metadata": {},
   "outputs": [
    {
     "name": "stdout",
     "output_type": "stream",
     "text": [
      "3\n",
      "Final sum = 6\n"
     ]
    }
   ],
   "source": [
    "# Calculate sum of all numbers from 1 to N\n",
    "\n",
    "N = int(input())\n",
    "s = 0\n",
    "\n",
    "for i in range(1, N+1):\n",
    "    s = s + i\n",
    "    \n",
    "print(\"Final sum =\", s)"
   ]
  },
  {
   "cell_type": "code",
   "execution_count": null,
   "id": "428a2389",
   "metadata": {},
   "outputs": [],
   "source": []
  },
  {
   "cell_type": "code",
   "execution_count": null,
   "id": "9bfcaf31",
   "metadata": {},
   "outputs": [],
   "source": []
  },
  {
   "cell_type": "code",
   "execution_count": null,
   "id": "0f2176a1",
   "metadata": {},
   "outputs": [],
   "source": []
  },
  {
   "cell_type": "code",
   "execution_count": null,
   "id": "2e7046ae",
   "metadata": {},
   "outputs": [],
   "source": []
  },
  {
   "cell_type": "code",
   "execution_count": null,
   "id": "9cfe40c1",
   "metadata": {},
   "outputs": [],
   "source": []
  },
  {
   "cell_type": "code",
   "execution_count": null,
   "id": "4da853d6",
   "metadata": {},
   "outputs": [],
   "source": []
  },
  {
   "cell_type": "markdown",
   "id": "70b393da",
   "metadata": {},
   "source": [
    "# Bonus Reading Material\n",
    "- Print in Python - https://www.scaler.com/topics/print-in-python/\n",
    "- While Loop in Python - https://www.scaler.com/topics/python/while-loop-in-python/\n",
    "- Range Function in Python - https://www.scaler.com/topics/range-function-in-python/\n",
    "- For Loop in Python - https://www.scaler.com/topics/python/for-loop-in-python/\n",
    "- Sum of First n Even Numbers - https://www.scaler.com/topics/sum-of-first-n-even-numbers/\n",
    "- Sum of Digits of a Number in Python - https://www.scaler.com/topics/sum-of-digits-of-a-number-in-python/\n",
    "- Sum of n Natural Numbers in Python - https://www.scaler.com/topics/sum-of-n-natural-numbers-in-python/\n",
    "- Sum of First N Natural Numbers - https://www.scaler.com/topics/sum-of-n-natural-numbers/\n"
   ]
  },
  {
   "cell_type": "code",
   "execution_count": null,
   "id": "0916a271",
   "metadata": {},
   "outputs": [],
   "source": []
  },
  {
   "cell_type": "code",
   "execution_count": null,
   "id": "90235592",
   "metadata": {},
   "outputs": [],
   "source": []
  },
  {
   "cell_type": "code",
   "execution_count": null,
   "id": "358c11f1",
   "metadata": {},
   "outputs": [],
   "source": []
  },
  {
   "cell_type": "markdown",
   "id": "6965d0ed",
   "metadata": {},
   "source": [
    "# Doubts"
   ]
  },
  {
   "cell_type": "code",
   "execution_count": 32,
   "id": "15077bad",
   "metadata": {},
   "outputs": [
    {
     "name": "stdout",
     "output_type": "stream",
     "text": [
      "Help on class range in module builtins:\n",
      "\n",
      "class range(object)\n",
      " |  range(stop) -> range object\n",
      " |  range(start, stop[, step]) -> range object\n",
      " |  \n",
      " |  Return an object that produces a sequence of integers from start (inclusive)\n",
      " |  to stop (exclusive) by step.  range(i, j) produces i, i+1, i+2, ..., j-1.\n",
      " |  start defaults to 0, and stop is omitted!  range(4) produces 0, 1, 2, 3.\n",
      " |  These are exactly the valid indices for a list of 4 elements.\n",
      " |  When step is given, it specifies the increment (or decrement).\n",
      " |  \n",
      " |  Methods defined here:\n",
      " |  \n",
      " |  __bool__(self, /)\n",
      " |      True if self else False\n",
      " |  \n",
      " |  __contains__(self, key, /)\n",
      " |      Return key in self.\n",
      " |  \n",
      " |  __eq__(self, value, /)\n",
      " |      Return self==value.\n",
      " |  \n",
      " |  __ge__(self, value, /)\n",
      " |      Return self>=value.\n",
      " |  \n",
      " |  __getattribute__(self, name, /)\n",
      " |      Return getattr(self, name).\n",
      " |  \n",
      " |  __getitem__(self, key, /)\n",
      " |      Return self[key].\n",
      " |  \n",
      " |  __gt__(self, value, /)\n",
      " |      Return self>value.\n",
      " |  \n",
      " |  __hash__(self, /)\n",
      " |      Return hash(self).\n",
      " |  \n",
      " |  __iter__(self, /)\n",
      " |      Implement iter(self).\n",
      " |  \n",
      " |  __le__(self, value, /)\n",
      " |      Return self<=value.\n",
      " |  \n",
      " |  __len__(self, /)\n",
      " |      Return len(self).\n",
      " |  \n",
      " |  __lt__(self, value, /)\n",
      " |      Return self<value.\n",
      " |  \n",
      " |  __ne__(self, value, /)\n",
      " |      Return self!=value.\n",
      " |  \n",
      " |  __reduce__(...)\n",
      " |      Helper for pickle.\n",
      " |  \n",
      " |  __repr__(self, /)\n",
      " |      Return repr(self).\n",
      " |  \n",
      " |  __reversed__(...)\n",
      " |      Return a reverse iterator.\n",
      " |  \n",
      " |  count(...)\n",
      " |      rangeobject.count(value) -> integer -- return number of occurrences of value\n",
      " |  \n",
      " |  index(...)\n",
      " |      rangeobject.index(value) -> integer -- return index of value.\n",
      " |      Raise ValueError if the value is not present.\n",
      " |  \n",
      " |  ----------------------------------------------------------------------\n",
      " |  Static methods defined here:\n",
      " |  \n",
      " |  __new__(*args, **kwargs) from builtins.type\n",
      " |      Create and return a new object.  See help(type) for accurate signature.\n",
      " |  \n",
      " |  ----------------------------------------------------------------------\n",
      " |  Data descriptors defined here:\n",
      " |  \n",
      " |  start\n",
      " |  \n",
      " |  step\n",
      " |  \n",
      " |  stop\n",
      "\n"
     ]
    }
   ],
   "source": [
    "help(range)"
   ]
  },
  {
   "cell_type": "code",
   "execution_count": 34,
   "id": "750ff011",
   "metadata": {},
   "outputs": [
    {
     "name": "stdout",
     "output_type": "stream",
     "text": [
      "10\n",
      "\n",
      "       *\n",
      "      *\n",
      "     *\n",
      "    *\n",
      "   *\n",
      "  *\n",
      " *\n",
      "*\n",
      "\n"
     ]
    }
   ],
   "source": [
    "N = int(input())\n",
    "for i in range(N, 0, -1):\n",
    "    if i == N or i == 1:\n",
    "        print('' * i)\n",
    "    else:\n",
    "        print('' + ' ' * (i - 2) + '*')"
   ]
  },
  {
   "cell_type": "code",
   "execution_count": null,
   "id": "4c749403",
   "metadata": {},
   "outputs": [],
   "source": [
    "# Next class = Nested Loops"
   ]
  },
  {
   "cell_type": "code",
   "execution_count": null,
   "id": "4c8ef3bc",
   "metadata": {},
   "outputs": [],
   "source": []
  },
  {
   "cell_type": "code",
   "execution_count": null,
   "id": "4fdab284",
   "metadata": {},
   "outputs": [],
   "source": []
  },
  {
   "cell_type": "code",
   "execution_count": 35,
   "id": "282bcd2f",
   "metadata": {},
   "outputs": [
    {
     "ename": "TypeError",
     "evalue": "'str' object cannot be interpreted as an integer",
     "output_type": "error",
     "traceback": [
      "\u001b[0;31m---------------------------------------------------------------------------\u001b[0m",
      "\u001b[0;31mTypeError\u001b[0m                                 Traceback (most recent call last)",
      "\u001b[0;32m/var/folders/jn/1bsrct314hv5xmfm7vrcdrzc0000gn/T/ipykernel_4612/3249432131.py\u001b[0m in \u001b[0;36m<module>\u001b[0;34m\u001b[0m\n\u001b[0;32m----> 1\u001b[0;31m \u001b[0mprint\u001b[0m\u001b[0;34m(\u001b[0m\u001b[0;34m*\u001b[0m\u001b[0mrange\u001b[0m\u001b[0;34m(\u001b[0m\u001b[0;34m'a'\u001b[0m\u001b[0;34m,\u001b[0m\u001b[0;34m'b'\u001b[0m\u001b[0;34m)\u001b[0m\u001b[0;34m)\u001b[0m\u001b[0;34m\u001b[0m\u001b[0;34m\u001b[0m\u001b[0m\n\u001b[0m",
      "\u001b[0;31mTypeError\u001b[0m: 'str' object cannot be interpreted as an integer"
     ]
    }
   ],
   "source": [
    "print(*range('a','b'))"
   ]
  },
  {
   "cell_type": "code",
   "execution_count": 36,
   "id": "5c0daba1",
   "metadata": {},
   "outputs": [],
   "source": [
    "# AWS - AWS account only - for now personal free tier account.\n",
    "# K8s - Alpine/Ubuntu linux , most probably alpine."
   ]
  },
  {
   "cell_type": "code",
   "execution_count": null,
   "id": "38c7629e",
   "metadata": {},
   "outputs": [],
   "source": []
  }
 ],
 "metadata": {
  "kernelspec": {
   "display_name": "Python 3 (ipykernel)",
   "language": "python",
   "name": "python3"
  },
  "language_info": {
   "codemirror_mode": {
    "name": "ipython",
    "version": 3
   },
   "file_extension": ".py",
   "mimetype": "text/x-python",
   "name": "python",
   "nbconvert_exporter": "python",
   "pygments_lexer": "ipython3",
   "version": "3.9.18"
  }
 },
 "nbformat": 4,
 "nbformat_minor": 5
}
